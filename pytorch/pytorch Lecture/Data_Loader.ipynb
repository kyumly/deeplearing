{
 "cells": [
  {
   "cell_type": "code",
   "execution_count": 2,
   "outputs": [],
   "source": [
    "import torch\n",
    "import numpy as np\n",
    "import torch.nn as nn\n",
    "import torch.nn.functional as f\n",
    "from torch.utils.data import DataLoader, Dataset"
   ],
   "metadata": {
    "collapsed": false,
    "pycharm": {
     "name": "#%%\n"
    }
   }
  },
  {
   "cell_type": "code",
   "execution_count": 123,
   "outputs": [],
   "source": [
    "class my_Dataset(Dataset):\n",
    "    def __init__(self, dataset : np):\n",
    "        xy = dataset\n",
    "        self.len = xy.shape[0]\n",
    "        self.x_data = torch.Tensor(torch.from_numpy(xy[:, 0:-1]))\n",
    "        self.y_data = torch.Tensor(xy[:, [-1]])\n",
    "    def __getitem__(self, index):\n",
    "        return self.x_data[index], self.y_data[index]\n",
    "    def __len__(self):\n",
    "        return self.len"
   ],
   "metadata": {
    "collapsed": false,
    "pycharm": {
     "name": "#%%\n"
    }
   }
  },
  {
   "cell_type": "code",
   "execution_count": 124,
   "outputs": [],
   "source": [
    "xy = np.loadtxt('data/diabetes.csv.gz', delimiter=',', dtype='float32')\n",
    "dataset = my_Dataset(xy)"
   ],
   "metadata": {
    "collapsed": false,
    "pycharm": {
     "name": "#%%\n"
    }
   }
  },
  {
   "cell_type": "code",
   "execution_count": 125,
   "outputs": [],
   "source": [
    "train_loader = DataLoader(dataset, batch_size=32, shuffle=True)"
   ],
   "metadata": {
    "collapsed": false,
    "pycharm": {
     "name": "#%%\n"
    }
   }
  },
  {
   "cell_type": "code",
   "execution_count": 126,
   "outputs": [],
   "source": [
    "class My_Model(nn.Module):\n",
    "    def __init__(self):\n",
    "        super().__init__()\n",
    "        self.fc1 = nn.Linear(8,6)\n",
    "        self.fc2 = nn.Linear(6,4)\n",
    "        self.fc3 = nn.Linear(4,1)\n",
    "\n",
    "        self.sigmoid = nn.Sigmoid()\n",
    "\n",
    "\n",
    "    def forward(self, x):\n",
    "        out1 = f.sigmoid(self.fc1(x))\n",
    "        out2 = f.sigmoid(self.fc2(out1))\n",
    "        out3 = f.sigmoid(self.fc3(out2))\n",
    "\n",
    "\n",
    "        return out3\n"
   ],
   "metadata": {
    "collapsed": false,
    "pycharm": {
     "name": "#%%\n"
    }
   }
  },
  {
   "cell_type": "code",
   "execution_count": 127,
   "outputs": [],
   "source": [
    "model = My_Model()\n",
    "\n",
    "criteria = torch.nn.BCELoss(size_average=True)\n",
    "optim = torch.optim.SGD(model.parameters(), lr=0.1)"
   ],
   "metadata": {
    "collapsed": false,
    "pycharm": {
     "name": "#%%\n"
    }
   }
  },
  {
   "cell_type": "code",
   "execution_count": 130,
   "outputs": [
    {
     "name": "stdout",
     "output_type": "stream",
     "text": [
      "1 에포크 시작\n",
      "1 배치 훈련 중\n",
      "배치 사이즈 : 1, 에포크 : 1, 손실도 : 0.626510739326477\n",
      "2 배치 훈련 중\n",
      "배치 사이즈 : 1, 에포크 : 2, 손실도 : 0.6438295841217041\n",
      "3 배치 훈련 중\n",
      "배치 사이즈 : 1, 에포크 : 3, 손실도 : 0.6260210275650024\n",
      "4 배치 훈련 중\n",
      "배치 사이즈 : 1, 에포크 : 4, 손실도 : 0.71755450963974\n",
      "5 배치 훈련 중\n",
      "배치 사이즈 : 1, 에포크 : 5, 손실도 : 0.5561509132385254\n",
      "6 배치 훈련 중\n",
      "배치 사이즈 : 1, 에포크 : 6, 손실도 : 0.6624913811683655\n",
      "7 배치 훈련 중\n",
      "배치 사이즈 : 1, 에포크 : 7, 손실도 : 0.6623735427856445\n",
      "8 배치 훈련 중\n",
      "배치 사이즈 : 1, 에포크 : 8, 손실도 : 0.6620907187461853\n",
      "9 배치 훈련 중\n",
      "배치 사이즈 : 1, 에포크 : 9, 손실도 : 0.6985068917274475\n",
      "10 배치 훈련 중\n",
      "배치 사이즈 : 1, 에포크 : 10, 손실도 : 0.6083959341049194\n",
      "11 배치 훈련 중\n",
      "배치 사이즈 : 1, 에포크 : 11, 손실도 : 0.6437781453132629\n",
      "12 배치 훈련 중\n",
      "배치 사이즈 : 1, 에포크 : 12, 손실도 : 0.62521892786026\n",
      "13 배치 훈련 중\n",
      "배치 사이즈 : 1, 에포크 : 13, 손실도 : 0.5685024261474609\n",
      "14 배치 훈련 중\n",
      "배치 사이즈 : 1, 에포크 : 14, 손실도 : 0.6433357000350952\n",
      "15 배치 훈련 중\n",
      "배치 사이즈 : 1, 에포크 : 15, 손실도 : 0.6628841757774353\n",
      "16 배치 훈련 중\n",
      "배치 사이즈 : 1, 에포크 : 16, 손실도 : 0.5842310786247253\n",
      "17 배치 훈련 중\n",
      "배치 사이즈 : 1, 에포크 : 17, 손실도 : 0.8049839735031128\n",
      "18 배치 훈련 중\n",
      "배치 사이즈 : 1, 에포크 : 18, 손실도 : 0.6066049933433533\n",
      "19 배치 훈련 중\n",
      "배치 사이즈 : 1, 에포크 : 19, 손실도 : 0.6622117757797241\n",
      "20 배치 훈련 중\n",
      "배치 사이즈 : 1, 에포크 : 20, 손실도 : 0.7376564145088196\n",
      "21 배치 훈련 중\n",
      "배치 사이즈 : 1, 에포크 : 21, 손실도 : 0.5723887085914612\n",
      "22 배치 훈련 중\n",
      "배치 사이즈 : 1, 에포크 : 22, 손실도 : 0.6249275803565979\n",
      "23 배치 훈련 중\n",
      "배치 사이즈 : 1, 에포크 : 23, 손실도 : 0.6813263893127441\n",
      "24 배치 훈련 중\n",
      "배치 사이즈 : 1, 에포크 : 24, 손실도 : 0.6199004054069519\n",
      "1 에포크 종료\n",
      "2 에포크 시작\n",
      "1 배치 훈련 중\n",
      "배치 사이즈 : 2, 에포크 : 1, 손실도 : 0.5289173722267151\n",
      "2 배치 훈련 중\n",
      "배치 사이즈 : 2, 에포크 : 2, 손실도 : 0.5000945329666138\n",
      "3 배치 훈련 중\n",
      "배치 사이즈 : 2, 에포크 : 3, 손실도 : 0.6658888459205627\n",
      "4 배치 훈련 중\n",
      "배치 사이즈 : 2, 에포크 : 4, 손실도 : 0.6866081953048706\n",
      "5 배치 훈련 중\n",
      "배치 사이즈 : 2, 에포크 : 5, 손실도 : 0.6642364859580994\n",
      "6 배치 훈련 중\n",
      "배치 사이즈 : 2, 에포크 : 6, 손실도 : 0.7264572978019714\n",
      "7 배치 훈련 중\n",
      "배치 사이즈 : 2, 에포크 : 7, 손실도 : 0.6636263728141785\n",
      "8 배치 훈련 중\n",
      "배치 사이즈 : 2, 에포크 : 8, 손실도 : 0.6825238466262817\n",
      "9 배치 훈련 중\n",
      "배치 사이즈 : 2, 에포크 : 9, 손실도 : 0.6238420605659485\n",
      "10 배치 훈련 중\n",
      "배치 사이즈 : 2, 에포크 : 10, 손실도 : 0.6433825492858887\n",
      "11 배치 훈련 중\n",
      "배치 사이즈 : 2, 에포크 : 11, 손실도 : 0.6433605551719666\n",
      "12 배치 훈련 중\n",
      "배치 사이즈 : 2, 에포크 : 12, 손실도 : 0.6826149821281433\n",
      "13 배치 훈련 중\n",
      "배치 사이즈 : 2, 에포크 : 13, 손실도 : 0.6239514350891113\n",
      "14 배치 훈련 중\n",
      "배치 사이즈 : 2, 에포크 : 14, 손실도 : 0.6041072010993958\n",
      "15 배치 훈련 중\n",
      "배치 사이즈 : 2, 에포크 : 15, 손실도 : 0.6632775068283081\n",
      "16 배치 훈련 중\n",
      "배치 사이즈 : 2, 에포크 : 16, 손실도 : 0.6630653142929077\n",
      "17 배치 훈련 중\n",
      "배치 사이즈 : 2, 에포크 : 17, 손실도 : 0.6825836300849915\n",
      "18 배치 훈련 중\n",
      "배치 사이즈 : 2, 에포크 : 18, 손실도 : 0.6433336734771729\n",
      "19 배치 훈련 중\n",
      "배치 사이즈 : 2, 에포크 : 19, 손실도 : 0.6627194285392761\n",
      "20 배치 훈련 중\n",
      "배치 사이즈 : 2, 에포크 : 20, 손실도 : 0.6629201173782349\n",
      "21 배치 훈련 중\n",
      "배치 사이즈 : 2, 에포크 : 21, 손실도 : 0.7003697752952576\n",
      "22 배치 훈련 중\n",
      "배치 사이즈 : 2, 에포크 : 22, 손실도 : 0.6622340083122253\n",
      "23 배치 훈련 중\n",
      "배치 사이즈 : 2, 에포크 : 23, 손실도 : 0.6255736351013184\n",
      "24 배치 훈련 중\n",
      "배치 사이즈 : 2, 에포크 : 24, 손실도 : 0.5681470036506653\n",
      "2 에포크 종료\n",
      "3 에포크 시작\n",
      "1 배치 훈련 중\n",
      "배치 사이즈 : 3, 에포크 : 1, 손실도 : 0.6431485414505005\n",
      "2 배치 훈련 중\n",
      "배치 사이즈 : 3, 에포크 : 2, 손실도 : 0.6432194709777832\n",
      "3 배치 훈련 중\n",
      "배치 사이즈 : 3, 에포크 : 3, 손실도 : 0.6626846790313721\n",
      "4 배치 훈련 중\n",
      "배치 사이즈 : 3, 에포크 : 4, 손실도 : 0.585159420967102\n",
      "5 배치 훈련 중\n",
      "배치 사이즈 : 3, 에포크 : 5, 손실도 : 0.6634796261787415\n",
      "6 배치 훈련 중\n",
      "배치 사이즈 : 3, 에포크 : 6, 손실도 : 0.6231979727745056\n",
      "7 배치 훈련 중\n",
      "배치 사이즈 : 3, 에포크 : 7, 손실도 : 0.5630568265914917\n",
      "8 배치 훈련 중\n",
      "배치 사이즈 : 3, 에포크 : 8, 손실도 : 0.6851016283035278\n",
      "9 배치 훈련 중\n",
      "배치 사이즈 : 3, 에포크 : 9, 손실도 : 0.6641793251037598\n",
      "10 배치 훈련 중\n",
      "배치 사이즈 : 3, 에포크 : 10, 손실도 : 0.6228521466255188\n",
      "11 배치 훈련 중\n",
      "배치 사이즈 : 3, 에포크 : 11, 손실도 : 0.6230649948120117\n",
      "12 배치 훈련 중\n",
      "배치 사이즈 : 3, 에포크 : 12, 손실도 : 0.7256838083267212\n",
      "13 배치 훈련 중\n",
      "배치 사이즈 : 3, 에포크 : 13, 손실도 : 0.6631113290786743\n",
      "14 배치 훈련 중\n",
      "배치 사이즈 : 3, 에포크 : 14, 손실도 : 0.6630201935768127\n",
      "15 배치 훈련 중\n",
      "배치 사이즈 : 3, 에포크 : 15, 손실도 : 0.6240484118461609\n",
      "16 배치 훈련 중\n",
      "배치 사이즈 : 3, 에포크 : 16, 손실도 : 0.5646872520446777\n",
      "17 배치 훈련 중\n",
      "배치 사이즈 : 3, 에포크 : 17, 손실도 : 0.6634095907211304\n",
      "18 배치 훈련 중\n",
      "배치 사이즈 : 3, 에포크 : 18, 손실도 : 0.6231294870376587\n",
      "19 배치 훈련 중\n",
      "배치 사이즈 : 3, 에포크 : 19, 손실도 : 0.7462964057922363\n",
      "20 배치 훈련 중\n",
      "배치 사이즈 : 3, 에포크 : 20, 손실도 : 0.6236299276351929\n",
      "21 배치 훈련 중\n",
      "배치 사이즈 : 3, 에포크 : 21, 손실도 : 0.6432944536209106\n",
      "22 배치 훈련 중\n",
      "배치 사이즈 : 3, 에포크 : 22, 손실도 : 0.6827571392059326\n",
      "23 배치 훈련 중\n",
      "배치 사이즈 : 3, 에포크 : 23, 손실도 : 0.6240031719207764\n",
      "24 배치 훈련 중\n",
      "배치 사이즈 : 3, 에포크 : 24, 손실도 : 0.6727288961410522\n",
      "3 에포크 종료\n"
     ]
    }
   ],
   "source": [
    "losses = []\n",
    "epoch_index = 0\n",
    "for epoch in range(3):\n",
    "    print(f\"{epoch + 1} 에포크 시작\")\n",
    "    for i, data in enumerate(train_loader,0):\n",
    "        epoch_index += 1\n",
    "        inputs, label = data\n",
    "        print(f\"{i+1} 배치 훈련 중\")\n",
    "        inputs, label = torch.Tensor(inputs), torch.Tensor(label)\n",
    "        y_pred = model(inputs)\n",
    "\n",
    "        loss = criteria(y_pred, label)\n",
    "        losses.append(loss.data.item())\n",
    "        print(f\"배치 사이즈 : {epoch+1}, 에포크 : {i+1}, 손실도 : {loss.data}\")\n",
    "\n",
    "        optim.zero_grad()\n",
    "        loss.backward()\n",
    "        optim.step()\n",
    "    print(f\"{epoch + 1} 에포크 종료\")"
   ],
   "metadata": {
    "collapsed": false,
    "pycharm": {
     "name": "#%%\n"
    }
   }
  },
  {
   "cell_type": "code",
   "execution_count": 129,
   "outputs": [
    {
     "data": {
      "text/plain": "<Figure size 432x288 with 1 Axes>",
      "image/png": "[encoded data removed]"
     },
     "metadata": {},
     "output_type": "display_data"
    }
   ],
   "source": [
    "import matplotlib.pyplot as plt\n",
    "\n",
    "plt.plot(range(epoch_index), losses)\n",
    "plt.show()"
   ],
   "metadata": {
    "collapsed": false,
    "pycharm": {
     "name": "#%%\n"
    }
   }
  },
  {
   "cell_type": "code",
   "execution_count": 129,
   "outputs": [],
   "source": [],
   "metadata": {
    "collapsed": false,
    "pycharm": {
     "name": "#%%\n"
    }
   }
  }
 ],
 "metadata": {
  "kernelspec": {
   "display_name": "Python 3",
   "language": "python",
   "name": "python3"
  },
  "language_info": {
   "codemirror_mode": {
    "name": "ipython",
    "version": 2
   },
   "file_extension": ".py",
   "mimetype": "text/x-python",
   "name": "python",
   "nbconvert_exporter": "python",
   "pygments_lexer": "ipython2",
   "version": "2.7.6"
  }
 },
 "nbformat": 4,
 "nbformat_minor": 0
}