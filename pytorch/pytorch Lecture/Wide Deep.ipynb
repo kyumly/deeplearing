{
 "cells": [
  {
   "cell_type": "code",
   "execution_count": 25,
   "outputs": [
    {
     "data": {
      "text/plain": "(759, 9)"
     },
     "execution_count": 25,
     "metadata": {},
     "output_type": "execute_result"
    }
   ],
   "source": [
    "import numpy as np\n",
    "import torch\n",
    "import torch.nn as nn\n",
    "import torch.nn.functional as f\n",
    "\n",
    "xy = np.loadtxt('data/diabetes.csv.gz', delimiter=',', dtype='float32')\n",
    "\n",
    "xy.shape\n"
   ],
   "metadata": {
    "collapsed": false,
    "pycharm": {
     "name": "#%%\n"
    }
   }
  },
  {
   "cell_type": "code",
   "execution_count": 26,
   "outputs": [],
   "source": [
    "x_data = torch.Tensor(torch.from_numpy(xy[:, 0:-1]))\n",
    "y_data = torch.Tensor(xy[:, [-1]])"
   ],
   "metadata": {
    "collapsed": false,
    "pycharm": {
     "name": "#%%\n"
    }
   }
  },
  {
   "cell_type": "code",
   "execution_count": 27,
   "outputs": [
    {
     "data": {
      "text/plain": "torch.Size([759, 1])"
     },
     "execution_count": 27,
     "metadata": {},
     "output_type": "execute_result"
    }
   ],
   "source": [
    "y_data.shape"
   ],
   "metadata": {
    "collapsed": false,
    "pycharm": {
     "name": "#%%\n"
    }
   }
  },
  {
   "cell_type": "code",
   "execution_count": 28,
   "outputs": [
    {
     "data": {
      "text/plain": "torch.Size([759, 8])"
     },
     "execution_count": 28,
     "metadata": {},
     "output_type": "execute_result"
    }
   ],
   "source": [
    "x_data.shape"
   ],
   "metadata": {
    "collapsed": false,
    "pycharm": {
     "name": "#%%\n"
    }
   }
  },
  {
   "cell_type": "code",
   "execution_count": 29,
   "outputs": [],
   "source": [
    "class My_Model(nn.Module):\n",
    "    def __init__(self):\n",
    "        super().__init__()\n",
    "        self.fc1 = nn.Linear(8,6)\n",
    "        self.fc2 = nn.Linear(6,4)\n",
    "        self.fc3 = nn.Linear(4,1)\n",
    "\n",
    "        self.sigmoid = nn.Sigmoid()\n",
    "\n",
    "\n",
    "    def forward(self, x):\n",
    "        out1 = f.sigmoid(self.fc1(x))\n",
    "        out2 = f.sigmoid(self.fc2(out1))\n",
    "        out3 = f.sigmoid(self.fc3(out2))\n",
    "\n",
    "\n",
    "        return out3\n"
   ],
   "metadata": {
    "collapsed": false,
    "pycharm": {
     "name": "#%%\n"
    }
   }
  },
  {
   "cell_type": "code",
   "execution_count": 30,
   "outputs": [],
   "source": [
    "model = My_Model()\n",
    "\n",
    "criteria = torch.nn.BCELoss(size_average=True)\n",
    "optim = torch.optim.SGD(model.parameters(), lr=0.1)"
   ],
   "metadata": {
    "collapsed": false,
    "pycharm": {
     "name": "#%%\n"
    }
   }
  },
  {
   "cell_type": "code",
   "execution_count": 31,
   "outputs": [
    {
     "name": "stdout",
     "output_type": "stream",
     "text": [
      "loss :  tensor(0.7348)\n",
      "loss :  tensor(0.7267)\n",
      "loss :  tensor(0.7193)\n",
      "loss :  tensor(0.7126)\n",
      "loss :  tensor(0.7065)\n",
      "loss :  tensor(0.7010)\n",
      "loss :  tensor(0.6960)\n",
      "loss :  tensor(0.6914)\n",
      "loss :  tensor(0.6873)\n",
      "loss :  tensor(0.6835)\n",
      "loss :  tensor(0.6800)\n",
      "loss :  tensor(0.6769)\n",
      "loss :  tensor(0.6741)\n",
      "loss :  tensor(0.6715)\n",
      "loss :  tensor(0.6691)\n",
      "loss :  tensor(0.6670)\n",
      "loss :  tensor(0.6650)\n",
      "loss :  tensor(0.6633)\n",
      "loss :  tensor(0.6616)\n",
      "loss :  tensor(0.6602)\n",
      "loss :  tensor(0.6588)\n",
      "loss :  tensor(0.6576)\n",
      "loss :  tensor(0.6565)\n",
      "loss :  tensor(0.6554)\n",
      "loss :  tensor(0.6545)\n",
      "loss :  tensor(0.6537)\n",
      "loss :  tensor(0.6529)\n",
      "loss :  tensor(0.6522)\n",
      "loss :  tensor(0.6515)\n",
      "loss :  tensor(0.6509)\n",
      "loss :  tensor(0.6504)\n",
      "loss :  tensor(0.6499)\n",
      "loss :  tensor(0.6494)\n",
      "loss :  tensor(0.6490)\n",
      "loss :  tensor(0.6486)\n",
      "loss :  tensor(0.6483)\n",
      "loss :  tensor(0.6480)\n",
      "loss :  tensor(0.6477)\n",
      "loss :  tensor(0.6474)\n",
      "loss :  tensor(0.6472)\n",
      "loss :  tensor(0.6470)\n",
      "loss :  tensor(0.6468)\n",
      "loss :  tensor(0.6466)\n",
      "loss :  tensor(0.6464)\n",
      "loss :  tensor(0.6462)\n",
      "loss :  tensor(0.6461)\n",
      "loss :  tensor(0.6460)\n",
      "loss :  tensor(0.6458)\n",
      "loss :  tensor(0.6457)\n",
      "loss :  tensor(0.6456)\n",
      "loss :  tensor(0.6455)\n",
      "loss :  tensor(0.6455)\n",
      "loss :  tensor(0.6454)\n",
      "loss :  tensor(0.6453)\n",
      "loss :  tensor(0.6452)\n",
      "loss :  tensor(0.6452)\n",
      "loss :  tensor(0.6451)\n",
      "loss :  tensor(0.6451)\n",
      "loss :  tensor(0.6450)\n",
      "loss :  tensor(0.6450)\n",
      "loss :  tensor(0.6449)\n",
      "loss :  tensor(0.6449)\n",
      "loss :  tensor(0.6449)\n",
      "loss :  tensor(0.6448)\n",
      "loss :  tensor(0.6448)\n",
      "loss :  tensor(0.6448)\n",
      "loss :  tensor(0.6448)\n",
      "loss :  tensor(0.6447)\n",
      "loss :  tensor(0.6447)\n",
      "loss :  tensor(0.6447)\n",
      "loss :  tensor(0.6447)\n",
      "loss :  tensor(0.6447)\n",
      "loss :  tensor(0.6447)\n",
      "loss :  tensor(0.6446)\n",
      "loss :  tensor(0.6446)\n",
      "loss :  tensor(0.6446)\n",
      "loss :  tensor(0.6446)\n",
      "loss :  tensor(0.6446)\n",
      "loss :  tensor(0.6446)\n",
      "loss :  tensor(0.6446)\n",
      "loss :  tensor(0.6446)\n",
      "loss :  tensor(0.6446)\n",
      "loss :  tensor(0.6446)\n",
      "loss :  tensor(0.6445)\n",
      "loss :  tensor(0.6445)\n",
      "loss :  tensor(0.6445)\n",
      "loss :  tensor(0.6445)\n",
      "loss :  tensor(0.6445)\n",
      "loss :  tensor(0.6445)\n",
      "loss :  tensor(0.6445)\n",
      "loss :  tensor(0.6445)\n",
      "loss :  tensor(0.6445)\n",
      "loss :  tensor(0.6445)\n",
      "loss :  tensor(0.6445)\n",
      "loss :  tensor(0.6445)\n",
      "loss :  tensor(0.6445)\n",
      "loss :  tensor(0.6445)\n",
      "loss :  tensor(0.6445)\n",
      "loss :  tensor(0.6445)\n",
      "loss :  tensor(0.6445)\n"
     ]
    }
   ],
   "source": [
    "losses = []\n",
    "\n",
    "for epoch in range(100):\n",
    "    y_pred = model(x_data)\n",
    "    loss = criteria(y_pred, y_data)\n",
    "    print('loss : ' , loss.data)\n",
    "    losses.append(loss.data.item())\n",
    "\n",
    "    optim.zero_grad()\n",
    "    loss.backward()\n",
    "    optim.step()"
   ],
   "metadata": {
    "collapsed": false,
    "pycharm": {
     "name": "#%%\n"
    }
   }
  },
  {
   "cell_type": "code",
   "execution_count": 32,
   "outputs": [
    {
     "data": {
      "text/plain": "<Figure size 432x288 with 1 Axes>",
      "image/png": "[encoded data removed]"
     },
     "metadata": {
      "needs_background": "light"
     },
     "output_type": "display_data"
    }
   ],
   "source": [
    "import matplotlib.pyplot as plt\n",
    "\n",
    "plt.plot(range(100), losses)\n",
    "plt.show()"
   ],
   "metadata": {
    "collapsed": false,
    "pycharm": {
     "name": "#%%\n"
    }
   }
  },
  {
   "cell_type": "code",
   "execution_count": 32,
   "outputs": [],
   "source": [],
   "metadata": {
    "collapsed": false,
    "pycharm": {
     "name": "#%%\n"
    }
   }
  }
 ],
 "metadata": {
  "kernelspec": {
   "display_name": "Python 3",
   "language": "python",
   "name": "python3"
  },
  "language_info": {
   "codemirror_mode": {
    "name": "ipython",
    "version": 2
   },
   "file_extension": ".py",
   "mimetype": "text/x-python",
   "name": "python",
   "nbconvert_exporter": "python",
   "pygments_lexer": "ipython2",
   "version": "2.7.6"
  }
 },
 "nbformat": 4,
 "nbformat_minor": 0
}