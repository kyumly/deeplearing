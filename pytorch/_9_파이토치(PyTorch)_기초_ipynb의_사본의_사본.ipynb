{
 "nbformat": 4,
 "nbformat_minor": 0,
 "metadata": {
  "colab": {
   "name": "_9 파이토치(PyTorch) 기초.ipynb의 사본의 사본",
   "provenance": [],
   "collapsed_sections": []
  },
  "kernelspec": {
   "name": "python3",
   "display_name": "Python 3"
  },
  "accelerator": "GPU"
 },
 "cells": [
  {
   "cell_type": "markdown",
   "metadata": {
    "id": "f9Xx-jP92OgP",
    "pycharm": {
     "name": "#%% md\n"
    }
   },
   "source": [
    "# 파이토치(PyTorch)\n",
    "\n",
    "<img src=\"https://img1.daumcdn.net/thumb/R800x0/?scode=mtistory2&fname=https%3A%2F%2Fblog.kakaocdn.net%2Fdn%2FbuUgoV%2FbtqwWZvcHHX%2Fd6XzIFBEfiuFb0UvyV4A50%2Fimg.jpg\" width=\"300\">\n",
    "\n",
    "- 코드 출처: https://pytorch.org/tutorials/"
   ]
  },
  {
   "cell_type": "markdown",
   "metadata": {
    "id": "3cxreguz2sL0",
    "pycharm": {
     "name": "#%% md\n"
    }
   },
   "source": [
    "## 파이토치의 구성요소\n",
    "\n",
    "- `torch`: 텐서를 생성하는 라이브러리\n",
    "\n",
    "- `torch.autograd`: 자동미분 기능을 제공하는 라이브러리\n",
    "\n",
    "- `torch.nn`: 신경망을 생성하는 라이브러리\n",
    "\n",
    "- `torch.multiprocessing`: 병럴처리 기능을 제공하는 라이브러리\n",
    "\n",
    "- `torch.utils`: 데이터 조작 등 유틸리티 기능 제공\n",
    "\n",
    "- `torch.legacy`(./nn/.optim): Torch로부터 포팅해온 코드\n",
    "\n",
    "- `torch.onnx`: ONNX(Open Neural Network Exchange)\n",
    "\n",
    "  - 서로 다른 프레임워크 간의 모델을 공유할 때 사용"
   ]
  },
  {
   "cell_type": "markdown",
   "metadata": {
    "id": "gb5O_aSvtHvb",
    "pycharm": {
     "name": "#%% md\n"
    }
   },
   "source": [
    "## 텐서(Tensors)\n",
    "- 넘파이(NumPy)의 ndarray와 유사\n",
    "\n",
    "- GPU를 사용한 연산 가속도 가능"
   ]
  },
  {
   "cell_type": "code",
   "metadata": {
    "id": "CmKIvnx0s8G6",
    "pycharm": {
     "name": "#%%\n"
    }
   },
   "source": [
    "import numpy as np\n",
    "import pytorch\n",
    "import torch\n",
    "torch.__version__"
   ],
   "execution_count": 1,
   "outputs": [
    {
     "data": {
      "text/plain": "'1.12.1'"
     },
     "execution_count": 1,
     "metadata": {},
     "output_type": "execute_result"
    }
   ]
  },
  {
   "cell_type": "markdown",
   "metadata": {
    "id": "isUHVy-gtZeT",
    "pycharm": {
     "name": "#%% md\n"
    }
   },
   "source": [
    "### 초기화 되지 않은 행렬 "
   ]
  },
  {
   "cell_type": "code",
   "metadata": {
    "id": "3PqY3cZatU0D",
    "pycharm": {
     "name": "#%%\n"
    }
   },
   "source": [
    "x = torch.empty(4,2)\n",
    "print(x)"
   ],
   "execution_count": 2,
   "outputs": [
    {
     "name": "stdout",
     "output_type": "stream",
     "text": [
      "tensor([[1.4632e-27, 1.5846e+29],\n",
      "        [1.4623e-27, 4.6566e-10],\n",
      "        [3.2877e-38, 1.4013e-45],\n",
      "        [2.5435e-36, 1.4013e-45]])\n"
     ]
    }
   ]
  },
  {
   "cell_type": "markdown",
   "metadata": {
    "id": "zPCIJ2pNteZv",
    "pycharm": {
     "name": "#%% md\n"
    }
   },
   "source": [
    "### 무작위로 초기화된 행렬"
   ]
  },
  {
   "cell_type": "code",
   "metadata": {
    "id": "h6oPj2Q9tdYx",
    "pycharm": {
     "name": "#%%\n"
    }
   },
   "source": [
    "x = torch.rand(4,2)\n",
    "x"
   ],
   "execution_count": 3,
   "outputs": [
    {
     "data": {
      "text/plain": "tensor([[0.2079, 0.3994],\n        [0.8891, 0.3002],\n        [0.7036, 0.0673],\n        [0.0271, 0.4504]])"
     },
     "execution_count": 3,
     "metadata": {},
     "output_type": "execute_result"
    }
   ]
  },
  {
   "cell_type": "markdown",
   "metadata": {
    "id": "A5aHphIHtiJk",
    "pycharm": {
     "name": "#%% md\n"
    }
   },
   "source": [
    "### dtype이 long, 0으로 채워진 텐서"
   ]
  },
  {
   "cell_type": "code",
   "metadata": {
    "id": "4zykN8aMthXk",
    "pycharm": {
     "name": "#%%\n"
    }
   },
   "source": [
    "x = torch.zeros((4,2), dtype=torch.long)\n",
    "print(x)"
   ],
   "execution_count": 4,
   "outputs": [
    {
     "name": "stdout",
     "output_type": "stream",
     "text": [
      "tensor([[0, 0],\n",
      "        [0, 0],\n",
      "        [0, 0],\n",
      "        [0, 0]])\n"
     ]
    }
   ]
  },
  {
   "cell_type": "code",
   "metadata": {
    "id": "W4VL8C_ctu8b",
    "pycharm": {
     "name": "#%%\n"
    }
   },
   "source": [
    "x = torch.tensor([[1,2,3], [4,5,6]])\n",
    "x"
   ],
   "execution_count": 5,
   "outputs": [
    {
     "data": {
      "text/plain": "tensor([[1, 2, 3],\n        [4, 5, 6]])"
     },
     "execution_count": 5,
     "metadata": {},
     "output_type": "execute_result"
    }
   ]
  },
  {
   "cell_type": "code",
   "metadata": {
    "id": "4RmVBVtIt46M",
    "pycharm": {
     "name": "#%%\n"
    }
   },
   "source": [
    "x = x.new_ones((2,4), dtype=torch.int)\n",
    "x"
   ],
   "execution_count": 6,
   "outputs": [
    {
     "data": {
      "text/plain": "tensor([[1, 1, 1, 1],\n        [1, 1, 1, 1]], dtype=torch.int32)"
     },
     "execution_count": 6,
     "metadata": {},
     "output_type": "execute_result"
    }
   ]
  },
  {
   "cell_type": "code",
   "metadata": {
    "id": "xxskTUfGuPUe",
    "pycharm": {
     "name": "#%%\n"
    }
   },
   "source": [
    "x = torch.randn_like(x, dtype=torch.float)\n",
    "print(x)"
   ],
   "execution_count": 7,
   "outputs": [
    {
     "name": "stdout",
     "output_type": "stream",
     "text": [
      "tensor([[ 0.5975,  1.4275, -1.6271, -1.1833],\n",
      "        [ 0.0621, -0.6558,  1.7073, -0.5693]])\n"
     ]
    }
   ]
  },
  {
   "cell_type": "markdown",
   "metadata": {
    "id": "7j5sGxGvucpH",
    "pycharm": {
     "name": "#%% md\n"
    }
   },
   "source": [
    "### 텐서의 크기"
   ]
  },
  {
   "cell_type": "code",
   "metadata": {
    "id": "yy-JbqKEuYIR",
    "pycharm": {
     "name": "#%%\n"
    }
   },
   "source": [
    "x.size()"
   ],
   "execution_count": 8,
   "outputs": [
    {
     "data": {
      "text/plain": "torch.Size([2, 4])"
     },
     "execution_count": 8,
     "metadata": {},
     "output_type": "execute_result"
    }
   ]
  },
  {
   "cell_type": "markdown",
   "metadata": {
    "id": "ehOg0eDwufru",
    "pycharm": {
     "name": "#%% md\n"
    }
   },
   "source": [
    "## 텐서의 연산(operations)"
   ]
  },
  {
   "cell_type": "markdown",
   "metadata": {
    "id": "j8Doc_37uh3G",
    "pycharm": {
     "name": "#%% md\n"
    }
   },
   "source": [
    "### 덧셈 1"
   ]
  },
  {
   "cell_type": "code",
   "metadata": {
    "id": "Rw4JCYkYuef9",
    "pycharm": {
     "name": "#%%\n"
    }
   },
   "source": [
    "print(x)"
   ],
   "execution_count": 9,
   "outputs": [
    {
     "name": "stdout",
     "output_type": "stream",
     "text": [
      "tensor([[ 0.5975,  1.4275, -1.6271, -1.1833],\n",
      "        [ 0.0621, -0.6558,  1.7073, -0.5693]])\n"
     ]
    }
   ]
  },
  {
   "cell_type": "code",
   "metadata": {
    "id": "Wa44ur1Nuj5U",
    "pycharm": {
     "name": "#%%\n"
    }
   },
   "source": [
    "y = torch.rand(2,4)\n",
    "print(y)\n",
    "print(x+y)"
   ],
   "execution_count": 10,
   "outputs": [
    {
     "name": "stdout",
     "output_type": "stream",
     "text": [
      "tensor([[0.1846, 0.1133, 0.8458, 0.0938],\n",
      "        [0.1839, 0.3201, 0.6830, 0.7690]])\n",
      "tensor([[ 0.7821,  1.5408, -0.7813, -1.0895],\n",
      "        [ 0.2460, -0.3357,  2.3902,  0.1997]])\n"
     ]
    }
   ]
  },
  {
   "cell_type": "markdown",
   "metadata": {
    "id": "E5gcOo-Ouo9B",
    "pycharm": {
     "name": "#%% md\n"
    }
   },
   "source": [
    " ### 덧셈2"
   ]
  },
  {
   "cell_type": "code",
   "metadata": {
    "id": "Qx-NzJhhumZx",
    "pycharm": {
     "name": "#%%\n"
    }
   },
   "source": [
    "print(torch.add(x,y))"
   ],
   "execution_count": 11,
   "outputs": [
    {
     "name": "stdout",
     "output_type": "stream",
     "text": [
      "tensor([[ 0.7821,  1.5408, -0.7813, -1.0895],\n",
      "        [ 0.2460, -0.3357,  2.3902,  0.1997]])\n"
     ]
    }
   ]
  },
  {
   "cell_type": "markdown",
   "metadata": {
    "id": "RlvrQhLuuuIr",
    "pycharm": {
     "name": "#%% md\n"
    }
   },
   "source": [
    "### 덧셈3\n",
    "- 결과 텐서를 인자로 제공"
   ]
  },
  {
   "cell_type": "code",
   "metadata": {
    "id": "lUsLAOTcur1-",
    "pycharm": {
     "name": "#%%\n"
    }
   },
   "source": [
    "result = torch.empty(2,4)\n",
    "torch.add(x, y, out=result)\n",
    "print(result)"
   ],
   "execution_count": 12,
   "outputs": [
    {
     "name": "stdout",
     "output_type": "stream",
     "text": [
      "tensor([[ 0.7821,  1.5408, -0.7813, -1.0895],\n",
      "        [ 0.2460, -0.3357,  2.3902,  0.1997]])\n"
     ]
    }
   ]
  },
  {
   "cell_type": "markdown",
   "metadata": {
    "id": "V6BdyZFSu2Ei",
    "pycharm": {
     "name": "#%% md\n"
    }
   },
   "source": [
    "### 덧셈4\n",
    "- `in-place` 방식\n",
    "\n",
    "- (참고) in-place 방식\n",
    "  - in-place방식으로 텐서의 값을 변경하는 연산 뒤에는 _''가 붙음\n",
    "  - `x.copy_(y), x.t_()`"
   ]
  },
  {
   "cell_type": "code",
   "metadata": {
    "id": "lu8rR4WVu0wQ",
    "pycharm": {
     "name": "#%%\n"
    }
   },
   "source": [
    "print(x)\n",
    "print(y)\n",
    "y.add_(x) #y+=x\n",
    "print(y)"
   ],
   "execution_count": 13,
   "outputs": [
    {
     "name": "stdout",
     "output_type": "stream",
     "text": [
      "tensor([[ 0.5975,  1.4275, -1.6271, -1.1833],\n",
      "        [ 0.0621, -0.6558,  1.7073, -0.5693]])\n",
      "tensor([[0.1846, 0.1133, 0.8458, 0.0938],\n",
      "        [0.1839, 0.3201, 0.6830, 0.7690]])\n",
      "tensor([[ 0.7821,  1.5408, -0.7813, -1.0895],\n",
      "        [ 0.2460, -0.3357,  2.3902,  0.1997]])\n"
     ]
    }
   ]
  },
  {
   "cell_type": "markdown",
   "metadata": {
    "id": "Uo8nsrGjOw6W",
    "pycharm": {
     "name": "#%% md\n"
    }
   },
   "source": [
    "### 그 외의 연산\n",
    "- `torch.sub` : 뺄셈\n",
    "\n",
    "- `torch.mul` : 곱셉\n",
    "\n",
    "- `torch.div` : 나눗셈\n",
    "\n",
    "- `torch.mm` : 내적(dot product)"
   ]
  },
  {
   "cell_type": "code",
   "metadata": {
    "id": "S51kxzPTO1ER",
    "pycharm": {
     "name": "#%%\n"
    }
   },
   "source": [
    "x = torch.Tensor([[1,3],[5,7]])\n",
    "y = torch.Tensor([[2,4],[6,8]])\n",
    "\n",
    "print(x - y)\n",
    "print(torch.sub(x,y))\n",
    "print(x.sub(y))"
   ],
   "execution_count": 14,
   "outputs": [
    {
     "name": "stdout",
     "output_type": "stream",
     "text": [
      "tensor([[-1., -1.],\n",
      "        [-1., -1.]])\n",
      "tensor([[-1., -1.],\n",
      "        [-1., -1.]])\n",
      "tensor([[-1., -1.],\n",
      "        [-1., -1.]])\n"
     ]
    }
   ]
  },
  {
   "cell_type": "code",
   "metadata": {
    "id": "ou0dY8mkPR24",
    "pycharm": {
     "name": "#%%\n"
    }
   },
   "source": [
    "x = torch.Tensor([[1,3],[5,7]])\n",
    "y = torch.Tensor([[2,4],[6,8]])\n",
    "\n",
    "print(x * y)\n",
    "print(torch.mul(x,y))\n",
    "print(x.mul(y))"
   ],
   "execution_count": 15,
   "outputs": [
    {
     "name": "stdout",
     "output_type": "stream",
     "text": [
      "tensor([[ 2., 12.],\n",
      "        [30., 56.]])\n",
      "tensor([[ 2., 12.],\n",
      "        [30., 56.]])\n",
      "tensor([[ 2., 12.],\n",
      "        [30., 56.]])\n"
     ]
    }
   ]
  },
  {
   "cell_type": "code",
   "metadata": {
    "id": "6RlZZBp3PbE4",
    "pycharm": {
     "name": "#%%\n"
    }
   },
   "source": [
    "x = torch.Tensor([[1,3],[5,7]])\n",
    "y = torch.Tensor([[2,4],[6,8]])\n",
    "\n",
    "print(x / y)\n",
    "print(torch.div(x,y))\n",
    "print(x.div(y))"
   ],
   "execution_count": 16,
   "outputs": [
    {
     "name": "stdout",
     "output_type": "stream",
     "text": [
      "tensor([[0.5000, 0.7500],\n",
      "        [0.8333, 0.8750]])\n",
      "tensor([[0.5000, 0.7500],\n",
      "        [0.8333, 0.8750]])\n",
      "tensor([[0.5000, 0.7500],\n",
      "        [0.8333, 0.8750]])\n"
     ]
    }
   ]
  },
  {
   "cell_type": "code",
   "metadata": {
    "id": "7MR-ofE5P7VC",
    "pycharm": {
     "name": "#%%\n"
    }
   },
   "source": [
    "x = torch.Tensor([[1,3],[5,7]])\n",
    "y = torch.Tensor([[2,4],[6,8]])\n",
    "\n",
    "print(torch.mm(x,y))\n",
    "print(x)\n",
    "print(y)"
   ],
   "execution_count": 17,
   "outputs": [
    {
     "name": "stdout",
     "output_type": "stream",
     "text": [
      "tensor([[20., 28.],\n",
      "        [52., 76.]])\n",
      "tensor([[1., 3.],\n",
      "        [5., 7.]])\n",
      "tensor([[2., 4.],\n",
      "        [6., 8.]])\n"
     ]
    }
   ]
  },
  {
   "cell_type": "markdown",
   "metadata": {
    "id": "8URGwHE_NjDi",
    "pycharm": {
     "name": "#%% md\n"
    }
   },
   "source": [
    "## 텐서의 조작(manipulations)"
   ]
  },
  {
   "cell_type": "markdown",
   "metadata": {
    "id": "uCsdZIPTvG53",
    "pycharm": {
     "name": "#%% md\n"
    }
   },
   "source": [
    "### 인덱싱\n",
    "- 넘파이처럼 인덱싱 사용가능"
   ]
  },
  {
   "cell_type": "code",
   "metadata": {
    "id": "jF2DE8kzvOs3",
    "pycharm": {
     "name": "#%%\n"
    }
   },
   "source": [
    "print(x)"
   ],
   "execution_count": 18,
   "outputs": [
    {
     "name": "stdout",
     "output_type": "stream",
     "text": [
      "tensor([[1., 3.],\n",
      "        [5., 7.]])\n"
     ]
    }
   ]
  },
  {
   "cell_type": "code",
   "metadata": {
    "id": "GQtBH3r3u7c3",
    "pycharm": {
     "name": "#%%\n"
    }
   },
   "source": [
    "print(x[:,1])"
   ],
   "execution_count": 19,
   "outputs": [
    {
     "name": "stdout",
     "output_type": "stream",
     "text": [
      "tensor([3., 7.])\n"
     ]
    }
   ]
  },
  {
   "cell_type": "markdown",
   "metadata": {
    "id": "jEscXddKvQ5l",
    "pycharm": {
     "name": "#%% md\n"
    }
   },
   "source": [
    "### view\n",
    "- 텐서의 크기(size)나 모양(shape)을 변경"
   ]
  },
  {
   "cell_type": "code",
   "metadata": {
    "id": "xwhWeqhLvKKj",
    "pycharm": {
     "name": "#%%\n"
    }
   },
   "source": [
    "x = torch.randn(4,5)\n",
    "\n",
    "\n",
    "#reshape 랑 같음\n",
    "y = x.view(20)\n",
    "z = x.view(5,-1)\n",
    "\n",
    "print(x.shape)\n",
    "print(y.shape)\n",
    "print(z.shape)"
   ],
   "execution_count": 20,
   "outputs": [
    {
     "name": "stdout",
     "output_type": "stream",
     "text": [
      "torch.Size([4, 5])\n",
      "torch.Size([20])\n",
      "torch.Size([5, 4])\n"
     ]
    }
   ]
  },
  {
   "cell_type": "markdown",
   "metadata": {
    "id": "iBY_wuIRvf5j",
    "pycharm": {
     "name": "#%% md\n"
    }
   },
   "source": [
    "### item\n",
    "- 텐서에 값이 단 하나라도 존재하면 숫자값을 얻을 수 있음\n"
   ]
  },
  {
   "cell_type": "code",
   "metadata": {
    "id": "E0W24QqpvcmV",
    "pycharm": {
     "name": "#%%\n"
    }
   },
   "source": [
    "x = torch.randn(1)\n",
    "print(x)\n",
    "print(x.item())\n",
    "print(x.dtype)"
   ],
   "execution_count": 21,
   "outputs": [
    {
     "name": "stdout",
     "output_type": "stream",
     "text": [
      "tensor([-1.4291])\n",
      "-1.4290845394134521\n",
      "torch.float32\n"
     ]
    }
   ]
  },
  {
   "cell_type": "markdown",
   "metadata": {
    "id": "V1sCUVwC3Nua",
    "pycharm": {
     "name": "#%% md\n"
    }
   },
   "source": [
    "- 스칼라값 하나만 존재해야함"
   ]
  },
  {
   "cell_type": "code",
   "metadata": {
    "id": "jl4_FAgd3Lt9",
    "pycharm": {
     "name": "#%%\n"
    }
   },
   "source": [
    "# x = torch.randn(2)\n",
    "# print(x)\n",
    "# print(x.item())\n",
    "# print(x.dtype)"
   ],
   "execution_count": 22,
   "outputs": []
  },
  {
   "cell_type": "markdown",
   "metadata": {
    "id": "uThndsy5M6wM",
    "pycharm": {
     "name": "#%% md\n"
    }
   },
   "source": [
    "### squeeze \n",
    "- 차원을 축소(제거)"
   ]
  },
  {
   "cell_type": "code",
   "metadata": {
    "id": "OF3rOavnRxgM",
    "pycharm": {
     "name": "#%%\n"
    }
   },
   "source": [
    "tensor = torch.rand(1,3,3)\n",
    "print(tensor.shape)\n",
    "print(tensor)"
   ],
   "execution_count": 23,
   "outputs": [
    {
     "name": "stdout",
     "output_type": "stream",
     "text": [
      "torch.Size([1, 3, 3])\n",
      "tensor([[[0.9818, 0.5358, 0.5857],\n",
      "         [0.1446, 0.3721, 0.9800],\n",
      "         [0.3319, 0.3703, 0.7228]]])\n"
     ]
    }
   ]
  },
  {
   "cell_type": "code",
   "metadata": {
    "id": "Y2jq0jHJR5Jw",
    "pycharm": {
     "name": "#%%\n"
    }
   },
   "source": [
    "t = tensor.squeeze()\n",
    "\n",
    "print(t)\n",
    "print(t.shape)"
   ],
   "execution_count": 24,
   "outputs": [
    {
     "name": "stdout",
     "output_type": "stream",
     "text": [
      "tensor([[0.9818, 0.5358, 0.5857],\n",
      "        [0.1446, 0.3721, 0.9800],\n",
      "        [0.3319, 0.3703, 0.7228]])\n",
      "torch.Size([3, 3])\n"
     ]
    }
   ]
  },
  {
   "cell_type": "markdown",
   "metadata": {
    "id": "COv-dnTYNJ8Z",
    "pycharm": {
     "name": "#%% md\n"
    }
   },
   "source": [
    "### unsqueeze\n",
    "- 차원을 증가(생성)"
   ]
  },
  {
   "cell_type": "code",
   "metadata": {
    "id": "PFxaHGY1NOBo",
    "pycharm": {
     "name": "#%%\n"
    }
   },
   "source": [
    "tensor = torch.randn(1,3,3)\n",
    "print(tensor)\n",
    "print(tensor.shape)"
   ],
   "execution_count": 25,
   "outputs": [
    {
     "name": "stdout",
     "output_type": "stream",
     "text": [
      "tensor([[[-0.2139,  0.6550,  0.4182],\n",
      "         [ 1.6167,  0.2660,  0.6017],\n",
      "         [-0.4597, -0.1678, -0.2664]]])\n",
      "torch.Size([1, 3, 3])\n"
     ]
    }
   ]
  },
  {
   "cell_type": "code",
   "metadata": {
    "id": "b6sa4tJ7SA8G",
    "pycharm": {
     "name": "#%%\n"
    }
   },
   "source": [
    "t = tensor.unsqueeze(dim=0)\n",
    "print(t)\n",
    "print(t.shape)"
   ],
   "execution_count": 26,
   "outputs": [
    {
     "name": "stdout",
     "output_type": "stream",
     "text": [
      "tensor([[[[-0.2139,  0.6550,  0.4182],\n",
      "          [ 1.6167,  0.2660,  0.6017],\n",
      "          [-0.4597, -0.1678, -0.2664]]]])\n",
      "torch.Size([1, 1, 3, 3])\n"
     ]
    }
   ]
  },
  {
   "cell_type": "markdown",
   "metadata": {
    "id": "_C_oa9JANOa6",
    "pycharm": {
     "name": "#%% md\n"
    }
   },
   "source": [
    "### stack\n",
    "- 텐서간 결합"
   ]
  },
  {
   "cell_type": "code",
   "metadata": {
    "id": "f3x_XaUYNOuc",
    "pycharm": {
     "name": "#%%\n"
    }
   },
   "source": [
    "x = torch.FloatTensor([1,4])\n",
    "y = torch.FloatTensor([2,5])\n",
    "z = torch.FloatTensor([3,6])\n",
    "\n",
    "print(torch.stack([x,y,z]))"
   ],
   "execution_count": 27,
   "outputs": [
    {
     "name": "stdout",
     "output_type": "stream",
     "text": [
      "tensor([[1., 4.],\n",
      "        [2., 5.],\n",
      "        [3., 6.]])\n"
     ]
    }
   ]
  },
  {
   "cell_type": "markdown",
   "metadata": {
    "id": "XmJscbfg35-c",
    "pycharm": {
     "name": "#%% md\n"
    }
   },
   "source": [
    "### cat\n",
    "- 텐서를 결합하는 메소드(concatenate)\n",
    "\n",
    "- 넘파이의 `stack`과 유사하지만, 쌓을 dim이 존재해야함\n",
    "  - 예를 들어, 해당 차원을 늘려준 후 결합\n"
   ]
  },
  {
   "cell_type": "code",
   "metadata": {
    "id": "Mv3zlaNm37P1",
    "pycharm": {
     "name": "#%%\n"
    }
   },
   "source": [
    "a= torch.randn(1,1,3,3)\n",
    "b= torch.randn(1,1,3,3)\n",
    "c= torch.cat((a,b), dim=0)\n",
    "print(c)\n",
    "print(c.shape)"
   ],
   "execution_count": 28,
   "outputs": [
    {
     "name": "stdout",
     "output_type": "stream",
     "text": [
      "tensor([[[[ 0.4082,  0.1155,  1.2117],\n",
      "          [ 1.4102, -1.1718,  0.4918],\n",
      "          [-0.7855, -1.6829, -1.0560]]],\n",
      "\n",
      "\n",
      "        [[[-0.0271,  0.7766, -1.2723],\n",
      "          [-0.1867,  0.4600,  1.0936],\n",
      "          [-0.0703, -1.3813,  0.2209]]]])\n",
      "torch.Size([2, 1, 3, 3])\n"
     ]
    }
   ]
  },
  {
   "cell_type": "code",
   "metadata": {
    "id": "69M5jY60S7Mi",
    "pycharm": {
     "name": "#%%\n"
    }
   },
   "source": [
    "a= torch.randn(1,3,3)\n",
    "b= torch.randn(1,3,3)\n",
    "c= torch.cat((a,b), dim=0)\n",
    "print(c)\n",
    "print(c.shape)"
   ],
   "execution_count": 29,
   "outputs": [
    {
     "name": "stdout",
     "output_type": "stream",
     "text": [
      "tensor([[[ 0.0033, -1.9023,  1.4602],\n",
      "         [-1.5592, -0.2343,  0.6519],\n",
      "         [-0.6437, -1.1453,  2.1624]],\n",
      "\n",
      "        [[ 0.1325, -0.8022,  0.3092],\n",
      "         [-1.6338,  0.2940,  0.4115],\n",
      "         [ 0.5384, -0.0491, -0.6837]]])\n",
      "torch.Size([2, 3, 3])\n"
     ]
    }
   ]
  },
  {
   "cell_type": "markdown",
   "metadata": {
    "id": "7gGXnOAqQTmG",
    "pycharm": {
     "name": "#%% md\n"
    }
   },
   "source": [
    "### chuck\n",
    "- 텐서를 여러 개로 나눌 때 사용\n",
    "\n",
    "- 몇 개의 텐서로 나눌 것이냐"
   ]
  },
  {
   "cell_type": "code",
   "metadata": {
    "id": "pNV80VzPQZgG",
    "pycharm": {
     "name": "#%%\n"
    }
   },
   "source": [
    "tensor = torch.rand(3,6)\n",
    "t1, t2, t3 = torch.chunk(tensor,3,dim=1)\n",
    "print(tensor)\n",
    "print(t1)\n",
    "print(t2)\n",
    "print(t3)"
   ],
   "execution_count": 30,
   "outputs": [
    {
     "name": "stdout",
     "output_type": "stream",
     "text": [
      "tensor([[0.4680, 0.6297, 0.0834, 0.1082, 0.5092, 0.0567],\n",
      "        [0.3621, 0.9631, 0.0800, 0.9612, 0.0178, 0.7893],\n",
      "        [0.4680, 0.1994, 0.5267, 0.2062, 0.4285, 0.0795]])\n",
      "tensor([[0.4680, 0.6297],\n",
      "        [0.3621, 0.9631],\n",
      "        [0.4680, 0.1994]])\n",
      "tensor([[0.0834, 0.1082],\n",
      "        [0.0800, 0.9612],\n",
      "        [0.5267, 0.2062]])\n",
      "tensor([[0.5092, 0.0567],\n",
      "        [0.0178, 0.7893],\n",
      "        [0.4285, 0.0795]])\n"
     ]
    }
   ]
  },
  {
   "cell_type": "markdown",
   "metadata": {
    "id": "7U0Qb0jWQgm-",
    "pycharm": {
     "name": "#%% md\n"
    }
   },
   "source": [
    "### split\n",
    "- `chunck`와 동일한 기능이지만 조금 다름\n",
    "\n",
    "- 하나의 텐서당 크기가 얼마이냐"
   ]
  },
  {
   "cell_type": "code",
   "metadata": {
    "id": "1V6DDnLVQqxz",
    "pycharm": {
     "name": "#%%\n"
    }
   },
   "source": [
    "tensor = torch.rand(3,6)\n",
    "t1, t2 = torch.split(tensor, 3, dim=1)\n",
    "print(tensor)\n",
    "print(t1)\n",
    "print(t2)"
   ],
   "execution_count": 31,
   "outputs": [
    {
     "name": "stdout",
     "output_type": "stream",
     "text": [
      "tensor([[0.5383, 0.8514, 0.6046, 0.3591, 0.3431, 0.5734],\n",
      "        [0.0069, 0.8357, 0.7521, 0.9644, 0.3795, 0.0889],\n",
      "        [0.4563, 0.2851, 0.0413, 0.0325, 0.7048, 0.7948]])\n",
      "tensor([[0.5383, 0.8514, 0.6046],\n",
      "        [0.0069, 0.8357, 0.7521],\n",
      "        [0.4563, 0.2851, 0.0413]])\n",
      "tensor([[0.3591, 0.3431, 0.5734],\n",
      "        [0.9644, 0.3795, 0.0889],\n",
      "        [0.0325, 0.7048, 0.7948]])\n"
     ]
    }
   ]
  },
  {
   "cell_type": "markdown",
   "metadata": {
    "id": "estSwhCgvta6",
    "pycharm": {
     "name": "#%% md\n"
    }
   },
   "source": [
    "### torch ↔ numpy\n",
    "- Torch Tensor(텐서)를 Numpy array(배열)로 변환 가능\n",
    "\n",
    "  - `numpy()`\n",
    "  - `from_numpy()`\n",
    "\n",
    "- (참고)\n",
    "  - Tensor가 CPU상에 있다면 Numpy 배열은 메모리 공간을 공유하므로 하나가 변하면, 다른 하나도 변함"
   ]
  },
  {
   "cell_type": "code",
   "metadata": {
    "id": "VxHI7c_yvmAT",
    "pycharm": {
     "name": "#%%\n"
    }
   },
   "source": [
    "a = torch.ones(7)\n",
    "print(a)"
   ],
   "execution_count": 32,
   "outputs": [
    {
     "name": "stdout",
     "output_type": "stream",
     "text": [
      "tensor([1., 1., 1., 1., 1., 1., 1.])\n"
     ]
    }
   ]
  },
  {
   "cell_type": "code",
   "metadata": {
    "id": "whbrhokHwJ3A",
    "pycharm": {
     "name": "#%%\n"
    }
   },
   "source": [
    "b = a.numpy()\n",
    "print(b)"
   ],
   "execution_count": 33,
   "outputs": [
    {
     "name": "stdout",
     "output_type": "stream",
     "text": [
      "[1. 1. 1. 1. 1. 1. 1.]\n"
     ]
    }
   ]
  },
  {
   "cell_type": "code",
   "metadata": {
    "id": "5StIhUWDwQjA",
    "pycharm": {
     "name": "#%%\n"
    }
   },
   "source": [
    "a.add_(1)\n",
    "print(a)\n",
    "print(b)"
   ],
   "execution_count": 34,
   "outputs": [
    {
     "name": "stdout",
     "output_type": "stream",
     "text": [
      "tensor([2., 2., 2., 2., 2., 2., 2.])\n",
      "[2. 2. 2. 2. 2. 2. 2.]\n"
     ]
    }
   ]
  },
  {
   "cell_type": "code",
   "metadata": {
    "id": "3RNS5-cRwTt8",
    "pycharm": {
     "name": "#%%\n"
    }
   },
   "source": [
    "import numpy as np\n",
    "\n",
    "a = np.ones(7)\n",
    "b = torch.from_numpy(a)\n",
    "np.add(a, 1, out=a)\n",
    "print(a)\n",
    "print(b)"
   ],
   "execution_count": 35,
   "outputs": [
    {
     "name": "stdout",
     "output_type": "stream",
     "text": [
      "[2. 2. 2. 2. 2. 2. 2.]\n",
      "tensor([2., 2., 2., 2., 2., 2., 2.], dtype=torch.float64)\n"
     ]
    }
   ]
  },
  {
   "cell_type": "markdown",
   "metadata": {
    "id": "v-ZaxSvLxEej",
    "pycharm": {
     "name": "#%% md\n"
    }
   },
   "source": [
    "## CUDA Tensors\n",
    "- `.to` 메소드를 사용하여 텐서를 어떠한 장치로도 옮길 수 있음\n",
    "  - 예) cpu, gpu"
   ]
  },
  {
   "cell_type": "code",
   "metadata": {
    "id": "xkaQznCRxpUj",
    "pycharm": {
     "name": "#%%\n"
    }
   },
   "source": [
    "import torch"
   ],
   "execution_count": 36,
   "outputs": []
  },
  {
   "cell_type": "code",
   "metadata": {
    "id": "SCnC0x2Rxpbk",
    "pycharm": {
     "name": "#%%\n"
    }
   },
   "source": [
    "x = torch.rand(1)\n",
    "print(x)\n",
    "print(x.item)\n",
    "print(x.dtype)"
   ],
   "execution_count": 37,
   "outputs": [
    {
     "name": "stdout",
     "output_type": "stream",
     "text": [
      "tensor([0.2605])\n",
      "<built-in method item of Tensor object at 0x153f81450>\n",
      "torch.float32\n"
     ]
    }
   ]
  },
  {
   "cell_type": "code",
   "metadata": {
    "id": "GcSsFLkDw-nI",
    "pycharm": {
     "name": "#%%\n"
    }
   },
   "source": [
    "device = torch.device('cuda' if torch.cuda.is_available() else 'cpu')\n",
    "device\n",
    "y = torch.ones_like(x, device=device)\n",
    "x = x.to(device)\n",
    "z = x + y\n",
    "print(device)\n",
    "print(z)\n",
    "print(z.to(\"cpu\", torch.double))"
   ],
   "execution_count": 38,
   "outputs": [
    {
     "name": "stdout",
     "output_type": "stream",
     "text": [
      "cpu\n",
      "tensor([1.2605])\n",
      "tensor([1.2605], dtype=torch.float64)\n"
     ]
    }
   ]
  },
  {
   "cell_type": "markdown",
   "metadata": {
    "id": "NKqiGvLWx2nk",
    "pycharm": {
     "name": "#%% md\n"
    }
   },
   "source": [
    "## AUTOGRAD (자동미분)\n",
    "- autograd 패키지는 Tensor의 모든 연산에 대해 **자동 미분** 제공\n",
    "\n",
    "- 이는 코드를 어떻게 작성하여 실행하느냐에 따라 역전파가 정의된다는 뜻\n",
    "\n",
    "- backprop를 위한 미분값을 자동으로 계산"
   ]
  },
  {
   "cell_type": "markdown",
   "metadata": {
    "id": "0zH41l-MyMHi",
    "pycharm": {
     "name": "#%% md\n"
    }
   },
   "source": [
    "### Tensor\n",
    "\n",
    "- data: tensor형태의 데이터\n",
    "\n",
    "- grad: data가 겨쳐온 layer에 대한 미분값 저장\n",
    "\n",
    "- grad_fn: 미분값을 계산한 함수에 대한 정보 저장 (어떤 함수에 대해서 backprop 했는지)\n",
    "\n",
    "- `requires_grad` 속성을 `True`로 설정하면, 해당 텐서에서 이루어지는 모든 연산들을 추적하기 시작\n",
    "\n",
    "- 계산이 완료된 후, `.backward()`를 호출하면 자동으로 `gradient`를 계산할 수 있으며, `.grad` 속성에 누적됨\n",
    "\n",
    "- 기록을 추적하는 것을 중단하게 하려면, `.detach()`를 호출하여 연산기록으로부터 분리\n",
    "\n",
    "- 기록을 추적하는 것을 방지하기 위해 코드 블럭을 `with torch.no_grad():`로 감싸면 `gradient`는 필요없지만, `requires_grad=True`로 설정되어 학습 가능한 매개변수를 갖는 모델을 평가(evaluate)할 때 유용\n",
    "\n",
    "- Autograd 구현에서 매우 중요한 클래스 : `Function` 클래스"
   ]
  },
  {
   "cell_type": "code",
   "metadata": {
    "id": "ipdk_1jfx47I",
    "pycharm": {
     "name": "#%%\n"
    }
   },
   "source": [
    "import torch"
   ],
   "execution_count": 39,
   "outputs": []
  },
  {
   "cell_type": "code",
   "metadata": {
    "id": "ljNU-r9p0Rpo",
    "pycharm": {
     "name": "#%%\n"
    }
   },
   "source": [
    "x=torch.ones((3,3), requires_grad=True)\n",
    "print(x)\n",
    "x.grad"
   ],
   "execution_count": 40,
   "outputs": [
    {
     "name": "stdout",
     "output_type": "stream",
     "text": [
      "tensor([[1., 1., 1.],\n",
      "        [1., 1., 1.],\n",
      "        [1., 1., 1.]], requires_grad=True)\n"
     ]
    }
   ]
  },
  {
   "cell_type": "code",
   "metadata": {
    "id": "or6sQ4EB0UYz",
    "pycharm": {
     "name": "#%%\n"
    }
   },
   "source": [
    "y = x + 5\n",
    "print(y)"
   ],
   "execution_count": 41,
   "outputs": [
    {
     "name": "stdout",
     "output_type": "stream",
     "text": [
      "tensor([[6., 6., 6.],\n",
      "        [6., 6., 6.],\n",
      "        [6., 6., 6.]], grad_fn=<AddBackward0>)\n"
     ]
    }
   ]
  },
  {
   "cell_type": "code",
   "metadata": {
    "id": "PuQ7xDmu0Wpj",
    "pycharm": {
     "name": "#%%\n"
    }
   },
   "source": [
    "print(y.grad_fn)"
   ],
   "execution_count": 42,
   "outputs": [
    {
     "name": "stdout",
     "output_type": "stream",
     "text": [
      "<AddBackward0 object at 0x153f62c10>\n"
     ]
    }
   ]
  },
  {
   "cell_type": "code",
   "metadata": {
    "id": "6_2iM-Zq0ZdG",
    "pycharm": {
     "name": "#%%\n"
    }
   },
   "source": [
    "z = y * y * 2\n",
    "out = z.mean()\n",
    "\n",
    "print(z, out)"
   ],
   "execution_count": 43,
   "outputs": [
    {
     "name": "stdout",
     "output_type": "stream",
     "text": [
      "tensor([[72., 72., 72.],\n",
      "        [72., 72., 72.],\n",
      "        [72., 72., 72.]], grad_fn=<MulBackward0>) tensor(72., grad_fn=<MeanBackward0>)\n"
     ]
    }
   ]
  },
  {
   "cell_type": "markdown",
   "metadata": {
    "id": "2aZ8SWn_0nqt",
    "pycharm": {
     "name": "#%% md\n"
    }
   },
   "source": [
    "- `requires_grad_(...)`는 기존 텐서의 `requires_grad`값을 바꿔치기(`in-place`)하여 변경"
   ]
  },
  {
   "cell_type": "code",
   "metadata": {
    "id": "mHGROgrM0ebO",
    "pycharm": {
     "name": "#%%\n"
    }
   },
   "source": [
    "a = torch.rand(3,3)\n",
    "a = ((a*3)/(a-1))\n",
    "print(a.requires_grad)\n",
    "\n",
    "a.requires_grad_(True)\n",
    "\n",
    "print(a.requires_grad)\n",
    "\n",
    "b= (a*a).sum()\n",
    "\n",
    "print(b.grad_fn)"
   ],
   "execution_count": 44,
   "outputs": [
    {
     "name": "stdout",
     "output_type": "stream",
     "text": [
      "False\n",
      "True\n",
      "<SumBackward0 object at 0x153f666d0>\n"
     ]
    }
   ]
  },
  {
   "cell_type": "markdown",
   "metadata": {
    "id": "KiEn_stZ1VgU",
    "pycharm": {
     "name": "#%% md\n"
    }
   },
   "source": [
    "### 기울기(Gradient)\n",
    "- 역전파: `.backward()`를 통해 역전파 계산 가능"
   ]
  },
  {
   "cell_type": "code",
   "metadata": {
    "id": "1tdoN9p-1kn4",
    "pycharm": {
     "name": "#%%\n"
    }
   },
   "source": [
    "print(out)\n",
    "out.backward()"
   ],
   "execution_count": 45,
   "outputs": [
    {
     "name": "stdout",
     "output_type": "stream",
     "text": [
      "tensor(72., grad_fn=<MeanBackward0>)\n"
     ]
    }
   ]
  },
  {
   "cell_type": "code",
   "metadata": {
    "id": "CixGTXbV1B9p",
    "pycharm": {
     "name": "#%%\n"
    }
   },
   "source": [
    "print(x.grad)"
   ],
   "execution_count": 46,
   "outputs": [
    {
     "name": "stdout",
     "output_type": "stream",
     "text": [
      "tensor([[2.6667, 2.6667, 2.6667],\n",
      "        [2.6667, 2.6667, 2.6667],\n",
      "        [2.6667, 2.6667, 2.6667]])\n"
     ]
    }
   ]
  },
  {
   "cell_type": "code",
   "metadata": {
    "id": "SY63Mcc-1iNI",
    "pycharm": {
     "name": "#%%\n"
    }
   },
   "source": [
    "x = torch.randn(3, requires_grad=True)\n",
    "\n",
    "y = x * 2\n",
    "\n",
    "print(y.data)\n",
    "while y.data.norm() < 1000:\n",
    "    print(y.data.norm())\n",
    "    y = y *2\n",
    "\n",
    "print(y)"
   ],
   "execution_count": 47,
   "outputs": [
    {
     "name": "stdout",
     "output_type": "stream",
     "text": [
      "tensor([2.1581, 0.8805, 0.6361])\n",
      "tensor(2.4160)\n",
      "tensor(4.8321)\n",
      "tensor(9.6642)\n",
      "tensor(19.3284)\n",
      "tensor(38.6568)\n",
      "tensor(77.3136)\n",
      "tensor(154.6272)\n",
      "tensor(309.2543)\n",
      "tensor(618.5087)\n",
      "tensor([1104.9469,  450.8032,  325.7003], grad_fn=<MulBackward0>)\n"
     ]
    }
   ]
  },
  {
   "cell_type": "code",
   "metadata": {
    "id": "YPaVAbIT3gx_",
    "pycharm": {
     "name": "#%%\n"
    }
   },
   "source": [
    "v = torch.tensor([0.1, 1.0, 0.001], dtype=torch.float)\n",
    "y.backward(v)\n",
    "\n",
    "print(x.grad)"
   ],
   "execution_count": 48,
   "outputs": [
    {
     "name": "stdout",
     "output_type": "stream",
     "text": [
      "tensor([ 102.4000, 1024.0000,    1.0240])\n"
     ]
    }
   ]
  },
  {
   "cell_type": "markdown",
   "metadata": {
    "id": "0b9amArPXtcX",
    "pycharm": {
     "name": "#%% md\n"
    }
   },
   "source": [
    "- `with torch.no_grad()`를 사용하여 gradient의 업데이트를 하지 않음"
   ]
  },
  {
   "cell_type": "code",
   "metadata": {
    "id": "weeIe5_Z3jVe",
    "pycharm": {
     "name": "#%%\n"
    }
   },
   "source": [
    "print(x.requires_grad)\n",
    "print((x**2).requires_grad)\n",
    "\n",
    "with torch.no_grad():\n",
    "    print((x**2).requires_grad)"
   ],
   "execution_count": 49,
   "outputs": [
    {
     "name": "stdout",
     "output_type": "stream",
     "text": [
      "True\n",
      "True\n",
      "False\n"
     ]
    }
   ]
  },
  {
   "cell_type": "markdown",
   "metadata": {
    "id": "bLcTLVRSmCdH",
    "pycharm": {
     "name": "#%% md\n"
    }
   },
   "source": [
    "- `detach()`: 내용물(content)은 같지만 require_grad가 다른 새로운 Tensor를 가져올 때"
   ]
  },
  {
   "cell_type": "code",
   "metadata": {
    "id": "ALcth7Ew3l7H",
    "pycharm": {
     "name": "#%%\n"
    }
   },
   "source": [
    "print(x.requires_grad)\n",
    "y = x.detach()\n",
    "print(y.requires_grad)\n",
    "print(x.eq(y).all())"
   ],
   "execution_count": 50,
   "outputs": [
    {
     "name": "stdout",
     "output_type": "stream",
     "text": [
      "True\n",
      "False\n",
      "tensor(True)\n"
     ]
    }
   ]
  },
  {
   "cell_type": "markdown",
   "metadata": {
    "id": "NSarysrqBh9D",
    "pycharm": {
     "name": "#%% md\n"
    }
   },
   "source": [
    "### 자동 미분 흐름 다시 보기(1)\n",
    "- 계산 흐름  \n",
    "  $a \\rightarrow b  \\rightarrow c  \\rightarrow out $\n",
    "\n",
    "<br>\n",
    "\n",
    "## $\\quad \\frac{\\partial out}{\\partial a} = ?$\n",
    "- `backward()`를 통해  \n",
    "  $a \\leftarrow b  \\leftarrow c  \\leftarrow out $을 계산하면  \n",
    "    $\\frac{\\partial out}{\\partial a}$값이 `a.grad`에 채워짐\n"
   ]
  },
  {
   "cell_type": "code",
   "metadata": {
    "id": "NUAc1etP3oBc",
    "pycharm": {
     "name": "#%%\n"
    }
   },
   "source": [
    "import torch"
   ],
   "execution_count": 51,
   "outputs": []
  },
  {
   "cell_type": "code",
   "metadata": {
    "id": "tCW7dq9uB89T",
    "pycharm": {
     "name": "#%%\n"
    }
   },
   "source": [
    "a = torch.ones(2,2)"
   ],
   "execution_count": 52,
   "outputs": []
  },
  {
   "cell_type": "code",
   "metadata": {
    "id": "-AyyGy49FLz9",
    "pycharm": {
     "name": "#%%\n"
    }
   },
   "source": [
    "a = torch.ones(2,2, requires_grad=True)"
   ],
   "execution_count": 53,
   "outputs": []
  },
  {
   "cell_type": "code",
   "metadata": {
    "id": "SmmJa-hvFPGH",
    "pycharm": {
     "name": "#%%\n"
    }
   },
   "source": [
    "print(\"a.data : \",a)\n",
    "print(\"a.grad : \", a.grad)\n",
    "print(\"a.grad_fn : \", a.grad_fn)\n"
   ],
   "execution_count": 54,
   "outputs": [
    {
     "name": "stdout",
     "output_type": "stream",
     "text": [
      "a.data :  tensor([[1., 1.],\n",
      "        [1., 1.]], requires_grad=True)\n",
      "a.grad :  None\n",
      "a.grad_fn :  None\n"
     ]
    }
   ]
  },
  {
   "cell_type": "markdown",
   "metadata": {
    "id": "BCwhTsiHGCmG",
    "pycharm": {
     "name": "#%% md\n"
    }
   },
   "source": [
    "- $b = a + 2$"
   ]
  },
  {
   "cell_type": "code",
   "metadata": {
    "id": "iUPt042iF9V1",
    "pycharm": {
     "name": "#%%\n"
    }
   },
   "source": [
    "b = a+2\n",
    "print(b)"
   ],
   "execution_count": 55,
   "outputs": [
    {
     "name": "stdout",
     "output_type": "stream",
     "text": [
      "tensor([[3., 3.],\n",
      "        [3., 3.]], grad_fn=<AddBackward0>)\n"
     ]
    }
   ]
  },
  {
   "cell_type": "markdown",
   "metadata": {
    "id": "6cw2zoq9GHLF",
    "pycharm": {
     "name": "#%% md\n"
    }
   },
   "source": [
    "- $c = b^2$ "
   ]
  },
  {
   "cell_type": "code",
   "metadata": {
    "id": "FRDS6gP0GFZG",
    "pycharm": {
     "name": "#%%\n"
    }
   },
   "source": [
    "c = b**2\n",
    "print(c)"
   ],
   "execution_count": 56,
   "outputs": [
    {
     "name": "stdout",
     "output_type": "stream",
     "text": [
      "tensor([[9., 9.],\n",
      "        [9., 9.]], grad_fn=<PowBackward0>)\n"
     ]
    }
   ]
  },
  {
   "cell_type": "code",
   "metadata": {
    "id": "VynoiUywGSwh",
    "pycharm": {
     "name": "#%%\n"
    }
   },
   "source": [
    "out = c.sum()\n",
    "print(out)"
   ],
   "execution_count": 57,
   "outputs": [
    {
     "name": "stdout",
     "output_type": "stream",
     "text": [
      "tensor(36., grad_fn=<SumBackward0>)\n"
     ]
    }
   ]
  },
  {
   "cell_type": "code",
   "metadata": {
    "id": "v3ryJon9GeMn",
    "pycharm": {
     "name": "#%%\n"
    }
   },
   "source": [
    "print(out)\n",
    "out.backward()"
   ],
   "execution_count": 58,
   "outputs": [
    {
     "name": "stdout",
     "output_type": "stream",
     "text": [
      "tensor(36., grad_fn=<SumBackward0>)\n"
     ]
    }
   ]
  },
  {
   "cell_type": "markdown",
   "metadata": {
    "id": "f0aoNsPDHsoG",
    "pycharm": {
     "name": "#%% md\n"
    }
   },
   "source": [
    "- a의 `grad_fn`이 None인 이유  \n",
    "  직접적으로 계산한 부분이 없었기 때문"
   ]
  },
  {
   "cell_type": "code",
   "metadata": {
    "id": "bccI4vIWGgqj",
    "pycharm": {
     "name": "#%%\n"
    }
   },
   "source": [
    "print(\"a.data\", a)\n",
    "print()\n",
    "print(\"a.grad : \", a.grad)\n",
    "print(\"a.grad_fn : \", a.grad_fn)"
   ],
   "execution_count": 59,
   "outputs": [
    {
     "name": "stdout",
     "output_type": "stream",
     "text": [
      "a.data tensor([[1., 1.],\n",
      "        [1., 1.]], requires_grad=True)\n",
      "\n",
      "a.grad :  tensor([[6., 6.],\n",
      "        [6., 6.]])\n",
      "a.grad_fn :  None\n"
     ]
    }
   ]
  },
  {
   "cell_type": "code",
   "metadata": {
    "id": "oka1mkadHq-N",
    "pycharm": {
     "name": "#%%\n"
    }
   },
   "source": [
    "print(\"b.data\", b)\n",
    "print()\n",
    "print(\"b.grad : \", b.grad)\n",
    "print(\"b.grad_fn : \", b.grad_fn)"
   ],
   "execution_count": 60,
   "outputs": [
    {
     "name": "stdout",
     "output_type": "stream",
     "text": [
      "b.data tensor([[3., 3.],\n",
      "        [3., 3.]], grad_fn=<AddBackward0>)\n",
      "\n",
      "b.grad :  None\n",
      "b.grad_fn :  <AddBackward0 object at 0x153f93160>\n"
     ]
    },
    {
     "name": "stderr",
     "output_type": "stream",
     "text": [
      "/Users/kim-seung-gyeom/opt/anaconda3/envs/ml/lib/python3.9/site-packages/torch/_tensor.py:1083: UserWarning: The .grad attribute of a Tensor that is not a leaf Tensor is being accessed. Its .grad attribute won't be populated during autograd.backward(). If you indeed want the .grad field to be populated for a non-leaf Tensor, use .retain_grad() on the non-leaf Tensor. If you access the non-leaf Tensor by mistake, make sure you access the leaf Tensor instead. See github.com/pytorch/pytorch/pull/30531 for more informations. (Triggered internally at  /Users/runner/work/pytorch/pytorch/pytorch/build/aten/src/ATen/core/TensorBody.h:482.)\n",
      "  return self._grad\n"
     ]
    }
   ]
  },
  {
   "cell_type": "code",
   "metadata": {
    "id": "ZiYNajdLccUF",
    "pycharm": {
     "name": "#%%\n"
    }
   },
   "source": [
    "print(\"c.data\", c)\n",
    "print()\n",
    "print(\"c.grad : \", c.grad)\n",
    "print(\"c.grad_fn : \", c.grad_fn)"
   ],
   "execution_count": 61,
   "outputs": [
    {
     "name": "stdout",
     "output_type": "stream",
     "text": [
      "c.data tensor([[9., 9.],\n",
      "        [9., 9.]], grad_fn=<PowBackward0>)\n",
      "\n",
      "c.grad :  None\n",
      "c.grad_fn :  <PowBackward0 object at 0x153f93fd0>\n"
     ]
    }
   ]
  },
  {
   "cell_type": "code",
   "metadata": {
    "id": "BcLoMYite0vU",
    "pycharm": {
     "name": "#%%\n"
    }
   },
   "source": [
    "print(\"out.data\", out)\n",
    "print()\n",
    "print(\"out.grad : \", out.grad)\n",
    "print(\"out.grad_fn : \", out.grad_fn)"
   ],
   "execution_count": 62,
   "outputs": [
    {
     "name": "stdout",
     "output_type": "stream",
     "text": [
      "out.data tensor(36., grad_fn=<SumBackward0>)\n",
      "\n",
      "out.grad :  None\n",
      "out.grad_fn :  <SumBackward0 object at 0x153f933a0>\n"
     ]
    }
   ]
  },
  {
   "cell_type": "markdown",
   "metadata": {
    "id": "qZXgwviHfovj",
    "pycharm": {
     "name": "#%% md\n"
    }
   },
   "source": [
    "### 자동 미분 흐름 다시 보기(2)\n",
    "- `grad`값을 넣어서 `backward`\n",
    "\n",
    "- 아래의 코드에서 `.grad`값이 None은 gradient값이 필요하지 않기 때문"
   ]
  },
  {
   "cell_type": "code",
   "metadata": {
    "id": "bB6DCYXRfcI_",
    "pycharm": {
     "name": "#%%\n"
    }
   },
   "source": [
    "x = torch.ones(3, requires_grad=True)\n",
    "y =  x**2\n",
    "z = y **2 +x\n",
    "\n",
    "out = z.sum()\n",
    "print(out)"
   ],
   "execution_count": 63,
   "outputs": [
    {
     "name": "stdout",
     "output_type": "stream",
     "text": [
      "tensor(6., grad_fn=<SumBackward0>)\n"
     ]
    }
   ]
  },
  {
   "cell_type": "code",
   "metadata": {
    "id": "AVo-glm8fvFv",
    "pycharm": {
     "name": "#%%\n"
    }
   },
   "source": [
    "grad = torch.Tensor([0.1, 1, 100])\n",
    "z.backward(grad)"
   ],
   "execution_count": 64,
   "outputs": []
  },
  {
   "cell_type": "code",
   "metadata": {
    "id": "tdBklrepf2qq",
    "pycharm": {
     "name": "#%%\n"
    }
   },
   "source": [
    "print(\"x.data\", x)\n",
    "print()\n",
    "print(\"x.grad : \", x.grad)\n",
    "print(\"x.grad_fn : \", x.grad_fn)"
   ],
   "execution_count": 65,
   "outputs": [
    {
     "name": "stdout",
     "output_type": "stream",
     "text": [
      "x.data tensor([1., 1., 1.], requires_grad=True)\n",
      "\n",
      "x.grad :  tensor([  0.5000,   5.0000, 500.0000])\n",
      "x.grad_fn :  None\n"
     ]
    }
   ]
  },
  {
   "cell_type": "code",
   "metadata": {
    "id": "HQvUGlfRf7jU",
    "pycharm": {
     "name": "#%%\n"
    }
   },
   "source": [
    "print(\"y.data\", y)\n",
    "print()\n",
    "print(\"y.grad : \", y.grad)\n",
    "print(\"y.grad_fn : \", y.grad_fn)"
   ],
   "execution_count": 66,
   "outputs": [
    {
     "name": "stdout",
     "output_type": "stream",
     "text": [
      "y.data tensor([1., 1., 1.], grad_fn=<PowBackward0>)\n",
      "\n",
      "y.grad :  None\n",
      "y.grad_fn :  <PowBackward0 object at 0x153f98a60>\n"
     ]
    }
   ]
  },
  {
   "cell_type": "markdown",
   "metadata": {
    "id": "DKv-osmNmWiA",
    "pycharm": {
     "name": "#%% md\n"
    }
   },
   "source": [
    "## nn & nn.functional\n",
    "\n",
    "- 두 패키지가 같은 기능이지만 방식이 조금 다름\n",
    "\n",
    "- 위의 `autograd` 관련 작업들을 두 패키지를 통해 진행할 수 있음\n",
    "\n",
    "- 텐서를 직접 다룰 때 `requires_grad`와 같은 방식으로 진행할 수 있음\n",
    "\n",
    "- 결론적으로, `torch.nn`은 attribute를 활용해 state를 저장하고 활용하고,  \n",
    "  `torch.nn.functional`로 구현한 함수의 경우에는 인스턴스화 시킬 필요 없이 사용이 가능\n",
    " \n"
   ]
  },
  {
   "cell_type": "markdown",
   "metadata": {
    "id": "jk8fkKq3nWP1",
    "pycharm": {
     "name": "#%% md\n"
    }
   },
   "source": [
    "### nn 패키지\n",
    "\n",
    "- 주로 가중치(weights), 편향(bias)값들이 내부에서 자동으로 생성되는 레이어들을 사용할 때  \n",
    "  - 따라서, `weight`값들을 직접 선언 안함\n",
    "\n",
    "- 예시\n",
    "  - Containers\n",
    "\n",
    "  - Convolution Layers\n",
    "\n",
    "  - Pooling layers\n",
    "\n",
    "  - Padding Layers\n",
    "\n",
    "  - Non-linear Activations (weighted sum, nonlinearity)\n",
    "\n",
    "  - Non-linear Activations (other)\n",
    "\n",
    "  - Normalization Layers\n",
    "\n",
    "  - Recurrent Layers\n",
    "\n",
    "  - Transformer Layers\n",
    "\n",
    "  - Linear Layers\n",
    "\n",
    "  - Dropout Layers\n",
    "\n",
    "  - Sparse Layers\n",
    "\n",
    "  - Distance Functions\n",
    "\n",
    "  - Loss Functions\n",
    "\n",
    "  - ..\n",
    "- https://pytorch.org/docs/stable/nn.html\n",
    "\n"
   ]
  },
  {
   "cell_type": "markdown",
   "metadata": {
    "id": "NcjCbeEQqPSI",
    "pycharm": {
     "name": "#%% md\n"
    }
   },
   "source": [
    "- Convolution Layer 예시 (1)\n"
   ]
  },
  {
   "cell_type": "code",
   "metadata": {
    "id": "NQ7Y0tCOpkhM",
    "pycharm": {
     "name": "#%%\n"
    }
   },
   "source": [
    "import torch\n",
    "import torch.nn as nn"
   ],
   "execution_count": 67,
   "outputs": []
  },
  {
   "cell_type": "code",
   "metadata": {
    "id": "RLqGbclbp3_N",
    "pycharm": {
     "name": "#%%\n"
    }
   },
   "source": [
    "m = nn.Conv2d(16, 33, 3, stride=2)\n",
    "m = nn.Conv2d(16, 33, (3,5), stride=(2,1), padding=(4,2))\n",
    "\n",
    "m = nn.Conv2d(16, 33, (3,5), stride=(2,1), padding=(4,2), dilation=(3,1))\n",
    "\n",
    "input = torch.randn(20,16,50,100)\n",
    "output = m(input)"
   ],
   "execution_count": 68,
   "outputs": []
  },
  {
   "cell_type": "code",
   "execution_count": 69,
   "outputs": [
    {
     "data": {
      "text/plain": "torch.Size([20, 33, 26, 100])"
     },
     "execution_count": 69,
     "metadata": {},
     "output_type": "execute_result"
    }
   ],
   "source": [
    "output.shape"
   ],
   "metadata": {
    "collapsed": false,
    "pycharm": {
     "name": "#%%\n"
    }
   }
  },
  {
   "cell_type": "markdown",
   "metadata": {
    "id": "CYeGAJEuneqW",
    "pycharm": {
     "name": "#%% md\n"
    }
   },
   "source": [
    "### nn.functional 패키지\n",
    "\n",
    "- 가중치를 직접 선언하여 인자로 넣어줘야함\n",
    "\n",
    "- 예시)\n",
    "  - Convolution functions\n",
    "\n",
    "  - Pooling functions\n",
    "  \n",
    "  - Non-linear activation functions\n",
    "\n",
    "  - Normalization functions\n",
    "\n",
    "  - Linear functions\n",
    "\n",
    "  - Dropout functions\n",
    "  \n",
    "  - Sparse functions\n",
    "  \n",
    "  - Distance functions\n",
    "\n",
    "  - Loss functions\n",
    "  - ..\n",
    "\n",
    "- https://pytorch.org/docs/stable/nn.functional.html"
   ]
  },
  {
   "cell_type": "code",
   "metadata": {
    "id": "NpwbO9Dhpflm",
    "pycharm": {
     "name": "#%%\n"
    }
   },
   "source": [
    "import torch\n",
    "import torch.nn.functional as F"
   ],
   "execution_count": 70,
   "outputs": []
  },
  {
   "cell_type": "markdown",
   "metadata": {
    "id": "fUYaJ5aLqKed",
    "pycharm": {
     "name": "#%% md\n"
    }
   },
   "source": [
    "- Convolution Layer 예시 (2)"
   ]
  },
  {
   "cell_type": "code",
   "metadata": {
    "id": "GAWLQE2GouHP",
    "pycharm": {
     "name": "#%%\n"
    }
   },
   "source": [
    "filters = torch.randn(8,4,3,3)"
   ],
   "execution_count": 71,
   "outputs": []
  },
  {
   "cell_type": "code",
   "metadata": {
    "id": "lWmSlFBrpms1",
    "pycharm": {
     "name": "#%%\n"
    }
   },
   "source": [
    "input = torch.randn(1,4,5,5)\n",
    "cov = F.conv2d(input, filters, padding=1)\n",
    "cov.shape"
   ],
   "execution_count": 72,
   "outputs": [
    {
     "data": {
      "text/plain": "torch.Size([1, 8, 5, 5])"
     },
     "execution_count": 72,
     "metadata": {},
     "output_type": "execute_result"
    }
   ]
  },
  {
   "cell_type": "markdown",
   "metadata": {
    "id": "Wah4RsmgrRDP",
    "pycharm": {
     "name": "#%% md\n"
    }
   },
   "source": [
    "## Torchvision\n",
    "\n",
    "- `transforms`: 전처리할 때 사용하는 메소드\n",
    "\n",
    "- `transforms`에서 제공하는 클래스 이외에  \n",
    "  일반적으로 클래스를 따로 만들어 전처리 단계를 진행\n",
    "  \n",
    "  - 아래의 코드에서 다양한 전처리 기술 확인  \n",
    "    https://pytorch.org/docs/stable/torchvision/transforms.html\n"
   ]
  },
  {
   "cell_type": "code",
   "metadata": {
    "id": "akvq4QWmqSil",
    "pycharm": {
     "name": "#%%\n"
    }
   },
   "source": [
    "import torch\n",
    "import torchvision\n",
    "import torchvision.transforms as transforms"
   ],
   "execution_count": 73,
   "outputs": []
  },
  {
   "cell_type": "markdown",
   "metadata": {
    "id": "PKu5mzyTs-Qj",
    "pycharm": {
     "name": "#%% md\n"
    }
   },
   "source": [
    "- 예시)\n",
    "  - `DataLoader`의 인자로 들어갈 `transform`을 미리 정의할 수 있음\n",
    "\n",
    "  - `Compose`를 통해 리스트 안에 순서대로 전처리 진행\n",
    "\n",
    "  - 대표적인 예로, `ToTensor`()를 하는 이유는  \n",
    "   <u>torchvision이 PIL Image형태로만 입력을 받기 때문에</u> 데이터 처리를 위해서 Tensor형으로 변환해야함"
   ]
  },
  {
   "cell_type": "code",
   "metadata": {
    "id": "y6K7FH-Rs9my",
    "pycharm": {
     "name": "#%%\n"
    }
   },
   "source": [
    "transform = transforms.Compose([transforms.ToTensor(), transforms.Normalize(mean=(0.5,), std=(0.5,))])"
   ],
   "execution_count": 74,
   "outputs": []
  },
  {
   "cell_type": "markdown",
   "metadata": {
    "id": "I4l1GvIlslKa",
    "pycharm": {
     "name": "#%% md\n"
    }
   },
   "source": [
    "## utils.data\n",
    "\n",
    "- `Dataset`에는 다양한 데이터셋이 존재  \n",
    "  - MNIST, CIFAR10, ...\n",
    "\n",
    "- `DataLoader`, `Dataset`을 통해  \n",
    "  `batch_size`, `train`여부, `transform`등을 인자로 넣어 데이터를 어떻게 load할 것인지 정해줄 수 있음"
   ]
  },
  {
   "cell_type": "code",
   "metadata": {
    "id": "1wsZKY7-s2Vv",
    "pycharm": {
     "name": "#%%\n"
    }
   },
   "source": [
    "import torch\n",
    "from torch.utils.data import Dataset, DataLoader\n",
    "\n",
    "import torchvision\n",
    "import torchvision.transforms as transforms"
   ],
   "execution_count": 75,
   "outputs": []
  },
  {
   "cell_type": "code",
   "metadata": {
    "id": "lldpI2lquBu3",
    "pycharm": {
     "name": "#%%\n"
    }
   },
   "source": [
    "train_set = torchvision.datasets.MNIST(\n",
    "    root = './',\n",
    "    train = True,\n",
    "    download=True,\n",
    "    transform=transform\n",
    ")\n",
    "\n",
    "test_set = torchvision.datasets.MNIST(\n",
    "    root = './',\n",
    "    train = False,\n",
    "    download=True,\n",
    "    transform=transform\n",
    ")"
   ],
   "execution_count": 76,
   "outputs": []
  },
  {
   "cell_type": "code",
   "metadata": {
    "id": "fKddZnT1uQmT",
    "pycharm": {
     "name": "#%%\n"
    }
   },
   "source": [
    "train_loader = DataLoader(train_set, batch_size=8, shuffle=True, num_workers=2)\n",
    "test_loader = DataLoader(test_set, batch_size=8, shuffle=False, num_workers=2)"
   ],
   "execution_count": 77,
   "outputs": []
  },
  {
   "cell_type": "markdown",
   "metadata": {
    "id": "zrxymquLxeo8",
    "pycharm": {
     "name": "#%% md\n"
    }
   },
   "source": [
    "- `batch_size`만큼 데이터를 하나씩 가져옴"
   ]
  },
  {
   "cell_type": "code",
   "metadata": {
    "id": "hvgMIyF6uUuU",
    "pycharm": {
     "name": "#%%\n"
    }
   },
   "source": [
    "dataiter = iter(train_loader)\n",
    "images, labels = dataiter.next()\n",
    "images.shape, labels.shape"
   ],
   "execution_count": 78,
   "outputs": [
    {
     "data": {
      "text/plain": "(torch.Size([8, 1, 28, 28]), torch.Size([8]))"
     },
     "execution_count": 78,
     "metadata": {},
     "output_type": "execute_result"
    }
   ]
  },
  {
   "cell_type": "markdown",
   "metadata": {
    "id": "YPUC0a0aw6OM",
    "pycharm": {
     "name": "#%% md\n"
    }
   },
   "source": [
    "<u>**(중요) torch에서는 channel(채널)이 앞에 옴**</u>\n",
    "\n",
    "- `channel first`\n",
    "\n",
    "- tensorflow, keras 등에서는 channel이 뒤에 옴(`channel last`)"
   ]
  },
  {
   "cell_type": "markdown",
   "metadata": {
    "id": "wuhylD3iyFYr",
    "pycharm": {
     "name": "#%% md\n"
    }
   },
   "source": [
    "### 데이터 확인"
   ]
  },
  {
   "cell_type": "code",
   "metadata": {
    "id": "C9hAQmQlul8P",
    "pycharm": {
     "name": "#%%\n"
    }
   },
   "source": [
    "import matplotlib.pyplot as plt\n",
    "plt.style.use('seaborn-white')"
   ],
   "execution_count": 79,
   "outputs": []
  },
  {
   "cell_type": "code",
   "metadata": {
    "id": "zDcUY6o4xUQp",
    "pycharm": {
     "name": "#%%\n"
    }
   },
   "source": [
    "torch_image = torch.squeeze(images[0])\n",
    "torch_image.shape"
   ],
   "execution_count": 80,
   "outputs": [
    {
     "data": {
      "text/plain": "torch.Size([28, 28])"
     },
     "execution_count": 80,
     "metadata": {},
     "output_type": "execute_result"
    }
   ]
  },
  {
   "cell_type": "code",
   "metadata": {
    "id": "MZmPWiGbxoiW",
    "pycharm": {
     "name": "#%%\n"
    }
   },
   "source": [
    "image = torch_image.numpy()\n",
    "image.shape"
   ],
   "execution_count": 81,
   "outputs": [
    {
     "data": {
      "text/plain": "(28, 28)"
     },
     "execution_count": 81,
     "metadata": {},
     "output_type": "execute_result"
    }
   ]
  },
  {
   "cell_type": "code",
   "metadata": {
    "id": "AUOdd4UaxaXO",
    "pycharm": {
     "name": "#%%\n"
    }
   },
   "source": [
    "label = labels[0].numpy()\n",
    "label.shape"
   ],
   "execution_count": 82,
   "outputs": [
    {
     "data": {
      "text/plain": "()"
     },
     "execution_count": 82,
     "metadata": {},
     "output_type": "execute_result"
    }
   ]
  },
  {
   "cell_type": "code",
   "metadata": {
    "id": "PDQfjw4wxr1z",
    "pycharm": {
     "name": "#%%\n"
    }
   },
   "source": [
    "label"
   ],
   "execution_count": 83,
   "outputs": [
    {
     "data": {
      "text/plain": "array(9)"
     },
     "execution_count": 83,
     "metadata": {},
     "output_type": "execute_result"
    }
   ]
  },
  {
   "cell_type": "code",
   "metadata": {
    "id": "JDCVw59ax3-A",
    "pycharm": {
     "name": "#%%\n"
    }
   },
   "source": [
    "plt.title(label)\n",
    "plt.imshow(image, cmap='gray')\n",
    "plt.show()"
   ],
   "execution_count": 84,
   "outputs": [
    {
     "data": {
      "text/plain": "<Figure size 432x288 with 1 Axes>",
      "image/png": "[encoded data removed]"
     },
     "metadata": {},
     "output_type": "display_data"
    }
   ]
  },
  {
   "cell_type": "markdown",
   "metadata": {
    "id": "JVcWQlxzihtS",
    "pycharm": {
     "name": "#%% md\n"
    }
   },
   "source": [
    "## 각 Layer 설명"
   ]
  },
  {
   "cell_type": "code",
   "metadata": {
    "id": "IGXn1_weif5H",
    "pycharm": {
     "name": "#%%\n"
    }
   },
   "source": [
    "import torch\n",
    "import torch.nn as nn\n",
    "import torch.nn.functional as F\n",
    "import torch.optim as optim"
   ],
   "execution_count": 85,
   "outputs": []
  },
  {
   "cell_type": "markdown",
   "metadata": {
    "id": "73kJ3heBi26y",
    "pycharm": {
     "name": "#%% md\n"
    }
   },
   "source": [
    "### nn.Conv2d\n",
    "\n",
    "- `in_channels`: channel의 갯수\n",
    "\n",
    "- `out_channels`: 출력 채널의 갯수\n",
    "\n",
    "- `kernel_size`: 커널(필터) 사이즈\n",
    "\n",
    "- 텐서플로우, 케라스와 다르게 레이어의 `input`인자에도 값을 집어 넣어줘야함"
   ]
  },
  {
   "cell_type": "code",
   "metadata": {
    "id": "RcHJguyFipTl",
    "pycharm": {
     "name": "#%%\n"
    }
   },
   "source": [
    "nn.Conv2d(in_channels=1, out_channels=20, kernel_size=5, stride=1)"
   ],
   "execution_count": 86,
   "outputs": [
    {
     "data": {
      "text/plain": "Conv2d(1, 20, kernel_size=(5, 5), stride=(1, 1))"
     },
     "execution_count": 86,
     "metadata": {},
     "output_type": "execute_result"
    }
   ]
  },
  {
   "cell_type": "code",
   "metadata": {
    "id": "iWiJbViHjFG0",
    "pycharm": {
     "name": "#%%\n"
    }
   },
   "source": [
    "layer = nn.Conv2d(1,20,5,1).to(torch.device('cpu'))\n",
    "layer"
   ],
   "execution_count": 87,
   "outputs": [
    {
     "data": {
      "text/plain": "Conv2d(1, 20, kernel_size=(5, 5), stride=(1, 1))"
     },
     "execution_count": 87,
     "metadata": {},
     "output_type": "execute_result"
    }
   ]
  },
  {
   "cell_type": "markdown",
   "metadata": {
    "id": "GxWYFm2xjUeN",
    "pycharm": {
     "name": "#%% md\n"
    }
   },
   "source": [
    "- `wegiht`확인"
   ]
  },
  {
   "cell_type": "code",
   "metadata": {
    "id": "za0enRbyjPzV",
    "pycharm": {
     "name": "#%%\n"
    }
   },
   "source": [
    "weight = layer.weight\n",
    "weight.shape"
   ],
   "execution_count": 88,
   "outputs": [
    {
     "data": {
      "text/plain": "torch.Size([20, 1, 5, 5])"
     },
     "execution_count": 88,
     "metadata": {},
     "output_type": "execute_result"
    }
   ]
  },
  {
   "cell_type": "markdown",
   "metadata": {
    "id": "MAZcTU2gjiCX",
    "pycharm": {
     "name": "#%% md\n"
    }
   },
   "source": [
    "- `weight`는 `detach()`를 통해 꺼내줘야 `numpy()`변환이 가능"
   ]
  },
  {
   "cell_type": "code",
   "metadata": {
    "id": "9eN_oUBkjT85",
    "pycharm": {
     "name": "#%%\n"
    }
   },
   "source": [
    "weight = weight.detach()"
   ],
   "execution_count": 89,
   "outputs": []
  },
  {
   "cell_type": "code",
   "metadata": {
    "id": "kwso9tsijmz8",
    "pycharm": {
     "name": "#%%\n"
    }
   },
   "source": [
    "weight = weight.numpy()"
   ],
   "execution_count": 90,
   "outputs": []
  },
  {
   "cell_type": "code",
   "metadata": {
    "id": "mUegf6HPjdPl",
    "pycharm": {
     "name": "#%%\n"
    }
   },
   "source": [
    "weight.shape"
   ],
   "execution_count": 91,
   "outputs": [
    {
     "data": {
      "text/plain": "(20, 1, 5, 5)"
     },
     "execution_count": 91,
     "metadata": {},
     "output_type": "execute_result"
    }
   ]
  },
  {
   "cell_type": "code",
   "metadata": {
    "id": "DMeTOqVmcdWa",
    "pycharm": {
     "name": "#%%\n"
    }
   },
   "source": [
    "plt.imshow(weight[0, 0, :, :], 'jet')\n",
    "plt.colorbar()\n",
    "plt.show()"
   ],
   "execution_count": 92,
   "outputs": [
    {
     "data": {
      "text/plain": "<Figure size 432x288 with 2 Axes>",
      "image/png": "[encoded data removed]"
     },
     "metadata": {},
     "output_type": "display_data"
    }
   ]
  },
  {
   "cell_type": "code",
   "metadata": {
    "id": "cvolnNsscdHs",
    "pycharm": {
     "name": "#%%\n"
    }
   },
   "source": [
    "print(images.shape)"
   ],
   "execution_count": 93,
   "outputs": [
    {
     "name": "stdout",
     "output_type": "stream",
     "text": [
      "torch.Size([8, 1, 28, 28])\n"
     ]
    }
   ]
  },
  {
   "cell_type": "code",
   "metadata": {
    "id": "NLOAfD5mjup1",
    "pycharm": {
     "name": "#%%\n"
    }
   },
   "source": [
    "input_image = torch.unsqueeze(images[0], dim=0)"
   ],
   "execution_count": 94,
   "outputs": []
  },
  {
   "cell_type": "code",
   "metadata": {
    "id": "r50wFkl6j1sY",
    "pycharm": {
     "name": "#%%\n"
    }
   },
   "source": [
    "output_data = layer(input_image)"
   ],
   "execution_count": 95,
   "outputs": []
  },
  {
   "cell_type": "code",
   "metadata": {
    "id": "ZiIp-frJj2Hl",
    "pycharm": {
     "name": "#%%\n"
    }
   },
   "source": [
    "output = output_data.data"
   ],
   "execution_count": 96,
   "outputs": []
  },
  {
   "cell_type": "code",
   "metadata": {
    "id": "uOHMu-UQkW3a",
    "pycharm": {
     "name": "#%%\n"
    }
   },
   "source": [
    "output_arr = output.numpy()\n",
    "output_arr.shape"
   ],
   "execution_count": 97,
   "outputs": [
    {
     "data": {
      "text/plain": "(1, 20, 24, 24)"
     },
     "execution_count": 97,
     "metadata": {},
     "output_type": "execute_result"
    }
   ]
  },
  {
   "cell_type": "code",
   "execution_count": 98,
   "outputs": [
    {
     "data": {
      "text/plain": "<Figure size 1080x2160 with 3 Axes>",
      "image/png": "[encoded data removed]"
     },
     "metadata": {},
     "output_type": "display_data"
    }
   ],
   "source": [
    "plt.figure(figsize=(15,30))\n",
    "\n",
    "plt.subplot(1,3,1)\n",
    "plt.title('Input')\n",
    "plt.imshow(image, 'gray')\n",
    "plt.subplot(1,3,2)\n",
    "plt.title('Weight')\n",
    "plt.imshow(weight[0, 0, :, :], 'jet')\n",
    "plt.subplot(1,3,3)\n",
    "plt.title('Output')\n",
    "plt.imshow(output_arr[0,0,:,:], 'gray')\n",
    "plt.show()"
   ],
   "metadata": {
    "collapsed": false,
    "pycharm": {
     "name": "#%%\n"
    }
   }
  },
  {
   "cell_type": "markdown",
   "metadata": {
    "id": "6sCqGmH_kwHm",
    "pycharm": {
     "name": "#%% md\n"
    }
   },
   "source": [
    "### Pooling\n",
    "- `F.max_pool2d` \n",
    "  - `stride`\n",
    "\n",
    "  - `kernel_size`\n",
    "\n",
    "- `torch.nn.MaxPool2d` 도 많이 사용"
   ]
  },
  {
   "cell_type": "code",
   "metadata": {
    "id": "AYqPrLH1kxQl",
    "pycharm": {
     "name": "#%%\n"
    }
   },
   "source": [
    "image.shape"
   ],
   "execution_count": 99,
   "outputs": [
    {
     "data": {
      "text/plain": "(28, 28)"
     },
     "execution_count": 99,
     "metadata": {},
     "output_type": "execute_result"
    }
   ]
  },
  {
   "cell_type": "code",
   "metadata": {
    "id": "tvI8W_8Yk81S",
    "pycharm": {
     "name": "#%%\n"
    }
   },
   "source": [
    "pool = F.max_pool2d(output, 2, 2)\n",
    "pool.shape"
   ],
   "execution_count": 100,
   "outputs": [
    {
     "data": {
      "text/plain": "torch.Size([1, 20, 12, 12])"
     },
     "execution_count": 100,
     "metadata": {},
     "output_type": "execute_result"
    }
   ]
  },
  {
   "cell_type": "markdown",
   "metadata": {
    "id": "aV3HK4FulCaJ",
    "pycharm": {
     "name": "#%% md\n"
    }
   },
   "source": [
    "- MaxPool Layer는 weight가 없기 때문에 바로 `numpy()`변환 가능"
   ]
  },
  {
   "cell_type": "code",
   "metadata": {
    "id": "fseB_qlflBta",
    "pycharm": {
     "name": "#%%\n"
    }
   },
   "source": [
    "pool_arr = pool.numpy()\n",
    "pool_arr.shape"
   ],
   "execution_count": 101,
   "outputs": [
    {
     "data": {
      "text/plain": "(1, 20, 12, 12)"
     },
     "execution_count": 101,
     "metadata": {},
     "output_type": "execute_result"
    }
   ]
  },
  {
   "cell_type": "code",
   "metadata": {
    "id": "6w8DQnNtlNCq",
    "pycharm": {
     "name": "#%%\n"
    }
   },
   "source": [
    "plt.figure(figsize=(10,15))\n",
    "\n",
    "plt.subplot(121)\n",
    "plt.title('Input')\n",
    "plt.imshow(image, 'gray')\n",
    "\n",
    "plt.subplot(122)\n",
    "plt.title('Output')\n",
    "plt.imshow(pool_arr[0,0,:,:], 'gray')\n",
    "plt.show()"
   ],
   "execution_count": 102,
   "outputs": [
    {
     "data": {
      "text/plain": "<Figure size 720x1080 with 2 Axes>",
      "image/png": "[encoded data removed]"
     },
     "metadata": {},
     "output_type": "display_data"
    }
   ]
  },
  {
   "cell_type": "markdown",
   "metadata": {
    "id": "q7RVioKwlbH1",
    "pycharm": {
     "name": "#%% md\n"
    }
   },
   "source": [
    "### Linear\n",
    "- 1d만 가능 `.view()`를 통해 1D로 펼쳐줘야함"
   ]
  },
  {
   "cell_type": "code",
   "metadata": {
    "id": "Kwcedadrlcbl",
    "pycharm": {
     "name": "#%%\n"
    }
   },
   "source": [],
   "execution_count": 102,
   "outputs": []
  },
  {
   "cell_type": "code",
   "metadata": {
    "id": "_mYQy4I3lmAm",
    "pycharm": {
     "name": "#%%\n"
    }
   },
   "source": [],
   "execution_count": 102,
   "outputs": []
  },
  {
   "cell_type": "code",
   "metadata": {
    "id": "6wgSmY0Zlofk",
    "pycharm": {
     "name": "#%%\n"
    }
   },
   "source": [],
   "execution_count": 102,
   "outputs": []
  },
  {
   "cell_type": "code",
   "metadata": {
    "id": "LcJFqf0alsxr",
    "pycharm": {
     "name": "#%%\n"
    }
   },
   "source": [],
   "execution_count": 102,
   "outputs": []
  },
  {
   "cell_type": "code",
   "metadata": {
    "id": "ewEpebSVluHz",
    "pycharm": {
     "name": "#%%\n"
    }
   },
   "source": [],
   "execution_count": 102,
   "outputs": []
  },
  {
   "cell_type": "markdown",
   "metadata": {
    "id": "0IjPKDKRl3CV",
    "pycharm": {
     "name": "#%% md\n"
    }
   },
   "source": [
    "### Softmax"
   ]
  },
  {
   "cell_type": "code",
   "metadata": {
    "id": "obhBb3O-lzbs",
    "pycharm": {
     "name": "#%%\n"
    }
   },
   "source": [],
   "execution_count": 102,
   "outputs": []
  },
  {
   "cell_type": "code",
   "metadata": {
    "id": "ljgOEyNMmBEE",
    "pycharm": {
     "name": "#%%\n"
    }
   },
   "source": [],
   "execution_count": 102,
   "outputs": []
  },
  {
   "cell_type": "code",
   "metadata": {
    "id": "18ymFSRAmBo7",
    "pycharm": {
     "name": "#%%\n"
    }
   },
   "source": [],
   "execution_count": 102,
   "outputs": []
  },
  {
   "cell_type": "markdown",
   "metadata": {
    "id": "bYh13Bnj5wEN",
    "pycharm": {
     "name": "#%% md\n"
    }
   },
   "source": [
    "### F.relu\n",
    "\n",
    "- ReLU 함수를 적용하는 레이어\n",
    "\n",
    "- `nn.ReLU`로도 사용 가능"
   ]
  },
  {
   "cell_type": "code",
   "metadata": {
    "id": "D4VFePpR9_Ak",
    "pycharm": {
     "name": "#%%\n"
    }
   },
   "source": [],
   "execution_count": 102,
   "outputs": []
  },
  {
   "cell_type": "code",
   "metadata": {
    "id": "1lKlSiaY5wZW",
    "pycharm": {
     "name": "#%%\n"
    }
   },
   "source": [],
   "execution_count": 102,
   "outputs": []
  },
  {
   "cell_type": "markdown",
   "metadata": {
    "id": "0yuABl4h-yye",
    "pycharm": {
     "name": "#%% md\n"
    }
   },
   "source": [
    "## Optimizer\n",
    "\n",
    "- `import torch.optim as optim`\n",
    "\n",
    "- `model`의 파라미터를 업데이트\n",
    "\n",
    "- 예시)\n",
    "  ```python\n",
    "  optimizer = torch.optim.Adam(model.parameters(), lr=1e-4, weight_decay=1e-5)\n",
    "  optimizer = optim.SGD(model.parameters(), lr=0.001)\n",
    "  ```\n",
    "\n",
    "- `.zero_grad()`로 초기화\n",
    "- `.step()`으로 업데이트\n",
    "\n"
   ]
  },
  {
   "cell_type": "code",
   "execution_count": 102,
   "outputs": [],
   "source": [],
   "metadata": {
    "collapsed": false,
    "pycharm": {
     "name": "#%%\n"
    }
   }
  }
 ]
}