{
 "nbformat": 4,
 "nbformat_minor": 0,
 "metadata": {
  "colab": {
   "name": "_10 파이토치 신경망 생성.ipynb",
   "provenance": [],
   "collapsed_sections": []
  },
  "kernelspec": {
   "name": "python3",
   "display_name": "Python 3"
  }
 },
 "cells": [
  {
   "cell_type": "markdown",
   "metadata": {
    "id": "cNIhNfg44knT",
    "pycharm": {
     "name": "#%% md\n"
    }
   },
   "source": [
    "# 신경망 생성\n",
    "- `torch.nn` 패키지 사용\n",
    "\n",
    "- `nn.Module`을 상속받고, 해당 모듈은 계층과 `output`을 반환하는 `forward`메소드를 포함\n",
    "\n",
    "- 파이토치에서 신경망 생성을 위한 기본 틀\n",
    "\n",
    "      1. class Net(nn.Module):\n",
    "\n",
    "           def __init__(self):\n",
    "               super(Net, self).__init__()\n",
    "\n",
    "      2. class MyModel(nn.Module):\n",
    "\n",
    "            def __init__(self):\n",
    "                super(MyModel, self).__init__()\n",
    "\n",
    "- `conv2d` 레이어를 쌓을 때, 필터의 갯수를 계산하고 `in_channels`에 넣어줘야함\n",
    "\n",
    "        "
   ]
  },
  {
   "cell_type": "markdown",
   "metadata": {
    "id": "vVP0IKPG5XCl",
    "pycharm": {
     "name": "#%% md\n"
    }
   },
   "source": [
    "## 신경망 정의"
   ]
  },
  {
   "cell_type": "code",
   "metadata": {
    "id": "EtObfSjK4gzu",
    "pycharm": {
     "name": "#%%\n"
    }
   },
   "source": [
    "import torch\n",
    "import torch.nn as nn\n",
    "import torch.nn.functional as F\n",
    "\n"
   ],
   "execution_count": 51,
   "outputs": []
  },
  {
   "cell_type": "code",
   "metadata": {
    "id": "TrkSO0qj5aWu",
    "pycharm": {
     "name": "#%%\n"
    }
   },
   "source": [
    "class Net(nn.Module):\n",
    "\n",
    "    def __init__(self):\n",
    "        super().__init__()\n",
    "\n",
    "        self.conv1 = nn.Conv2d(1,6,3)\n",
    "        self.conv2 = nn.Conv2d(6,16,3)\n",
    "\n",
    "        self.fc1 = nn.Linear(16*6*6, 120)\n",
    "        self.fc2 = nn.Linear(120, 84)\n",
    "        self.fc3 = nn.Linear(84, 10)\n",
    "\n",
    "\n",
    "    def forward(self, x):\n",
    "        x = F.max_pool2d(F.relu(self.conv1(x)) ,2)\n",
    "        x = F.max_pool2d(F.relu(self.conv2(x)), 2)\n",
    "        x = x.view(-1, self.num_flat_features(x))\n",
    "        x = F.relu(self.fc1(x))\n",
    "        x = F.relu(self.fc2(x))\n",
    "        x = self.fc3(x)\n",
    "        return x\n",
    "\n",
    "    def num_flat_features(self, x):\n",
    "        size = x.size()[1:]\n",
    "        num_features = 1\n",
    "        for s in size :\n",
    "            num_features *= s\n",
    "\n",
    "        return num_features\n",
    "\n",
    "net =Net()\n",
    "print(net)"
   ],
   "execution_count": 52,
   "outputs": [
    {
     "name": "stdout",
     "output_type": "stream",
     "text": [
      "Net(\n",
      "  (conv1): Conv2d(1, 6, kernel_size=(3, 3), stride=(1, 1))\n",
      "  (conv2): Conv2d(6, 16, kernel_size=(3, 3), stride=(1, 1))\n",
      "  (fc1): Linear(in_features=576, out_features=120, bias=True)\n",
      "  (fc2): Linear(in_features=120, out_features=84, bias=True)\n",
      "  (fc3): Linear(in_features=84, out_features=10, bias=True)\n",
      ")\n"
     ]
    }
   ]
  },
  {
   "cell_type": "markdown",
   "metadata": {
    "id": "D_pSqGTjN4Ey",
    "pycharm": {
     "name": "#%% md\n"
    }
   },
   "source": [
    "# 선형회귀(Linear Regression) 모델 생성\n",
    "- 코드 출처 : https://yceffort.kr/2019/02/19/pytorch-02-linear-regression/"
   ]
  },
  {
   "cell_type": "markdown",
   "metadata": {
    "id": "yFV6Qz3wSqOY",
    "pycharm": {
     "name": "#%% md\n"
    }
   },
   "source": [
    "## modules import"
   ]
  },
  {
   "cell_type": "code",
   "metadata": {
    "id": "9Pp_ZXMgN48N",
    "pycharm": {
     "name": "#%%\n"
    }
   },
   "source": [
    "import torch\n",
    "import torch.nn as nn\n",
    "import torch.nn.functional as f\n",
    "import torch.optim as optim\n",
    "\n",
    "import  numpy as np\n",
    "import matplotlib.pyplot as plt\n",
    "\n",
    "plt.style.use('seaborn-white')\n"
   ],
   "execution_count": 53,
   "outputs": []
  },
  {
   "cell_type": "markdown",
   "metadata": {
    "id": "JApiW41-TQbA",
    "pycharm": {
     "name": "#%% md\n"
    }
   },
   "source": [
    "## 데이터 생성 및 회귀식 설정"
   ]
  },
  {
   "cell_type": "code",
   "metadata": {
    "id": "DReJzgyCXGxq",
    "pycharm": {
     "name": "#%%\n"
    }
   },
   "source": [
    "x = torch.randn(100,1) * 10\n",
    "y = x + 3*torch.randn(100,1)\n",
    "\n",
    "plt.plot(x.numpy(), y.numpy(), 'o')\n",
    "plt.ylabel('y')\n",
    "plt.xlabel('x')\n",
    "plt.show()"
   ],
   "execution_count": 54,
   "outputs": [
    {
     "data": {
      "text/plain": "<Figure size 432x288 with 1 Axes>",
      "image/png": "[encoded data removed]"
     },
     "metadata": {},
     "output_type": "display_data"
    }
   ]
  },
  {
   "cell_type": "markdown",
   "metadata": {
    "id": "GaEsvoUHSM9p",
    "pycharm": {
     "name": "#%% md\n"
    }
   },
   "source": [
    "## 신경망 구성"
   ]
  },
  {
   "cell_type": "code",
   "metadata": {
    "id": "v8K_nLImN43l",
    "pycharm": {
     "name": "#%%\n"
    }
   },
   "source": [
    "class LinearRegressionModel(nn.Module):\n",
    "    def __init__(self):\n",
    "        super().__init__()\n",
    "\n",
    "        self.linear = nn.Linear(1,1)\n",
    "\n",
    "\n",
    "    def forward(self, x):\n",
    "        pred = self.linear(x)\n",
    "        return pred"
   ],
   "execution_count": 55,
   "outputs": []
  },
  {
   "cell_type": "markdown",
   "metadata": {
    "id": "gWHJoDoOSPKD",
    "pycharm": {
     "name": "#%% md\n"
    }
   },
   "source": [
    "## 모델 생성 및 파라미터 확인"
   ]
  },
  {
   "cell_type": "code",
   "metadata": {
    "id": "lFWWRmfkN405",
    "pycharm": {
     "name": "#%%\n"
    }
   },
   "source": [
    "torch.manual_seed(111)\n",
    "\n",
    "model = LinearRegressionModel()\n",
    "print(model)"
   ],
   "execution_count": 56,
   "outputs": [
    {
     "name": "stdout",
     "output_type": "stream",
     "text": [
      "LinearRegressionModel(\n",
      "  (linear): Linear(in_features=1, out_features=1, bias=True)\n",
      ")\n"
     ]
    }
   ]
  },
  {
   "cell_type": "code",
   "metadata": {
    "id": "-7vBaKDhQWGO",
    "pycharm": {
     "name": "#%%\n"
    }
   },
   "source": [
    "print(list(model.parameters()))"
   ],
   "execution_count": 57,
   "outputs": [
    {
     "name": "stdout",
     "output_type": "stream",
     "text": [
      "[Parameter containing:\n",
      "tensor([[0.4311]], requires_grad=True), Parameter containing:\n",
      "tensor([0.8280], requires_grad=True)]\n"
     ]
    }
   ]
  },
  {
   "cell_type": "code",
   "metadata": {
    "id": "wpvOJTwXPaqg",
    "pycharm": {
     "name": "#%%\n"
    }
   },
   "source": [
    "w,b =model.parameters()\n",
    "\n",
    "def get_parameters():\n",
    "    return w[0][0].item(), b[0].item()\n",
    "\n",
    "\n",
    "def plot_fit(title):\n",
    "    plt.title = title\n",
    "    w1, b1 = get_parameters()\n",
    "    x1 = np.array([-30,30])\n",
    "    y1 = x1 * w1 + b1\n",
    "    plt.plot(x1, y1, 'r')\n",
    "    plt.scatter(x,y)\n",
    "    plt.show()\n",
    "\n",
    "plot_fit('Initial Model')"
   ],
   "execution_count": 58,
   "outputs": [
    {
     "data": {
      "text/plain": "<Figure size 432x288 with 1 Axes>",
      "image/png": "[encoded data removed]"
     },
     "metadata": {},
     "output_type": "display_data"
    }
   ]
  },
  {
   "cell_type": "markdown",
   "metadata": {
    "id": "Z9H7zLFWSGhX",
    "pycharm": {
     "name": "#%% md\n"
    }
   },
   "source": [
    "## 손실함수와 옵티마이저"
   ]
  },
  {
   "cell_type": "code",
   "metadata": {
    "id": "iW4WHvMOPgtX",
    "pycharm": {
     "name": "#%%\n"
    }
   },
   "source": [
    "criterion = nn.MSELoss()\n",
    "optimizer = optim.SGD(model.parameters(), lr=0.001)"
   ],
   "execution_count": 59,
   "outputs": []
  },
  {
   "cell_type": "markdown",
   "metadata": {
    "id": "ogojTAwDSRrW",
    "pycharm": {
     "name": "#%% md\n"
    }
   },
   "source": [
    "## 모델 학습"
   ]
  },
  {
   "cell_type": "code",
   "metadata": {
    "id": "UkDTmErfQdiU",
    "pycharm": {
     "name": "#%%\n"
    }
   },
   "source": [
    "epochs = 100\n",
    "losses = []\n",
    "\n",
    "for epoch in range(epochs):\n",
    "    optimizer.zero_grad()\n",
    "\n",
    "    y_pred = model(x)\n",
    "    loss = criterion(y_pred, y)\n",
    "\n",
    "    losses.append(loss.item())\n",
    "    loss.backward()\n",
    "    optimizer.step()\n",
    "\n",
    "    if epoch % 10 == 0:\n",
    "        print(f\"에포크 : {epoch+1} \\t loss : {loss}\")"
   ],
   "execution_count": 60,
   "outputs": [
    {
     "name": "stdout",
     "output_type": "stream",
     "text": [
      "에포크 : 1 \t loss : 44.3918571472168\n",
      "에포크 : 11 \t loss : 9.154975891113281\n",
      "에포크 : 21 \t loss : 8.712594032287598\n",
      "에포크 : 31 \t loss : 8.684711456298828\n",
      "에포크 : 41 \t loss : 8.662642478942871\n",
      "에포크 : 51 \t loss : 8.641493797302246\n",
      "에포크 : 61 \t loss : 8.621173858642578\n",
      "에포크 : 71 \t loss : 8.601651191711426\n",
      "에포크 : 81 \t loss : 8.582894325256348\n",
      "에포크 : 91 \t loss : 8.564870834350586\n"
     ]
    }
   ]
  },
  {
   "cell_type": "markdown",
   "metadata": {
    "id": "1aYA45MxSeux",
    "pycharm": {
     "name": "#%% md\n"
    }
   },
   "source": [
    "## 시각화"
   ]
  },
  {
   "cell_type": "code",
   "metadata": {
    "id": "2tihOUtGQdl0",
    "pycharm": {
     "name": "#%%\n"
    }
   },
   "source": [
    "plt.plot(range(epochs), losses)\n",
    "plt.ylabel('loss')\n",
    "plt.xlabel('epoch')\n",
    "plt.show()\n"
   ],
   "execution_count": 61,
   "outputs": [
    {
     "data": {
      "text/plain": "<Figure size 432x288 with 1 Axes>",
      "image/png": "[encoded data removed]"
     },
     "metadata": {},
     "output_type": "display_data"
    }
   ]
  },
  {
   "cell_type": "code",
   "execution_count": 62,
   "outputs": [
    {
     "data": {
      "text/plain": "<Figure size 432x288 with 1 Axes>",
      "image/png": "[encoded data removed]"
     },
     "metadata": {},
     "output_type": "display_data"
    }
   ],
   "source": [
    "plot_fit('train_model')"
   ],
   "metadata": {
    "collapsed": false,
    "pycharm": {
     "name": "#%%\n"
    }
   }
  },
  {
   "cell_type": "code",
   "execution_count": null,
   "outputs": [],
   "source": [],
   "metadata": {
    "collapsed": false,
    "pycharm": {
     "name": "#%%\n"
    }
   }
  }
 ]
}