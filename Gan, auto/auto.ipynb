{
 "cells": [
  {
   "cell_type": "markdown",
   "source": [
    "## import"
   ],
   "metadata": {
    "collapsed": false,
    "pycharm": {
     "name": "#%% md\n"
    }
   }
  },
  {
   "cell_type": "code",
   "execution_count": 2,
   "outputs": [],
   "source": [
    "import numpy as np\n",
    "from keras.datasets import mnist\n",
    "from keras.models import Sequential, Model\n",
    "from keras.layers import Input, Dense, Conv2D, MaxPool2D, UpSampling2D, Flatten, Reshape\n",
    "import matplotlib.pyplot as plt\n"
   ],
   "metadata": {
    "collapsed": false,
    "pycharm": {
     "name": "#%%\n"
    }
   }
  },
  {
   "cell_type": "markdown",
   "source": [
    "### 학습 데이터 분할하기"
   ],
   "metadata": {
    "collapsed": false,
    "pycharm": {
     "name": "#%% md\n"
    }
   }
  },
  {
   "cell_type": "code",
   "execution_count": 4,
   "outputs": [],
   "source": [
    "(x_train, _), (x_test , _) = mnist.load_data()\n",
    "\n",
    "x_train = x_train.reshape(\n",
    "    x_train.shape[0], 28, 28\n",
    ").astype('float32')/ 255\n",
    "\n",
    "x_test = x_test.reshape(\n",
    "    x_test.shape[0], 28, 28\n",
    ").astype('float32')/ 255"
   ],
   "metadata": {
    "collapsed": false,
    "pycharm": {
     "name": "#%%\n"
    }
   }
  },
  {
   "cell_type": "markdown",
   "source": [
    "### 모델 만들기\n",
    "인코더 부분"
   ],
   "metadata": {
    "collapsed": false,
    "pycharm": {
     "name": "#%% md\n"
    }
   }
  },
  {
   "cell_type": "code",
   "execution_count": 9,
   "outputs": [],
   "source": [
    "autoencoder = Sequential()\n",
    "\n",
    "autoencoder.add(\n",
    "    Conv2D(\n",
    "        16, kernel_size=3, padding='same', input_shape=(28,28,1), activation='relu'\n",
    "    )\n",
    ")\n",
    "\n",
    "autoencoder.add(MaxPool2D(2, padding='same'))\n",
    "autoencoder.add(Conv2D(8, kernel_size=3, activation='relu', padding='same'))\n",
    "autoencoder.add(MaxPool2D(2, padding='same'))\n",
    "autoencoder.add(Conv2D(8, kernel_size=3, strides=2, padding='same', activation='relu'))"
   ],
   "metadata": {
    "collapsed": false,
    "pycharm": {
     "name": "#%%\n"
    }
   }
  },
  {
   "cell_type": "markdown",
   "source": [
    "### 디코더 부분"
   ],
   "metadata": {
    "collapsed": false,
    "pycharm": {
     "name": "#%% md\n"
    }
   }
  },
  {
   "cell_type": "code",
   "execution_count": 10,
   "outputs": [
    {
     "name": "stdout",
     "output_type": "stream",
     "text": [
      "Model: \"sequential_1\"\n",
      "_________________________________________________________________\n",
      " Layer (type)                Output Shape              Param #   \n",
      "=================================================================\n",
      " conv2d_7 (Conv2D)           (None, 28, 28, 16)        160       \n",
      "                                                                 \n",
      " max_pooling2d_2 (MaxPooling  (None, 14, 14, 16)       0         \n",
      " 2D)                                                             \n",
      "                                                                 \n",
      " conv2d_8 (Conv2D)           (None, 14, 14, 8)         1160      \n",
      "                                                                 \n",
      " max_pooling2d_3 (MaxPooling  (None, 7, 7, 8)          0         \n",
      " 2D)                                                             \n",
      "                                                                 \n",
      " conv2d_9 (Conv2D)           (None, 4, 4, 8)           584       \n",
      "                                                                 \n",
      " conv2d_10 (Conv2D)          (None, 4, 4, 8)           584       \n",
      "                                                                 \n",
      " up_sampling2d_3 (UpSampling  (None, 8, 8, 8)          0         \n",
      " 2D)                                                             \n",
      "                                                                 \n",
      " conv2d_11 (Conv2D)          (None, 8, 8, 8)           584       \n",
      "                                                                 \n",
      " up_sampling2d_4 (UpSampling  (None, 16, 16, 8)        0         \n",
      " 2D)                                                             \n",
      "                                                                 \n",
      " conv2d_12 (Conv2D)          (None, 14, 14, 16)        1168      \n",
      "                                                                 \n",
      " up_sampling2d_5 (UpSampling  (None, 28, 28, 16)       0         \n",
      " 2D)                                                             \n",
      "                                                                 \n",
      " conv2d_13 (Conv2D)          (None, 28, 28, 1)         145       \n",
      "                                                                 \n",
      "=================================================================\n",
      "Total params: 4,385\n",
      "Trainable params: 4,385\n",
      "Non-trainable params: 0\n",
      "_________________________________________________________________\n"
     ]
    }
   ],
   "source": [
    "autoencoder.add(Conv2D(8, kernel_size=3, padding='same', activation='relu'))\n",
    "autoencoder.add(UpSampling2D())\n",
    "\n",
    "autoencoder.add(Conv2D(8, kernel_size=3, padding='same', activation='relu'))\n",
    "autoencoder.add(UpSampling2D())\n",
    "\n",
    "autoencoder.add(Conv2D(16, kernel_size=3, activation='relu'))\n",
    "autoencoder.add(UpSampling2D())\n",
    "\n",
    "autoencoder.add(Conv2D(1, kernel_size=3, padding='same',activation='sigmoid'))\n",
    "\n",
    "autoencoder.summary()"
   ],
   "metadata": {
    "collapsed": false,
    "pycharm": {
     "name": "#%%\n"
    }
   }
  },
  {
   "cell_type": "code",
   "execution_count": 11,
   "outputs": [
    {
     "name": "stdout",
     "output_type": "stream",
     "text": [
      "Epoch 1/50\n"
     ]
    },
    {
     "name": "stderr",
     "output_type": "stream",
     "text": [
      "2022-08-26 01:37:31.151888: W tensorflow/core/platform/profile_utils/cpu_utils.cc:128] Failed to get CPU frequency: 0 Hz\n",
      "2022-08-26 01:37:31.354609: I tensorflow/core/grappler/optimizers/custom_graph_optimizer_registry.cc:113] Plugin optimizer for device_type GPU is enabled.\n"
     ]
    },
    {
     "name": "stdout",
     "output_type": "stream",
     "text": [
      "469/469 [==============================] - ETA: 0s - loss: 0.2263"
     ]
    },
    {
     "name": "stderr",
     "output_type": "stream",
     "text": [
      "2022-08-26 01:37:43.540781: I tensorflow/core/grappler/optimizers/custom_graph_optimizer_registry.cc:113] Plugin optimizer for device_type GPU is enabled.\n"
     ]
    },
    {
     "name": "stdout",
     "output_type": "stream",
     "text": [
      "469/469 [==============================] - 13s 24ms/step - loss: 0.2263 - val_loss: 0.1463\n",
      "Epoch 2/50\n",
      "469/469 [==============================] - 11s 24ms/step - loss: 0.1322 - val_loss: 0.1219\n",
      "Epoch 3/50\n",
      "469/469 [==============================] - 11s 24ms/step - loss: 0.1164 - val_loss: 0.1105\n",
      "Epoch 4/50\n",
      "469/469 [==============================] - 11s 23ms/step - loss: 0.1088 - val_loss: 0.1049\n",
      "Epoch 5/50\n",
      "469/469 [==============================] - 10s 22ms/step - loss: 0.1044 - val_loss: 0.1015\n",
      "Epoch 6/50\n",
      "469/469 [==============================] - 11s 23ms/step - loss: 0.1014 - val_loss: 0.0989\n",
      "Epoch 7/50\n",
      "469/469 [==============================] - 11s 24ms/step - loss: 0.0991 - val_loss: 0.0970\n",
      "Epoch 8/50\n",
      "469/469 [==============================] - 10s 22ms/step - loss: 0.0972 - val_loss: 0.0952\n",
      "Epoch 9/50\n",
      "469/469 [==============================] - 11s 24ms/step - loss: 0.0956 - val_loss: 0.0941\n",
      "Epoch 10/50\n",
      "469/469 [==============================] - 10s 22ms/step - loss: 0.0943 - val_loss: 0.0924\n",
      "Epoch 11/50\n",
      "469/469 [==============================] - 10s 22ms/step - loss: 0.0930 - val_loss: 0.0913\n",
      "Epoch 12/50\n",
      "469/469 [==============================] - 10s 22ms/step - loss: 0.0920 - val_loss: 0.0902\n",
      "Epoch 13/50\n",
      "469/469 [==============================] - 10s 22ms/step - loss: 0.0909 - val_loss: 0.0893\n",
      "Epoch 14/50\n",
      "469/469 [==============================] - 10s 21ms/step - loss: 0.0900 - val_loss: 0.0891\n",
      "Epoch 15/50\n",
      "469/469 [==============================] - 10s 21ms/step - loss: 0.0892 - val_loss: 0.0881\n",
      "Epoch 16/50\n",
      "469/469 [==============================] - 10s 21ms/step - loss: 0.0885 - val_loss: 0.0870\n",
      "Epoch 17/50\n",
      "469/469 [==============================] - 10s 21ms/step - loss: 0.0879 - val_loss: 0.0865\n",
      "Epoch 18/50\n",
      "469/469 [==============================] - 10s 21ms/step - loss: 0.0873 - val_loss: 0.0862\n",
      "Epoch 19/50\n",
      "469/469 [==============================] - 10s 21ms/step - loss: 0.0868 - val_loss: 0.0855\n",
      "Epoch 20/50\n",
      "469/469 [==============================] - 10s 21ms/step - loss: 0.0864 - val_loss: 0.0852\n",
      "Epoch 21/50\n",
      "469/469 [==============================] - 10s 21ms/step - loss: 0.0860 - val_loss: 0.0849\n",
      "Epoch 22/50\n",
      "469/469 [==============================] - 10s 21ms/step - loss: 0.0857 - val_loss: 0.0849\n",
      "Epoch 23/50\n",
      "469/469 [==============================] - 10s 21ms/step - loss: 0.0854 - val_loss: 0.0841\n",
      "Epoch 24/50\n",
      "469/469 [==============================] - 10s 21ms/step - loss: 0.0851 - val_loss: 0.0839\n",
      "Epoch 25/50\n",
      "469/469 [==============================] - 10s 21ms/step - loss: 0.0848 - val_loss: 0.0837\n",
      "Epoch 26/50\n",
      "469/469 [==============================] - 10s 21ms/step - loss: 0.0846 - val_loss: 0.0833\n",
      "Epoch 27/50\n",
      "469/469 [==============================] - 10s 21ms/step - loss: 0.0844 - val_loss: 0.0832\n",
      "Epoch 28/50\n",
      "469/469 [==============================] - 10s 22ms/step - loss: 0.0841 - val_loss: 0.0829\n",
      "Epoch 29/50\n",
      "469/469 [==============================] - 11s 23ms/step - loss: 0.0839 - val_loss: 0.0828\n",
      "Epoch 30/50\n",
      "469/469 [==============================] - 11s 24ms/step - loss: 0.0837 - val_loss: 0.0828\n",
      "Epoch 31/50\n",
      "469/469 [==============================] - 11s 23ms/step - loss: 0.0835 - val_loss: 0.0823\n",
      "Epoch 32/50\n",
      "469/469 [==============================] - 11s 24ms/step - loss: 0.0833 - val_loss: 0.0821\n",
      "Epoch 33/50\n",
      "469/469 [==============================] - 11s 23ms/step - loss: 0.0831 - val_loss: 0.0819\n",
      "Epoch 34/50\n",
      "469/469 [==============================] - 11s 23ms/step - loss: 0.0829 - val_loss: 0.0818\n",
      "Epoch 35/50\n",
      "469/469 [==============================] - 11s 24ms/step - loss: 0.0827 - val_loss: 0.0817\n",
      "Epoch 36/50\n",
      "469/469 [==============================] - 11s 23ms/step - loss: 0.0825 - val_loss: 0.0814\n",
      "Epoch 37/50\n",
      "469/469 [==============================] - 11s 23ms/step - loss: 0.0823 - val_loss: 0.0812\n",
      "Epoch 38/50\n",
      "469/469 [==============================] - 11s 23ms/step - loss: 0.0821 - val_loss: 0.0810\n",
      "Epoch 39/50\n",
      "469/469 [==============================] - 11s 24ms/step - loss: 0.0820 - val_loss: 0.0809\n",
      "Epoch 40/50\n",
      "469/469 [==============================] - 11s 24ms/step - loss: 0.0818 - val_loss: 0.0807\n",
      "Epoch 41/50\n",
      "469/469 [==============================] - 11s 23ms/step - loss: 0.0817 - val_loss: 0.0807\n",
      "Epoch 42/50\n",
      "469/469 [==============================] - 11s 24ms/step - loss: 0.0815 - val_loss: 0.0805\n",
      "Epoch 43/50\n",
      "469/469 [==============================] - 11s 24ms/step - loss: 0.0814 - val_loss: 0.0804\n",
      "Epoch 44/50\n",
      "469/469 [==============================] - 11s 23ms/step - loss: 0.0812 - val_loss: 0.0804\n",
      "Epoch 45/50\n",
      "469/469 [==============================] - 11s 23ms/step - loss: 0.0812 - val_loss: 0.0803\n",
      "Epoch 46/50\n",
      "469/469 [==============================] - 10s 22ms/step - loss: 0.0810 - val_loss: 0.0800\n",
      "Epoch 47/50\n",
      "469/469 [==============================] - 10s 22ms/step - loss: 0.0809 - val_loss: 0.0800\n",
      "Epoch 48/50\n",
      "469/469 [==============================] - 10s 22ms/step - loss: 0.0808 - val_loss: 0.0798\n",
      "Epoch 49/50\n",
      "469/469 [==============================] - 11s 23ms/step - loss: 0.0807 - val_loss: 0.0798\n",
      "Epoch 50/50\n",
      "469/469 [==============================] - 11s 23ms/step - loss: 0.0805 - val_loss: 0.0796\n"
     ]
    },
    {
     "data": {
      "text/plain": "<keras.callbacks.History at 0x1478a5100>"
     },
     "execution_count": 11,
     "metadata": {},
     "output_type": "execute_result"
    }
   ],
   "source": [
    "autoencoder.compile(\n",
    "    optimizer='adam', loss='binary_crossentropy'\n",
    ")\n",
    "\n",
    "autoencoder.fit(\n",
    "    x_train, x_train, epochs=50, batch_size=128, validation_data=(x_test, x_test)\n",
    ")"
   ],
   "metadata": {
    "collapsed": false,
    "pycharm": {
     "name": "#%%\n"
    }
   }
  },
  {
   "cell_type": "code",
   "execution_count": 14,
   "outputs": [
    {
     "name": "stdout",
     "output_type": "stream",
     "text": [
      "313/313 [==============================] - 2s 6ms/step\n"
     ]
    },
    {
     "data": {
      "text/plain": "<Figure size 504x144 with 10 Axes>",
      "image/png": "[encoded data removed]"
     },
     "metadata": {},
     "output_type": "display_data"
    }
   ],
   "source": [
    "random_test = np.random.randint(x_test.shape[0], size=5)\n",
    "\n",
    "ae_imgs = autoencoder.predict(x_test)\n",
    "\n",
    "plt.figure(figsize=(7,2))\n",
    "\n",
    "for i, index in enumerate(random_test):\n",
    "    ax = plt.subplot(2, 7, i+1)\n",
    "\n",
    "    plt.imshow(x_test[index].reshape(28,28))\n",
    "    ax.axis('off')\n",
    "\n",
    "    ax = plt.subplot(2,7,7+i+1)\n",
    "    plt.imshow(ae_imgs[index].reshape(28,28))\n",
    "\n",
    "    ax.axis('off')\n",
    "plt.show()"
   ],
   "metadata": {
    "collapsed": false,
    "pycharm": {
     "name": "#%%\n"
    }
   }
  },
  {
   "cell_type": "code",
   "execution_count": null,
   "outputs": [],
   "source": [],
   "metadata": {
    "collapsed": false,
    "pycharm": {
     "name": "#%%\n"
    }
   }
  }
 ],
 "metadata": {
  "kernelspec": {
   "display_name": "Python 3",
   "language": "python",
   "name": "python3"
  },
  "language_info": {
   "codemirror_mode": {
    "name": "ipython",
    "version": 2
   },
   "file_extension": ".py",
   "mimetype": "text/x-python",
   "name": "python",
   "nbconvert_exporter": "python",
   "pygments_lexer": "ipython2",
   "version": "2.7.6"
  }
 },
 "nbformat": 4,
 "nbformat_minor": 0
}