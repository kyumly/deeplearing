{
 "cells": [
  {
   "cell_type": "markdown",
   "source": [
    "### 자연어 처리에 필요한 초기 토큰 추가하기"
   ],
   "metadata": {
    "collapsed": false,
    "pycharm": {
     "name": "#%% md\n"
    }
   }
  },
  {
   "cell_type": "code",
   "execution_count": 160,
   "outputs": [],
   "source": [
    "from keras.preprocessing.text import text_to_word_sequence"
   ],
   "metadata": {
    "collapsed": false,
    "pycharm": {
     "name": "#%%\n"
    }
   }
  },
  {
   "cell_type": "markdown",
   "source": [
    "### 토큰화 진행하는 라이브러리 사용"
   ],
   "metadata": {
    "collapsed": false,
    "pycharm": {
     "name": "#%% md\n"
    }
   }
  },
  {
   "cell_type": "code",
   "execution_count": 161,
   "outputs": [
    {
     "name": "stdout",
     "output_type": "stream",
     "text": [
      "['나는', '천천히', '진행하는', '중이다']\n"
     ]
    }
   ],
   "source": [
    "text = '나는 천천히 진행하는 중이다.'\n",
    "result = text_to_word_sequence(text)\n",
    "print(result)"
   ],
   "metadata": {
    "collapsed": false,
    "pycharm": {
     "name": "#%%\n"
    }
   }
  },
  {
   "cell_type": "markdown",
   "source": [
    "### 토큰화 진행 후 할 수 있는 과정\n",
    "1. 단어가 몇번 쓰였는지\n",
    "2. 단어가 몇번 사용되었는지 알면, text안에 키워드 파악 가능\n",
    "\n",
    "### 토큰의 갯수를 파악한다."
   ],
   "metadata": {
    "collapsed": false,
    "pycharm": {
     "name": "#%% md\n"
    }
   }
  },
  {
   "cell_type": "code",
   "execution_count": 162,
   "outputs": [
    {
     "name": "stdout",
     "output_type": "stream",
     "text": [
      "단어 카운트 \n",
      ": OrderedDict([('먼저', 1), ('텍스트의', 2), ('각', 1), ('단어를', 2), ('나누어', 1), ('토큰화합니다', 1), ('토큰화해야', 1), ('딥러닝에서', 2), ('인식됩니다', 1), ('토큰화', 1), ('한', 1), ('결과는', 1), ('사용할', 1), ('수', 1), ('있습니다', 1)])\n"
     ]
    }
   ],
   "source": [
    "text1 = '먼저 텍스트의 각 단어를 나누어 토큰화합니다.'\n",
    "text2 = '텍스트의 단어를 토큰화해야 딥러닝에서 인식됩니다.'\n",
    "text3 = '토큰화 한 결과는 딥러닝에서 사용할 수 있습니다.'\n",
    "\n",
    "from keras.preprocessing.text import Tokenizer\n",
    "\n",
    "docs = [\n",
    "    text1, text2, text3\n",
    "]\n",
    "\n",
    "token = Tokenizer()\n",
    "token.fit_on_texts(docs)\n",
    "print(f\"단어 카운트 \\n: {token.word_counts}\")"
   ],
   "metadata": {
    "collapsed": false,
    "pycharm": {
     "name": "#%%\n"
    }
   }
  },
  {
   "cell_type": "markdown",
   "source": [
    "### 문장의 갯수를 파악하는 것!"
   ],
   "metadata": {
    "collapsed": false,
    "pycharm": {
     "name": "#%% md\n"
    }
   }
  },
  {
   "cell_type": "code",
   "execution_count": 163,
   "outputs": [
    {
     "name": "stdout",
     "output_type": "stream",
     "text": [
      "문장 카운트: 3\n"
     ]
    }
   ],
   "source": [
    "print(f\"문장 카운트: {token.document_count}\")"
   ],
   "metadata": {
    "collapsed": false,
    "pycharm": {
     "name": "#%%\n"
    }
   }
  },
  {
   "cell_type": "markdown",
   "source": [
    "### 각 단어들이 몇 개의 문장에 나오는가를 세어주는 메소드"
   ],
   "metadata": {
    "collapsed": false,
    "pycharm": {
     "name": "#%% md\n"
    }
   }
  },
  {
   "cell_type": "code",
   "execution_count": 164,
   "outputs": [
    {
     "name": "stdout",
     "output_type": "stream",
     "text": [
      "각 단어가 몇개의 문장에 포함되어 있는가 \n",
      ": defaultdict(<class 'int'>, {'먼저': 1, '단어를': 2, '텍스트의': 2, '토큰화합니다': 1, '나누어': 1, '각': 1, '딥러닝에서': 2, '인식됩니다': 1, '토큰화해야': 1, '한': 1, '토큰화': 1, '결과는': 1, '사용할': 1, '수': 1, '있습니다': 1})\n"
     ]
    }
   ],
   "source": [
    "print(f\"각 단어가 몇개의 문장에 포함되어 있는가 \\n: {token.word_docs}\")"
   ],
   "metadata": {
    "collapsed": false,
    "pycharm": {
     "name": "#%%\n"
    }
   }
  },
  {
   "cell_type": "markdown",
   "source": [
    "### 단어의 인덱스 값을 출력합니다."
   ],
   "metadata": {
    "collapsed": false,
    "pycharm": {
     "name": "#%% md\n"
    }
   }
  },
  {
   "cell_type": "code",
   "execution_count": 165,
   "outputs": [
    {
     "name": "stdout",
     "output_type": "stream",
     "text": [
      "각 단어에 매겨진 인덱스 값 \n",
      ": {'텍스트의': 1, '단어를': 2, '딥러닝에서': 3, '먼저': 4, '각': 5, '나누어': 6, '토큰화합니다': 7, '토큰화해야': 8, '인식됩니다': 9, '토큰화': 10, '한': 11, '결과는': 12, '사용할': 13, '수': 14, '있습니다': 15}\n"
     ]
    }
   ],
   "source": [
    "print(f\"각 단어에 매겨진 인덱스 값 \\n: {token.word_index}\")"
   ],
   "metadata": {
    "collapsed": false,
    "pycharm": {
     "name": "#%%\n"
    }
   }
  },
  {
   "cell_type": "markdown",
   "source": [
    "## 2.단어의 원-핫 인코딩"
   ],
   "metadata": {
    "collapsed": false,
    "pycharm": {
     "name": "#%% md\n"
    }
   }
  },
  {
   "cell_type": "code",
   "execution_count": 166,
   "outputs": [
    {
     "name": "stdout",
     "output_type": "stream",
     "text": [
      "{'오랫동안': 1, '꿈꾸는': 2, '이는': 3, '그': 4, '꿈을': 5, '닮아간다': 6}\n"
     ]
    }
   ],
   "source": [
    "text = '오랫동안 꿈꾸는 이는 그 꿈을 닮아간다.'\n",
    "\n",
    "from keras.preprocessing.text import Tokenizer\n",
    "\n",
    "token = Tokenizer()\n",
    "token.fit_on_texts([text])\n",
    "print(token.word_index)"
   ],
   "metadata": {
    "collapsed": false,
    "pycharm": {
     "name": "#%%\n"
    }
   }
  },
  {
   "cell_type": "code",
   "execution_count": 167,
   "outputs": [
    {
     "name": "stdout",
     "output_type": "stream",
     "text": [
      "[[1, 2, 3, 4, 5, 6]]\n"
     ]
    }
   ],
   "source": [
    "x = token.texts_to_sequences([text])\n",
    "print(x)"
   ],
   "metadata": {
    "collapsed": false,
    "pycharm": {
     "name": "#%%\n"
    }
   }
  },
  {
   "cell_type": "code",
   "execution_count": 168,
   "outputs": [],
   "source": [
    "from keras.utils import to_categorical\n",
    "\n",
    "word_size = len(token.word_index)\n",
    "y = to_categorical(x, num_classes=7)\n",
    "#y = to_categorical(x)"
   ],
   "metadata": {
    "collapsed": false,
    "pycharm": {
     "name": "#%%\n"
    }
   }
  },
  {
   "cell_type": "code",
   "execution_count": 169,
   "outputs": [
    {
     "data": {
      "text/plain": "array([[[0., 1., 0., 0., 0., 0., 0.],\n        [0., 0., 1., 0., 0., 0., 0.],\n        [0., 0., 0., 1., 0., 0., 0.],\n        [0., 0., 0., 0., 1., 0., 0.],\n        [0., 0., 0., 0., 0., 1., 0.],\n        [0., 0., 0., 0., 0., 0., 1.]]], dtype=float32)"
     },
     "execution_count": 169,
     "metadata": {},
     "output_type": "execute_result"
    }
   ],
   "source": [
    "y"
   ],
   "metadata": {
    "collapsed": false,
    "pycharm": {
     "name": "#%%\n"
    }
   }
  },
  {
   "cell_type": "markdown",
   "source": [
    "## 단어 임베딩\n",
    "    원-핫인코딩 단점은 메모리 자리를 많이 차지한다.\n",
    "    그것을 해결하기 위한 방법은 단어 임베딩이다.\n",
    "    단어 임베딩은 주어진 배열을 정해진 길이로 압축을 시킨다\n",
    "\n",
    "\n",
    "### 동작원리는 유사도를 가지고 2차원 형식으로 표시한다.\n",
    "    Embedding() 함수를 사용해 구현한다."
   ],
   "metadata": {
    "collapsed": false,
    "pycharm": {
     "name": "#%% md\n"
    }
   }
  },
  {
   "cell_type": "code",
   "execution_count": 170,
   "outputs": [],
   "source": [
    "from keras.layers import Embedding, Input, Flatten, Dense\n",
    "from keras.models import Model, Sequential\n",
    "model = Sequential()\n",
    "model.add(Embedding(16,4))"
   ],
   "metadata": {
    "collapsed": false,
    "pycharm": {
     "name": "#%%\n"
    }
   }
  },
  {
   "cell_type": "markdown",
   "source": [
    "## 텍스트를 읽고 긍정, 부정 예측하기"
   ],
   "metadata": {
    "collapsed": false,
    "pycharm": {
     "name": "#%% md\n"
    }
   }
  },
  {
   "cell_type": "code",
   "execution_count": 171,
   "outputs": [],
   "source": [
    "docs = [\n",
    "    '너무 재밌네요', '최고예요','참 잘 만든 영화예요', '추천하고 싶은 영화입니다.',\n",
    "    '한 번 더 보고싶네요', '별로 예요', '생각보다 지루하네요','연기가 어색합니다,', '재미없어요'\n",
    "]\n",
    "label = [1,1,1,1,1, 0,0,0,0]"
   ],
   "metadata": {
    "collapsed": false,
    "pycharm": {
     "name": "#%%\n"
    }
   }
  },
  {
   "cell_type": "code",
   "execution_count": 172,
   "outputs": [
    {
     "data": {
      "text/plain": "{'너무': 1,\n '재밌네요': 2,\n '최고예요': 3,\n '참': 4,\n '잘': 5,\n '만든': 6,\n '영화예요': 7,\n '추천하고': 8,\n '싶은': 9,\n '영화입니다': 10,\n '한': 11,\n '번': 12,\n '더': 13,\n '보고싶네요': 14,\n '별로': 15,\n '예요': 16,\n '생각보다': 17,\n '지루하네요': 18,\n '연기가': 19,\n '어색합니다': 20,\n '재미없어요': 21}"
     },
     "execution_count": 172,
     "metadata": {},
     "output_type": "execute_result"
    }
   ],
   "source": [
    "token = Tokenizer()\n",
    "token.fit_on_texts(docs)\n",
    "token.word_index"
   ],
   "metadata": {
    "collapsed": false,
    "pycharm": {
     "name": "#%%\n"
    }
   }
  },
  {
   "cell_type": "code",
   "execution_count": 173,
   "outputs": [
    {
     "name": "stdout",
     "output_type": "stream",
     "text": [
      "[[1, 2], [3], [4, 5, 6, 7], [8, 9, 10], [11, 12, 13, 14], [15, 16], [17, 18], [19, 20], [21]]\n"
     ]
    }
   ],
   "source": [
    "x = token.texts_to_sequences(docs)\n",
    "print(x)"
   ],
   "metadata": {
    "collapsed": false,
    "pycharm": {
     "name": "#%%\n"
    }
   }
  },
  {
   "cell_type": "markdown",
   "source": [
    "### 토큰의 길이를 다 맞추기!!"
   ],
   "metadata": {
    "collapsed": false,
    "pycharm": {
     "name": "#%% md\n"
    }
   }
  },
  {
   "cell_type": "code",
   "execution_count": 174,
   "outputs": [],
   "source": [
    "from keras.utils import pad_sequences\n",
    "padded_x = pad_sequences(x, 4)"
   ],
   "metadata": {
    "collapsed": false,
    "pycharm": {
     "name": "#%%\n"
    }
   }
  },
  {
   "cell_type": "code",
   "execution_count": 175,
   "outputs": [
    {
     "data": {
      "text/plain": "9"
     },
     "execution_count": 175,
     "metadata": {},
     "output_type": "execute_result"
    }
   ],
   "source": [
    "len(padded_x)"
   ],
   "metadata": {
    "collapsed": false,
    "pycharm": {
     "name": "#%%\n"
    }
   }
  },
  {
   "cell_type": "code",
   "execution_count": 176,
   "outputs": [],
   "source": [
    "word_size = len(token.word_index)+1"
   ],
   "metadata": {
    "collapsed": false,
    "pycharm": {
     "name": "#%%\n"
    }
   }
  },
  {
   "cell_type": "code",
   "execution_count": 177,
   "outputs": [
    {
     "data": {
      "text/plain": "22"
     },
     "execution_count": 177,
     "metadata": {},
     "output_type": "execute_result"
    }
   ],
   "source": [
    "Embedding(word_size, 8, input_length=4)\n",
    "\n",
    "word_size"
   ],
   "metadata": {
    "collapsed": false,
    "pycharm": {
     "name": "#%%\n"
    }
   }
  },
  {
   "cell_type": "code",
   "execution_count": 178,
   "outputs": [
    {
     "name": "stdout",
     "output_type": "stream",
     "text": [
      "Model: \"model_5\"\n",
      "_________________________________________________________________\n",
      " Layer (type)                Output Shape              Param #   \n",
      "=================================================================\n",
      " input_7 (InputLayer)        [(None, 4)]               0         \n",
      "                                                                 \n",
      " embedding_20 (Embedding)    (None, 4, 8)              176       \n",
      "                                                                 \n",
      " flatten_8 (Flatten)         (None, 32)                0         \n",
      "                                                                 \n",
      " dense_7 (Dense)             (None, 1)                 33        \n",
      "                                                                 \n",
      "=================================================================\n",
      "Total params: 209\n",
      "Trainable params: 209\n",
      "Non-trainable params: 0\n",
      "_________________________________________________________________\n"
     ]
    }
   ],
   "source": [
    "inputs = Input(4,)\n",
    "#inputs = Input()\n",
    "embedding = Embedding(word_size, 8, input_length=4)(inputs)\n",
    "flatten = Flatten()(embedding)\n",
    "output = Dense(1, activation='sigmoid')(flatten)\n",
    "\n",
    "model = Model(inputs, output)\n",
    "\n",
    "model.summary()"
   ],
   "metadata": {
    "collapsed": false,
    "pycharm": {
     "name": "#%%\n"
    }
   }
  },
  {
   "cell_type": "code",
   "execution_count": 179,
   "outputs": [
    {
     "name": "stdout",
     "output_type": "stream",
     "text": [
      "Model: \"sequential_8\"\n",
      "_________________________________________________________________\n",
      " Layer (type)                Output Shape              Param #   \n",
      "=================================================================\n",
      " embedding_21 (Embedding)    (None, 4, 8)              176       \n",
      "                                                                 \n",
      " flatten_9 (Flatten)         (None, 32)                0         \n",
      "                                                                 \n",
      " dense_8 (Dense)             (None, 1)                 33        \n",
      "                                                                 \n",
      "=================================================================\n",
      "Total params: 209\n",
      "Trainable params: 209\n",
      "Non-trainable params: 0\n",
      "_________________________________________________________________\n"
     ]
    }
   ],
   "source": [
    "\n",
    "model = Sequential()\n",
    "model.add(Embedding(word_size, 8, input_length=4))\n",
    "model.add(Flatten())\n",
    "model.add(Dense(1, activation='sigmoid'))\n",
    "\n",
    "model.summary()"
   ],
   "metadata": {
    "collapsed": false,
    "pycharm": {
     "name": "#%%\n"
    }
   }
  },
  {
   "cell_type": "code",
   "execution_count": 180,
   "outputs": [
    {
     "data": {
      "text/plain": "(9,)"
     },
     "execution_count": 180,
     "metadata": {},
     "output_type": "execute_result"
    }
   ],
   "source": [
    "import numpy as np\n",
    "\n",
    "label = np.array(label)\n",
    "label.shape"
   ],
   "metadata": {
    "collapsed": false,
    "pycharm": {
     "name": "#%%\n"
    }
   }
  },
  {
   "cell_type": "code",
   "execution_count": 187,
   "outputs": [
    {
     "name": "stdout",
     "output_type": "stream",
     "text": [
      "Epoch 1/20\n",
      "1/1 [==============================] - 0s 296ms/step - loss: 0.6599 - acc: 0.5556\n",
      "Epoch 2/20\n",
      "1/1 [==============================] - 0s 9ms/step - loss: 0.6579 - acc: 0.6667\n",
      "Epoch 3/20\n"
     ]
    },
    {
     "name": "stderr",
     "output_type": "stream",
     "text": [
      "2022-08-10 16:22:23.387291: I tensorflow/core/grappler/optimizers/custom_graph_optimizer_registry.cc:113] Plugin optimizer for device_type GPU is enabled.\n"
     ]
    },
    {
     "name": "stdout",
     "output_type": "stream",
     "text": [
      "1/1 [==============================] - 0s 9ms/step - loss: 0.6558 - acc: 0.6667\n",
      "Epoch 4/20\n",
      "1/1 [==============================] - 0s 9ms/step - loss: 0.6537 - acc: 0.7778\n",
      "Epoch 5/20\n",
      "1/1 [==============================] - 0s 8ms/step - loss: 0.6516 - acc: 0.8889\n",
      "Epoch 6/20\n",
      "1/1 [==============================] - 0s 9ms/step - loss: 0.6495 - acc: 0.8889\n",
      "Epoch 7/20\n",
      "1/1 [==============================] - 0s 9ms/step - loss: 0.6474 - acc: 0.8889\n",
      "Epoch 8/20\n",
      "1/1 [==============================] - 0s 7ms/step - loss: 0.6452 - acc: 1.0000\n",
      "Epoch 9/20\n",
      "1/1 [==============================] - 0s 8ms/step - loss: 0.6431 - acc: 1.0000\n",
      "Epoch 10/20\n",
      "1/1 [==============================] - 0s 9ms/step - loss: 0.6409 - acc: 1.0000\n",
      "Epoch 11/20\n",
      "1/1 [==============================] - 0s 9ms/step - loss: 0.6387 - acc: 1.0000\n",
      "Epoch 12/20\n",
      "1/1 [==============================] - 0s 8ms/step - loss: 0.6366 - acc: 1.0000\n",
      "Epoch 13/20\n",
      "1/1 [==============================] - 0s 9ms/step - loss: 0.6344 - acc: 1.0000\n",
      "Epoch 14/20\n",
      "1/1 [==============================] - 0s 9ms/step - loss: 0.6322 - acc: 1.0000\n",
      "Epoch 15/20\n",
      "1/1 [==============================] - 0s 7ms/step - loss: 0.6299 - acc: 1.0000\n",
      "Epoch 16/20\n",
      "1/1 [==============================] - 0s 7ms/step - loss: 0.6277 - acc: 1.0000\n",
      "Epoch 17/20\n",
      "1/1 [==============================] - 0s 8ms/step - loss: 0.6254 - acc: 1.0000\n",
      "Epoch 18/20\n",
      "1/1 [==============================] - 0s 8ms/step - loss: 0.6232 - acc: 1.0000\n",
      "Epoch 19/20\n",
      "1/1 [==============================] - 0s 8ms/step - loss: 0.6209 - acc: 1.0000\n",
      "Epoch 20/20\n",
      "1/1 [==============================] - 0s 9ms/step - loss: 0.6186 - acc: 1.0000\n"
     ]
    },
    {
     "data": {
      "text/plain": "<keras.callbacks.History at 0x1775e0490>"
     },
     "execution_count": 187,
     "metadata": {},
     "output_type": "execute_result"
    }
   ],
   "source": [
    "model.compile(optimizer='adam', loss='binary_crossentropy', metrics=['acc'])\n",
    "model.fit(padded_x, label, epochs=20)"
   ],
   "metadata": {
    "collapsed": false,
    "pycharm": {
     "name": "#%%\n"
    }
   }
  },
  {
   "cell_type": "code",
   "execution_count": 188,
   "outputs": [
    {
     "name": "stdout",
     "output_type": "stream",
     "text": [
      "1/1 [==============================] - 0s 70ms/step - loss: 0.6163 - acc: 1.0000\n"
     ]
    },
    {
     "name": "stderr",
     "output_type": "stream",
     "text": [
      "2022-08-10 16:22:23.818207: I tensorflow/core/grappler/optimizers/custom_graph_optimizer_registry.cc:113] Plugin optimizer for device_type GPU is enabled.\n"
     ]
    },
    {
     "data": {
      "text/plain": "[0.6163121461868286, 1.0]"
     },
     "execution_count": 188,
     "metadata": {},
     "output_type": "execute_result"
    }
   ],
   "source": [
    "model.evaluate(padded_x, label)"
   ],
   "metadata": {
    "collapsed": false,
    "pycharm": {
     "name": "#%%\n"
    }
   }
  },
  {
   "cell_type": "code",
   "execution_count": null,
   "outputs": [],
   "source": [],
   "metadata": {
    "collapsed": false,
    "pycharm": {
     "name": "#%%\n"
    }
   }
  }
 ],
 "metadata": {
  "kernelspec": {
   "display_name": "Python 3",
   "language": "python",
   "name": "python3"
  },
  "language_info": {
   "codemirror_mode": {
    "name": "ipython",
    "version": 2
   },
   "file_extension": ".py",
   "mimetype": "text/x-python",
   "name": "python",
   "nbconvert_exporter": "python",
   "pygments_lexer": "ipython2",
   "version": "2.7.6"
  }
 },
 "nbformat": 4,
 "nbformat_minor": 0
}