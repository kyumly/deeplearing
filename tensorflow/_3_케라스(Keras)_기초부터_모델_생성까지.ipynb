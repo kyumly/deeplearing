{
 "cells": [
  {
   "cell_type": "markdown",
   "metadata": {
    "id": "YmY-0QeUYcaa",
    "pycharm": {
     "name": "#%% md\n"
    }
   },
   "source": [
    "# 케라스(Keras) 기초부터 모델 생성까지\n",
    "\n",
    "<img src=\"https://s3.amazonaws.com/keras.io/img/keras-logo-2018-large-1200.png\">\n",
    "\n",
    "- 파이썬으로 작성된 고수준 신경망 API로 TensorFlow, CNTK, 혹은 Theano와 함께 사용 가능\n",
    "- 사용자 친화성, 모듈성, 확장성을 통해 빠르고 간편한 프로토타이핑 가능\n",
    "- 컨볼루션 신경망, 순환 신경망, 그리고 둘의 조합까지 모두 지원\n",
    "- CPU와 GPU에서 매끄럽게 실행"
   ]
  },
  {
   "cell_type": "code",
   "execution_count": 1,
   "metadata": {
    "id": "qBkF9tvAbX08",
    "pycharm": {
     "name": "#%%\n"
    }
   },
   "outputs": [
    {
     "data": {
      "text/plain": "'2.9.2'"
     },
     "execution_count": 1,
     "metadata": {},
     "output_type": "execute_result"
    }
   ],
   "source": [
    "import tensorflow as tf\n",
    "import numpy as np\n",
    "tf.__version__"
   ]
  },
  {
   "cell_type": "markdown",
   "metadata": {
    "id": "ih4Nb7nMbfMc",
    "pycharm": {
     "name": "#%% md\n"
    }
   },
   "source": [
    "레이어들을 import하는 방식 (1)\n",
    "- 일일이 import 하지 않아도 됨\n",
    "\n",
    "- 코드가 다소 길어질 수 있음"
   ]
  },
  {
   "cell_type": "code",
   "execution_count": 2,
   "metadata": {
    "id": "76J3cta0bd0e",
    "pycharm": {
     "name": "#%%\n"
    }
   },
   "outputs": [
    {
     "data": {
      "text/plain": "'2.9.0'"
     },
     "execution_count": 2,
     "metadata": {},
     "output_type": "execute_result"
    }
   ],
   "source": [
    "from tensorflow import keras\n",
    "keras.__version__"
   ]
  },
  {
   "cell_type": "code",
   "execution_count": 3,
   "metadata": {
    "id": "JZondHPTb6Vx",
    "pycharm": {
     "name": "#%%\n"
    }
   },
   "outputs": [
    {
     "data": {
      "text/plain": "<keras.layers.core.dense.Dense at 0x10aa0a460>"
     },
     "execution_count": 3,
     "metadata": {},
     "output_type": "execute_result"
    }
   ],
   "source": [
    "keras.layers.Dense(10, activation='sigmoid')"
   ]
  },
  {
   "cell_type": "code",
   "execution_count": 4,
   "metadata": {
    "id": "inaUuk6Nb84X",
    "pycharm": {
     "name": "#%%\n"
    }
   },
   "outputs": [
    {
     "name": "stdout",
     "output_type": "stream",
     "text": [
      "Metal device set to: Apple M1 Pro\n"
     ]
    },
    {
     "name": "stderr",
     "output_type": "stream",
     "text": [
      "2022-08-11 23:15:32.808850: I tensorflow/core/common_runtime/pluggable_device/pluggable_device_factory.cc:305] Could not identify NUMA node of platform GPU ID 0, defaulting to 0. Your kernel may not have been built with NUMA support.\n",
      "2022-08-11 23:15:32.808974: I tensorflow/core/common_runtime/pluggable_device/pluggable_device_factory.cc:271] Created TensorFlow device (/job:localhost/replica:0/task:0/device:GPU:0 with 0 MB memory) -> physical PluggableDevice (device: 0, name: METAL, pci bus id: <undefined>)\n"
     ]
    },
    {
     "data": {
      "text/plain": "<keras.engine.training.Model at 0x17c6db850>"
     },
     "execution_count": 4,
     "metadata": {},
     "output_type": "execute_result"
    }
   ],
   "source": [
    "keras.Model()"
   ]
  },
  {
   "cell_type": "code",
   "execution_count": 5,
   "metadata": {
    "id": "NBNQZ7GxcF2H",
    "pycharm": {
     "name": "#%%\n"
    }
   },
   "outputs": [
    {
     "data": {
      "text/plain": "<keras.engine.sequential.Sequential at 0x17c6db7c0>"
     },
     "execution_count": 5,
     "metadata": {},
     "output_type": "execute_result"
    }
   ],
   "source": [
    "keras.models.Sequential()"
   ]
  },
  {
   "cell_type": "markdown",
   "metadata": {
    "id": "XseyoEwjbrO-",
    "pycharm": {
     "name": "#%% md\n"
    }
   },
   "source": [
    "레이어들을 import하는 방식 (2)\n",
    "- 일일이 import 해야함\n",
    "- 코드가 간결"
   ]
  },
  {
   "cell_type": "code",
   "execution_count": 6,
   "metadata": {
    "id": "W8WLjvCZbwoF",
    "pycharm": {
     "name": "#%%\n"
    }
   },
   "outputs": [],
   "source": [
    "from keras.layers import Dense, Input, Flatten, Activation\n",
    "from keras.models import Sequential\n",
    "from keras import Model\n"
   ]
  },
  {
   "cell_type": "code",
   "execution_count": 7,
   "metadata": {
    "id": "nYcV0CnVcWJO",
    "pycharm": {
     "name": "#%%\n"
    }
   },
   "outputs": [
    {
     "data": {
      "text/plain": "<keras.layers.core.dense.Dense at 0x17c80eaf0>"
     },
     "execution_count": 7,
     "metadata": {},
     "output_type": "execute_result"
    }
   ],
   "source": [
    "Dense(10, activation='relu')"
   ]
  },
  {
   "cell_type": "code",
   "execution_count": 8,
   "metadata": {
    "id": "RMd9TR6FcWDr",
    "pycharm": {
     "name": "#%%\n"
    }
   },
   "outputs": [
    {
     "data": {
      "text/plain": "<keras.layers.reshaping.flatten.Flatten at 0x17c80eb20>"
     },
     "execution_count": 8,
     "metadata": {},
     "output_type": "execute_result"
    }
   ],
   "source": [
    "Flatten(input_shape=(100,))"
   ]
  },
  {
   "cell_type": "code",
   "execution_count": 9,
   "metadata": {
    "id": "8_Ho3qKbcjOr",
    "pycharm": {
     "name": "#%%\n"
    }
   },
   "outputs": [
    {
     "data": {
      "text/plain": "<KerasTensor: shape=(None, 2) dtype=float32 (created by layer 'input_1')>"
     },
     "execution_count": 9,
     "metadata": {},
     "output_type": "execute_result"
    }
   ],
   "source": [
    "X_train = np.random.randn(5500, 2)\n",
    "Input(shape=X_train.shape[1:])"
   ]
  },
  {
   "cell_type": "markdown",
   "metadata": {
    "id": "1Qz5gkr70p12",
    "pycharm": {
     "name": "#%% md\n"
    }
   },
   "source": [
    "## 주요 레이어"
   ]
  },
  {
   "cell_type": "markdown",
   "metadata": {
    "id": "Vl0XJyRvbNh5",
    "pycharm": {
     "name": "#%% md\n"
    }
   },
   "source": [
    "### Dense\n",
    "- Fully-Connected Layer\n",
    "\n",
    "- 노드수(유닛수), 활성화 함수 등을 지정\n",
    "\n",
    "- name을 통한 레이어간 구분 가능\n",
    "\n",
    "- 기본적으로  \n",
    "  'Glorot_uniform' 가중치(Xavier 초기), zeros bias로 초기화\n",
    "  - kernel_initializer 인자를 통해 다른 가중치 초기화를 진행할 수 있음"
   ]
  },
  {
   "cell_type": "code",
   "execution_count": 10,
   "metadata": {
    "id": "0By3apmYYe31",
    "pycharm": {
     "name": "#%%\n"
    }
   },
   "outputs": [],
   "source": [
    "dense = Dense(10, activation='relu',name='Dense_Layer')"
   ]
  },
  {
   "cell_type": "code",
   "execution_count": 11,
   "metadata": {
    "id": "KUAMqoGNd9gq",
    "pycharm": {
     "name": "#%%\n"
    }
   },
   "outputs": [
    {
     "data": {
      "text/plain": "<keras.layers.core.dense.Dense at 0x17c81aa30>"
     },
     "execution_count": 11,
     "metadata": {},
     "output_type": "execute_result"
    }
   ],
   "source": [
    "dense"
   ]
  },
  {
   "cell_type": "code",
   "execution_count": 12,
   "metadata": {
    "id": "nhb-kQGzhJWC",
    "pycharm": {
     "name": "#%%\n"
    }
   },
   "outputs": [],
   "source": [
    "dense2 = Dense(15, activation='sigmoid')"
   ]
  },
  {
   "cell_type": "code",
   "execution_count": 13,
   "metadata": {
    "id": "IF_zVkbnhJPz",
    "pycharm": {
     "name": "#%%\n"
    }
   },
   "outputs": [
    {
     "data": {
      "text/plain": "<keras.layers.core.dense.Dense at 0x17c81a910>"
     },
     "execution_count": 13,
     "metadata": {},
     "output_type": "execute_result"
    }
   ],
   "source": [
    "dense2"
   ]
  },
  {
   "cell_type": "markdown",
   "metadata": {
    "id": "v6kPbw7ZJ0W5",
    "pycharm": {
     "name": "#%% md\n"
    }
   },
   "source": [
    "### Activation\n",
    "- Dense layer에서 미리 활성화함수를 지정할 수도 있지만 때에 따라서 따로 레이어를 만들어줄 수 있음"
   ]
  },
  {
   "cell_type": "code",
   "execution_count": 14,
   "metadata": {
    "id": "71iUDTGUJ8vu",
    "pycharm": {
     "name": "#%%\n"
    }
   },
   "outputs": [
    {
     "data": {
      "text/plain": "<keras.layers.core.activation.Activation at 0x17d7fd460>"
     },
     "execution_count": 14,
     "metadata": {},
     "output_type": "execute_result"
    }
   ],
   "source": [
    "dense = Dense(10, kernel_initializer='he_normal', name='Dense Layer')\n",
    "dense = Activation(dense)\n",
    "dense"
   ]
  },
  {
   "cell_type": "markdown",
   "metadata": {
    "id": "NYDu0hcJejJh",
    "pycharm": {
     "name": "#%% md\n"
    }
   },
   "source": [
    "### Flatten\n",
    "- 배치 크기(또는 데이터 크기)를 제외하고 데이터를 1차원으로 쭉 펼치는 작업\n",
    "\n",
    "- 예시)\n",
    "        (128, 3, 2, 2) ---> (128, 12)\n",
    "      "
   ]
  },
  {
   "cell_type": "code",
   "execution_count": 15,
   "metadata": {
    "id": "3HzBfkjRd-dN",
    "pycharm": {
     "name": "#%%\n"
    }
   },
   "outputs": [
    {
     "data": {
      "text/plain": "<keras.layers.reshaping.flatten.Flatten at 0x17d7fd3a0>"
     },
     "execution_count": 15,
     "metadata": {},
     "output_type": "execute_result"
    }
   ],
   "source": [
    "flatten = Flatten(input_shape=(128,128))\n",
    "flatten"
   ]
  },
  {
   "cell_type": "markdown",
   "metadata": {
    "id": "gREcwh2cg1Zc",
    "pycharm": {
     "name": "#%% md\n"
    }
   },
   "source": [
    "  ### Input\n",
    "- 모델의 입력을 정의\n",
    "\n",
    "- shape, dtype을 포함\n",
    "\n",
    "- 하나의 모델은 여러 개의 입력을 가질 수 있음\n",
    "\n",
    "- 'summary()' 메소드를 통해서는 보이지 않음"
   ]
  },
  {
   "cell_type": "code",
   "execution_count": 16,
   "metadata": {
    "id": "2_kWKUMUefMf",
    "pycharm": {
     "name": "#%%\n"
    }
   },
   "outputs": [],
   "source": [
    "input_1 = Input(shape=(28,28), dtype=tf.float32)\n",
    "input_2 = Input(shape=(8,), dtype=tf.int32)"
   ]
  },
  {
   "cell_type": "code",
   "execution_count": 17,
   "metadata": {
    "id": "1ErOXHCgh6gq",
    "pycharm": {
     "name": "#%%\n"
    }
   },
   "outputs": [
    {
     "data": {
      "text/plain": "<KerasTensor: shape=(None, 28, 28) dtype=float32 (created by layer 'input_2')>"
     },
     "execution_count": 17,
     "metadata": {},
     "output_type": "execute_result"
    }
   ],
   "source": [
    "input_1"
   ]
  },
  {
   "cell_type": "code",
   "execution_count": 18,
   "metadata": {
    "id": "ic2vspIbh87y",
    "pycharm": {
     "name": "#%%\n"
    }
   },
   "outputs": [
    {
     "data": {
      "text/plain": "<KerasTensor: shape=(None, 8) dtype=int32 (created by layer 'input_3')>"
     },
     "execution_count": 18,
     "metadata": {},
     "output_type": "execute_result"
    }
   ],
   "source": [
    "input_2"
   ]
  },
  {
   "cell_type": "markdown",
   "metadata": {
    "id": "_BMMAUoKjVC6",
    "pycharm": {
     "name": "#%% md\n"
    }
   },
   "source": [
    "## 모델 구성 방법\n",
    "- Sequential()\n",
    "\n",
    "- 서브클래싱(Subclassing)\n",
    "\n",
    "- 함수형 API"
   ]
  },
  {
   "cell_type": "markdown",
   "metadata": {
    "id": "QckCD5TQjubf",
    "pycharm": {
     "name": "#%% md\n"
    }
   },
   "source": [
    "### Sequential()\n",
    "\n",
    "- 모델이 순차적으로 진행할 때 사용\n",
    "\n",
    "- 간단한 방법\n",
    "  - Sequential 객체 생성 후, **add**를 통한 방법\n",
    "  \n",
    "  - Sequential 인자에 한번에 추가\n",
    "\n",
    "- 다중 입력 및 출력이 존재하는 등의 복잡한 모델을 구성할 수 없음\n"
   ]
  },
  {
   "cell_type": "code",
   "execution_count": 19,
   "metadata": {
    "id": "0TaLg9w4h9_Z",
    "pycharm": {
     "name": "#%%\n"
    }
   },
   "outputs": [],
   "source": [
    "from keras.layers import Dense, Input, Flatten\n",
    "from keras.models import Model, Sequential\n",
    "from keras.utils import plot_model"
   ]
  },
  {
   "cell_type": "code",
   "execution_count": 20,
   "metadata": {
    "id": "AaZWV6DckLz-",
    "pycharm": {
     "name": "#%%\n"
    }
   },
   "outputs": [],
   "source": [
    "model = Sequential()\n",
    "model.add(Input(shape=(28,28)))\n",
    "model.add(Dense(300, activation='relu'))\n",
    "model.add(Dense(100, activation='relu'))\n",
    "model.add(Dense(10, activation='softmax'))"
   ]
  },
  {
   "cell_type": "markdown",
   "metadata": {
    "id": "uPelUwFwk-ap",
    "pycharm": {
     "name": "#%% md\n"
    }
   },
   "source": [
    "모델 구조 확인\n",
    "- model 객체의 **summary()** 이용"
   ]
  },
  {
   "cell_type": "code",
   "execution_count": 21,
   "metadata": {
    "id": "11qLpBoRkVd6",
    "pycharm": {
     "name": "#%%\n"
    }
   },
   "outputs": [
    {
     "name": "stdout",
     "output_type": "stream",
     "text": [
      "Model: \"sequential_1\"\n",
      "_________________________________________________________________\n",
      " Layer (type)                Output Shape              Param #   \n",
      "=================================================================\n",
      " dense_3 (Dense)             (None, 28, 300)           8700      \n",
      "                                                                 \n",
      " dense_4 (Dense)             (None, 28, 100)           30100     \n",
      "                                                                 \n",
      " dense_5 (Dense)             (None, 28, 10)            1010      \n",
      "                                                                 \n",
      "=================================================================\n",
      "Total params: 39,810\n",
      "Trainable params: 39,810\n",
      "Non-trainable params: 0\n",
      "_________________________________________________________________\n"
     ]
    }
   ],
   "source": [
    "model.summary()"
   ]
  },
  {
   "cell_type": "code",
   "execution_count": 22,
   "metadata": {
    "id": "4AO6KrJzlAwh",
    "pycharm": {
     "name": "#%%\n"
    }
   },
   "outputs": [
    {
     "data": {
      "image/png": "[encoded data removed]",
      "text/plain": "<IPython.core.display.Image object>"
     },
     "execution_count": 22,
     "metadata": {},
     "output_type": "execute_result"
    }
   ],
   "source": [
    "plot_model(model)"
   ]
  },
  {
   "cell_type": "code",
   "execution_count": 23,
   "metadata": {
    "id": "ktw3lIKKlDx5",
    "pycharm": {
     "name": "#%%\n"
    }
   },
   "outputs": [
    {
     "data": {
      "image/png": "[encoded data removed]",
      "text/plain": "<IPython.core.display.Image object>"
     },
     "execution_count": 23,
     "metadata": {},
     "output_type": "execute_result"
    }
   ],
   "source": [
    "plot_model(model, to_file='model.png')"
   ]
  },
  {
   "cell_type": "code",
   "execution_count": 24,
   "metadata": {
    "pycharm": {
     "name": "#%%\n"
    }
   },
   "outputs": [],
   "source": [
    "model = Sequential([\n",
    "    Input(shape=(28,28), name='Input'),\n",
    "    Dense(300, activation='relu',name='Dense1'),\n",
    "    Dense(100, activation='relu',name='Dense2'),\n",
    "    Dense(10, activation='softmax',name='Output'),\n",
    "])"
   ]
  },
  {
   "cell_type": "code",
   "execution_count": 25,
   "metadata": {
    "id": "SqNs_lvWlrfg",
    "pycharm": {
     "name": "#%%\n"
    }
   },
   "outputs": [
    {
     "name": "stdout",
     "output_type": "stream",
     "text": [
      "Model: \"sequential_2\"\n",
      "_________________________________________________________________\n",
      " Layer (type)                Output Shape              Param #   \n",
      "=================================================================\n",
      " Dense1 (Dense)              (None, 28, 300)           8700      \n",
      "                                                                 \n",
      " Dense2 (Dense)              (None, 28, 100)           30100     \n",
      "                                                                 \n",
      " Output (Dense)              (None, 28, 10)            1010      \n",
      "                                                                 \n",
      "=================================================================\n",
      "Total params: 39,810\n",
      "Trainable params: 39,810\n",
      "Non-trainable params: 0\n",
      "_________________________________________________________________\n"
     ]
    }
   ],
   "source": [
    "model.summary()"
   ]
  },
  {
   "cell_type": "code",
   "execution_count": 26,
   "metadata": {
    "id": "ePBTYE0FltI_",
    "pycharm": {
     "name": "#%%\n"
    }
   },
   "outputs": [
    {
     "data": {
      "image/png": "[encoded data removed]",
      "text/plain": "<IPython.core.display.Image object>"
     },
     "execution_count": 26,
     "metadata": {},
     "output_type": "execute_result"
    }
   ],
   "source": [
    "plot_model(model)"
   ]
  },
  {
   "cell_type": "code",
   "execution_count": 27,
   "metadata": {
    "id": "ohU5iTldJOXT",
    "pycharm": {
     "name": "#%%\n"
    }
   },
   "outputs": [
    {
     "data": {
      "image/png": "[encoded data removed]",
      "text/plain": "<IPython.core.display.Image object>"
     },
     "execution_count": 27,
     "metadata": {},
     "output_type": "execute_result"
    }
   ],
   "source": [
    "plot_model(model, to_file='model2.png')"
   ]
  },
  {
   "cell_type": "markdown",
   "metadata": {
    "id": "ZM04XyfbrBpX",
    "pycharm": {
     "name": "#%% md\n"
    }
   },
   "source": [
    "### 함수형 API\n",
    "\n",
    "- 가장 권장되는 방벚\n",
    "\n",
    "- 모델을 복잡하고, 유연하게 구성 가능\n",
    "\n",
    "- 다중 입출력을 다룰 수 있음"
   ]
  },
  {
   "cell_type": "code",
   "execution_count": 28,
   "metadata": {
    "id": "0XjcLyjetLdh",
    "pycharm": {
     "name": "#%%\n"
    }
   },
   "outputs": [],
   "source": [
    "from keras import Model\n",
    "from keras.layers import Dense, Flatten, Input\n",
    "from keras.utils import plot_model"
   ]
  },
  {
   "cell_type": "code",
   "execution_count": 29,
   "metadata": {
    "id": "IvJZX1mbtZNm",
    "pycharm": {
     "name": "#%%\n"
    }
   },
   "outputs": [],
   "source": [
    "inputs = Input(shape=(28,28,1))\n",
    "\n",
    "x = Flatten(input_shape=(28,28,1))(inputs)\n",
    "x = Dense(300, activation='relu')(x)\n",
    "x = Dense(100, activation='relu')(x)\n",
    "x = Dense(10, activation='softmax')(x)"
   ]
  },
  {
   "cell_type": "code",
   "execution_count": 30,
   "metadata": {
    "id": "_C4-YXaYtZG2",
    "pycharm": {
     "name": "#%%\n"
    }
   },
   "outputs": [
    {
     "name": "stdout",
     "output_type": "stream",
     "text": [
      "Model: \"model_1\"\n",
      "_________________________________________________________________\n",
      " Layer (type)                Output Shape              Param #   \n",
      "=================================================================\n",
      " input_5 (InputLayer)        [(None, 28, 28, 1)]       0         \n",
      "                                                                 \n",
      " flatten_2 (Flatten)         (None, 784)               0         \n",
      "                                                                 \n",
      " dense_6 (Dense)             (None, 300)               235500    \n",
      "                                                                 \n",
      " dense_7 (Dense)             (None, 100)               30100     \n",
      "                                                                 \n",
      " dense_8 (Dense)             (None, 10)                1010      \n",
      "                                                                 \n",
      "=================================================================\n",
      "Total params: 266,610\n",
      "Trainable params: 266,610\n",
      "Non-trainable params: 0\n",
      "_________________________________________________________________\n"
     ]
    }
   ],
   "source": [
    "model = Model(inputs, x)\n",
    "model.summary()"
   ]
  },
  {
   "cell_type": "code",
   "execution_count": 31,
   "metadata": {
    "id": "541mCIP_utZ0",
    "pycharm": {
     "name": "#%%\n"
    }
   },
   "outputs": [
    {
     "data": {
      "image/png": "[encoded data removed]",
      "text/plain": "<IPython.core.display.Image object>"
     },
     "execution_count": 31,
     "metadata": {},
     "output_type": "execute_result"
    }
   ],
   "source": [
    "plot_model(model)"
   ]
  },
  {
   "cell_type": "code",
   "execution_count": 32,
   "metadata": {
    "id": "9eqHbjseuzmi",
    "pycharm": {
     "name": "#%%\n"
    }
   },
   "outputs": [
    {
     "data": {
      "image/png": "[encoded data removed]",
      "text/plain": "<IPython.core.display.Image object>"
     },
     "execution_count": 32,
     "metadata": {},
     "output_type": "execute_result"
    }
   ],
   "source": [
    "plot_model(model, to_file='model3.png')"
   ]
  },
  {
   "cell_type": "code",
   "execution_count": 33,
   "metadata": {
    "id": "4zp-khCAJ_Rg",
    "pycharm": {
     "name": "#%%\n"
    }
   },
   "outputs": [],
   "source": [
    "from keras.layers import Concatenate\n",
    "\n",
    "input_layer = Input(shape=(28,28))\n",
    "hidden1 = Dense(100, activation='relu')(input_layer)\n",
    "hidden2 = Dense(10, activation='relu')(hidden1)\n",
    "concat = Concatenate()([input_layer, hidden2])\n",
    "output = Dense(1)(concat)\n",
    "\n",
    "model = Model(input_layer, output)"
   ]
  },
  {
   "cell_type": "code",
   "execution_count": 34,
   "metadata": {
    "id": "3iAC6QhRwsBn",
    "pycharm": {
     "name": "#%%\n"
    }
   },
   "outputs": [
    {
     "name": "stdout",
     "output_type": "stream",
     "text": [
      "Model: \"model_2\"\n",
      "__________________________________________________________________________________________________\n",
      " Layer (type)                   Output Shape         Param #     Connected to                     \n",
      "==================================================================================================\n",
      " input_6 (InputLayer)           [(None, 28, 28)]     0           []                               \n",
      "                                                                                                  \n",
      " dense_9 (Dense)                (None, 28, 100)      2900        ['input_6[0][0]']                \n",
      "                                                                                                  \n",
      " dense_10 (Dense)               (None, 28, 10)       1010        ['dense_9[0][0]']                \n",
      "                                                                                                  \n",
      " concatenate (Concatenate)      (None, 28, 38)       0           ['input_6[0][0]',                \n",
      "                                                                  'dense_10[0][0]']               \n",
      "                                                                                                  \n",
      " dense_11 (Dense)               (None, 28, 1)        39          ['concatenate[0][0]']            \n",
      "                                                                                                  \n",
      "==================================================================================================\n",
      "Total params: 3,949\n",
      "Trainable params: 3,949\n",
      "Non-trainable params: 0\n",
      "__________________________________________________________________________________________________\n"
     ]
    }
   ],
   "source": [
    "model.summary()"
   ]
  },
  {
   "cell_type": "code",
   "execution_count": 35,
   "metadata": {
    "id": "c2VgxtTgwr5_",
    "pycharm": {
     "name": "#%%\n"
    }
   },
   "outputs": [
    {
     "data": {
      "image/png": "[encoded data removed]",
      "text/plain": "<IPython.core.display.Image object>"
     },
     "execution_count": 35,
     "metadata": {},
     "output_type": "execute_result"
    }
   ],
   "source": [
    "plot_model(model)"
   ]
  },
  {
   "cell_type": "code",
   "execution_count": 36,
   "metadata": {
    "id": "rMPkFz43xvwA",
    "pycharm": {
     "name": "#%%\n"
    }
   },
   "outputs": [
    {
     "data": {
      "image/png": "[encoded data removed]",
      "text/plain": "<IPython.core.display.Image object>"
     },
     "execution_count": 36,
     "metadata": {},
     "output_type": "execute_result"
    }
   ],
   "source": [
    "plot_model(model, to_file='model4.png')"
   ]
  },
  {
   "cell_type": "code",
   "execution_count": 37,
   "metadata": {
    "id": "Mcq5LtfcKBh_",
    "pycharm": {
     "name": "#%%\n"
    }
   },
   "outputs": [],
   "source": [
    "input_1 = Input(shape=(12,), name='input_1')\n",
    "input_2 = Input(shape=(5,), name='input_2')\n",
    "\n",
    "hidden1 = Dense(100, activation='relu')(input_2)\n",
    "hidden2 = Dense(10, activation='relu')(hidden1)\n",
    "concat = Concatenate()([input_1, hidden2])\n",
    "output = Dense(1, activation='sigmoid', name='Output')(concat)\n",
    "model = Model([input_1, input_2], output)"
   ]
  },
  {
   "cell_type": "code",
   "execution_count": 38,
   "metadata": {
    "pycharm": {
     "name": "#%%\n"
    }
   },
   "outputs": [
    {
     "data": {
      "text/plain": "<KerasTensor: shape=(None, 1) dtype=float32 (created by layer 'Output')>"
     },
     "execution_count": 38,
     "metadata": {},
     "output_type": "execute_result"
    }
   ],
   "source": [
    "Dense(1, activation='sigmoid', name='Output')(concat)"
   ]
  },
  {
   "cell_type": "code",
   "execution_count": 39,
   "metadata": {
    "id": "wvtGiFj6x6qa",
    "pycharm": {
     "name": "#%%\n"
    }
   },
   "outputs": [
    {
     "name": "stdout",
     "output_type": "stream",
     "text": [
      "Model: \"model_3\"\n",
      "__________________________________________________________________________________________________\n",
      " Layer (type)                   Output Shape         Param #     Connected to                     \n",
      "==================================================================================================\n",
      " input_2 (InputLayer)           [(None, 5)]          0           []                               \n",
      "                                                                                                  \n",
      " dense_12 (Dense)               (None, 100)          600         ['input_2[0][0]']                \n",
      "                                                                                                  \n",
      " input_1 (InputLayer)           [(None, 12)]         0           []                               \n",
      "                                                                                                  \n",
      " dense_13 (Dense)               (None, 10)           1010        ['dense_12[0][0]']               \n",
      "                                                                                                  \n",
      " concatenate_1 (Concatenate)    (None, 22)           0           ['input_1[0][0]',                \n",
      "                                                                  'dense_13[0][0]']               \n",
      "                                                                                                  \n",
      " Output (Dense)                 (None, 1)            23          ['concatenate_1[0][0]']          \n",
      "                                                                                                  \n",
      "==================================================================================================\n",
      "Total params: 1,633\n",
      "Trainable params: 1,633\n",
      "Non-trainable params: 0\n",
      "__________________________________________________________________________________________________\n"
     ]
    }
   ],
   "source": [
    "model.summary()"
   ]
  },
  {
   "cell_type": "code",
   "execution_count": 40,
   "metadata": {
    "id": "aVvTOFzfx61O",
    "pycharm": {
     "name": "#%%\n"
    }
   },
   "outputs": [
    {
     "data": {
      "image/png": "[encoded data removed]",
      "text/plain": "<IPython.core.display.Image object>"
     },
     "execution_count": 40,
     "metadata": {},
     "output_type": "execute_result"
    }
   ],
   "source": [
    "plot_model(model)"
   ]
  },
  {
   "cell_type": "code",
   "execution_count": 41,
   "metadata": {
    "id": "nfxZETTvx6zE",
    "pycharm": {
     "name": "#%%\n"
    }
   },
   "outputs": [
    {
     "data": {
      "image/png": "[encoded data removed]",
      "text/plain": "<IPython.core.display.Image object>"
     },
     "execution_count": 41,
     "metadata": {},
     "output_type": "execute_result"
    }
   ],
   "source": [
    "plot_model(model, to_file='model5.png')"
   ]
  },
  {
   "cell_type": "code",
   "execution_count": 42,
   "metadata": {
    "id": "xkJlrolMKD6B",
    "pycharm": {
     "name": "#%%\n"
    }
   },
   "outputs": [],
   "source": [
    "input_ = Input((10,10), name='input_')\n",
    "\n",
    "hidden1 = Dense(100, activation='relu')(input_)\n",
    "hidden2 = Dense(10, activation='relu')(hidden1)\n",
    "\n",
    "output = Dense(1, activation='sigmoid', name='main_output')\n",
    "output = output(hidden2)\n",
    "\n",
    "sub_out = Dense(1, name='sum_output')(hidden2)\n",
    "model = Model(input_, [output, sub_out])\n"
   ]
  },
  {
   "cell_type": "code",
   "execution_count": 43,
   "metadata": {
    "id": "qGorWfShzuYS",
    "pycharm": {
     "name": "#%%\n"
    }
   },
   "outputs": [
    {
     "name": "stdout",
     "output_type": "stream",
     "text": [
      "Model: \"model_4\"\n",
      "__________________________________________________________________________________________________\n",
      " Layer (type)                   Output Shape         Param #     Connected to                     \n",
      "==================================================================================================\n",
      " input_ (InputLayer)            [(None, 10, 10)]     0           []                               \n",
      "                                                                                                  \n",
      " dense_14 (Dense)               (None, 10, 100)      1100        ['input_[0][0]']                 \n",
      "                                                                                                  \n",
      " dense_15 (Dense)               (None, 10, 10)       1010        ['dense_14[0][0]']               \n",
      "                                                                                                  \n",
      " main_output (Dense)            (None, 10, 1)        11          ['dense_15[0][0]']               \n",
      "                                                                                                  \n",
      " sum_output (Dense)             (None, 10, 1)        11          ['dense_15[0][0]']               \n",
      "                                                                                                  \n",
      "==================================================================================================\n",
      "Total params: 2,132\n",
      "Trainable params: 2,132\n",
      "Non-trainable params: 0\n",
      "__________________________________________________________________________________________________\n"
     ]
    }
   ],
   "source": [
    "model.summary()"
   ]
  },
  {
   "cell_type": "code",
   "execution_count": 44,
   "metadata": {
    "id": "r-VZlGGczugL",
    "pycharm": {
     "name": "#%%\n"
    }
   },
   "outputs": [
    {
     "data": {
      "image/png": "[encoded data removed]",
      "text/plain": "<IPython.core.display.Image object>"
     },
     "execution_count": 44,
     "metadata": {},
     "output_type": "execute_result"
    }
   ],
   "source": [
    "plot_model(model)"
   ]
  },
  {
   "cell_type": "code",
   "execution_count": 45,
   "metadata": {
    "id": "VWiRsHIB0ROK",
    "pycharm": {
     "name": "#%%\n"
    }
   },
   "outputs": [
    {
     "data": {
      "image/png": "[encoded data removed]",
      "text/plain": "<IPython.core.display.Image object>"
     },
     "execution_count": 45,
     "metadata": {},
     "output_type": "execute_result"
    }
   ],
   "source": [
    "plot_model(model, to_file='model6.png')"
   ]
  },
  {
   "cell_type": "code",
   "execution_count": 46,
   "metadata": {
    "id": "121rkvNOKF43",
    "pycharm": {
     "name": "#%%\n"
    }
   },
   "outputs": [
    {
     "name": "stdout",
     "output_type": "stream",
     "text": [
      "Model: \"model_5\"\n",
      "__________________________________________________________________________________________________\n",
      " Layer (type)                   Output Shape         Param #     Connected to                     \n",
      "==================================================================================================\n",
      " input_2 (InputLayer)           [(None, 10, 28)]     0           []                               \n",
      "                                                                                                  \n",
      " dense_16 (Dense)               (None, 10, 100)      2900        ['input_2[0][0]']                \n",
      "                                                                                                  \n",
      " input_1 (InputLayer)           [(None, 10, 10)]     0           []                               \n",
      "                                                                                                  \n",
      " dense_17 (Dense)               (None, 10, 10)       1010        ['dense_16[0][0]']               \n",
      "                                                                                                  \n",
      " concatenate_2 (Concatenate)    (None, 10, 20)       0           ['input_1[0][0]',                \n",
      "                                                                  'dense_17[0][0]']               \n",
      "                                                                                                  \n",
      " main_output (Dense)            (None, 10, 1)        21          ['concatenate_2[0][0]']          \n",
      "                                                                                                  \n",
      " sum_output (Dense)             (None, 10, 1)        11          ['dense_17[0][0]']               \n",
      "                                                                                                  \n",
      "==================================================================================================\n",
      "Total params: 3,942\n",
      "Trainable params: 3,942\n",
      "Non-trainable params: 0\n",
      "__________________________________________________________________________________________________\n"
     ]
    }
   ],
   "source": [
    "input_1 = Input((10,10), name='input_1')\n",
    "input_2 = Input((10,28), name='input_2')\n",
    "\n",
    "hidden1 = Dense(100, activation='relu')(input_2)\n",
    "hidden2 = Dense(10, activation='relu')(hidden1)\n",
    "\n",
    "concat = Concatenate()([input_1, hidden2])\n",
    "output = Dense(1, activation='sigmoid', name='main_output')(concat)\n",
    "sub_out = Dense(1, name='sum_output')(hidden2)\n",
    "\n",
    "model = Model(inputs=[input_1, input_2], outputs = [output, sub_out])\n",
    "model.summary()"
   ]
  },
  {
   "cell_type": "code",
   "execution_count": 47,
   "metadata": {
    "id": "i31xM7skx6xD",
    "pycharm": {
     "name": "#%%\n"
    }
   },
   "outputs": [
    {
     "data": {
      "image/png": "[encoded data removed]",
      "text/plain": "<IPython.core.display.Image object>"
     },
     "execution_count": 47,
     "metadata": {},
     "output_type": "execute_result"
    }
   ],
   "source": [
    "plot_model(model, to_file='model7.png')"
   ]
  },
  {
   "cell_type": "markdown",
   "metadata": {
    "id": "MRQUHfuHmW9a",
    "pycharm": {
     "name": "#%% md\n"
    }
   },
   "source": [
    "### 서브클래싱(Subclassing)\n",
    "- 커스터마이징에 최적화된 방법\n",
    "\n",
    "- Model 클래스를 상속받아 Model이 포함하는 기능을 사용할 수 있음  \n",
    "  - `fit()`, `evaluate()`, `predict()`\n",
    "  - `save()`, `load()`\n",
    "\n",
    "- 주로 `call()` 메소드안에서 원하는 계산 가능\n",
    "  - for, if, 저수준 연산 등\n",
    "\n",
    "- 권장되는 방법은 아니지만 어떤 모델의 구현 코드를 참고할 때  \n",
    "  해석할 수 있어야함"
   ]
  },
  {
   "cell_type": "code",
   "execution_count": 48,
   "metadata": {
    "id": "J8edl37Ylv7h",
    "pycharm": {
     "name": "#%%\n"
    }
   },
   "outputs": [],
   "source": [
    "from keras.models import Model\n",
    "from keras.layers import Input, Flatten, Dense\n",
    "from keras.utils import plot_model\n"
   ]
  },
  {
   "cell_type": "code",
   "execution_count": 49,
   "metadata": {
    "id": "7JKLw7bNsRcr",
    "pycharm": {
     "name": "#%%\n"
    }
   },
   "outputs": [],
   "source": [
    "class MyModel(Model):\n",
    "    def __init__(self, units=30, activation='relu', **kwargs):\n",
    "        #파이썬 2.X 버전 모델\n",
    "        #super(MyModel, self).__init__(**kwargs)\n",
    "        super().__init__(**kwargs)\n",
    "\n",
    "        self.dense_layer1 = Dense(300, activation=activation)\n",
    "        self.dense_layer2 = Dense(100, activation=activation)\n",
    "        self.dense_layer3 = Dense(units, activation= activation)\n",
    "        self.out_layer = Dense(10, activation='softmax')\n",
    "\n",
    "\n",
    "    def call(self, inputs):\n",
    "        x = self.dense_layer1(inputs)\n",
    "        x = self.dense_layer2(x)\n",
    "        x = self.dense_layer3(x)\n",
    "        x = self.out_layer(x)\n",
    "        return x\n",
    "\n"
   ]
  },
  {
   "cell_type": "code",
   "execution_count": 50,
   "metadata": {
    "pycharm": {
     "name": "#%%\n"
    }
   },
   "outputs": [
    {
     "data": {
      "text/plain": "'a'"
     },
     "execution_count": 50,
     "metadata": {},
     "output_type": "execute_result"
    }
   ],
   "source": [
    "class Car():\n",
    "\n",
    "    def __init__(self, name, user):\n",
    "        self.name = name\n",
    "        self.user = user\n",
    "\n",
    "    def run(self):\n",
    "        print(\"차가 달립니다.\")\n",
    "\n",
    "\n",
    "class Truck(Car):\n",
    "    # 이 아래에서 __init__ 메소드를 오버라이드 하세요.\n",
    "    def __init__(self, *args, **kwargs):\n",
    "        #super(Truck, self).__init__(name)\n",
    "        super().__init__(*args, **kwargs)\n",
    "\n",
    "    def load(self):\n",
    "        print(\"짐을 실었습니다.\")\n",
    "\n",
    "\n",
    "a = Truck(user='b',name='a')\n",
    "a.name"
   ]
  },
  {
   "cell_type": "markdown",
   "metadata": {
    "id": "a8TkTb9x6_KI",
    "pycharm": {
     "name": "#%% md\n"
    }
   },
   "source": [
    "## 모델 가중치 확인"
   ]
  },
  {
   "cell_type": "code",
   "execution_count": 51,
   "metadata": {
    "id": "HLgHWRTv7D2L",
    "pycharm": {
     "name": "#%%\n"
    }
   },
   "outputs": [],
   "source": [
    "from keras.models import Model\n",
    "from keras.layers import Input, Flatten, Dense\n",
    "from keras.utils import plot_model"
   ]
  },
  {
   "cell_type": "code",
   "execution_count": 52,
   "metadata": {
    "id": "b_34PqiU7Dvz",
    "pycharm": {
     "name": "#%%\n"
    }
   },
   "outputs": [
    {
     "name": "stdout",
     "output_type": "stream",
     "text": [
      "Model: \"model_6\"\n",
      "_________________________________________________________________\n",
      " Layer (type)                Output Shape              Param #   \n",
      "=================================================================\n",
      " input_7 (InputLayer)        [(None, 28, 28, 1)]       0         \n",
      "                                                                 \n",
      " flatten_3 (Flatten)         (None, 784)               0         \n",
      "                                                                 \n",
      " dense_18 (Dense)            (None, 300)               235500    \n",
      "                                                                 \n",
      " dense_19 (Dense)            (None, 100)               30100     \n",
      "                                                                 \n",
      " dense_20 (Dense)            (None, 10)                1010      \n",
      "                                                                 \n",
      "=================================================================\n",
      "Total params: 266,610\n",
      "Trainable params: 266,610\n",
      "Non-trainable params: 0\n",
      "_________________________________________________________________\n"
     ]
    }
   ],
   "source": [
    "inputs =Input(shape=(28,28,1))\n",
    "x =Flatten(input_shape=(28,28,1))\n",
    "x = x(inputs)\n",
    "x = Dense(300, activation='relu')(x)\n",
    "x = Dense(100, activation='relu')(x)\n",
    "x = Dense(10, activation='softmax')(x)\n",
    "\n",
    "model = Model(inputs, x)\n",
    "model.summary()"
   ]
  },
  {
   "cell_type": "markdown",
   "metadata": {
    "id": "KK-5msf3qRo0",
    "pycharm": {
     "name": "#%% md\n"
    }
   },
   "source": [
    "모델의 레이어들이 리스트로 표현됨"
   ]
  },
  {
   "cell_type": "code",
   "execution_count": 53,
   "metadata": {
    "id": "Tf2F-J8vpi49",
    "pycharm": {
     "name": "#%%\n"
    }
   },
   "outputs": [
    {
     "data": {
      "text/plain": "[<keras.engine.input_layer.InputLayer at 0x17ec5f130>,\n <keras.layers.reshaping.flatten.Flatten at 0x17ec5f7c0>,\n <keras.layers.core.dense.Dense at 0x17ec540d0>,\n <keras.layers.core.dense.Dense at 0x17ec71880>,\n <keras.layers.core.dense.Dense at 0x17ec54370>]"
     },
     "execution_count": 53,
     "metadata": {},
     "output_type": "execute_result"
    }
   ],
   "source": [
    "model.layers"
   ]
  },
  {
   "cell_type": "markdown",
   "metadata": {
    "pycharm": {
     "name": "#%% md\n"
    }
   },
   "source": [
    "### 이름확인하기"
   ]
  },
  {
   "cell_type": "code",
   "execution_count": 54,
   "metadata": {
    "id": "-aHbATTApi0h",
    "pycharm": {
     "name": "#%%\n"
    }
   },
   "outputs": [
    {
     "data": {
      "text/plain": "'dense_18'"
     },
     "execution_count": 54,
     "metadata": {},
     "output_type": "execute_result"
    }
   ],
   "source": [
    "hidden_2 = model.layers[2]\n",
    "\n",
    "# 이름\n",
    "hidden_2.name"
   ]
  },
  {
   "cell_type": "markdown",
   "metadata": {
    "id": "t1DREsBb5iJE",
    "pycharm": {
     "name": "#%% md\n"
    }
   },
   "source": [
    "위의 layer name 참고"
   ]
  },
  {
   "cell_type": "code",
   "execution_count": 55,
   "metadata": {
    "id": "nCrffB2wqNW8",
    "pycharm": {
     "name": "#%%\n"
    }
   },
   "outputs": [
    {
     "data": {
      "text/plain": "True"
     },
     "execution_count": 55,
     "metadata": {},
     "output_type": "execute_result"
    }
   ],
   "source": [
    "model.get_layer('dense_18') is hidden_2"
   ]
  },
  {
   "cell_type": "code",
   "execution_count": 56,
   "metadata": {
    "id": "OJGopmDxqcO1",
    "pycharm": {
     "name": "#%%\n"
    }
   },
   "outputs": [],
   "source": [
    "w, b= hidden_2.get_weights()"
   ]
  },
  {
   "cell_type": "code",
   "execution_count": 57,
   "metadata": {
    "id": "j7zkvduWqhhw",
    "pycharm": {
     "name": "#%%\n"
    }
   },
   "outputs": [
    {
     "data": {
      "text/plain": "array([[-0.02800443,  0.04855824,  0.02751914, ...,  0.00960008,\n        -0.00796123, -0.0133522 ],\n       [ 0.01611954,  0.00144831, -0.02820668, ...,  0.00065094,\n         0.01651683,  0.04379861],\n       [-0.0437861 ,  0.00658993, -0.05881778, ..., -0.04739716,\n        -0.03433928,  0.03154709],\n       ...,\n       [-0.00350509,  0.04625763,  0.02062563, ...,  0.03252264,\n        -0.00028712, -0.05172993],\n       [ 0.04167175,  0.01196171,  0.00652634, ..., -0.07023708,\n         0.03556088,  0.0264007 ],\n       [ 0.01406019, -0.02540822, -0.0418445 , ..., -0.06002566,\n        -0.03875675, -0.05263955]], dtype=float32)"
     },
     "execution_count": 57,
     "metadata": {},
     "output_type": "execute_result"
    }
   ],
   "source": [
    "w"
   ]
  },
  {
   "cell_type": "code",
   "execution_count": 58,
   "metadata": {
    "id": "jZsI7ExUqhcH",
    "pycharm": {
     "name": "#%%\n"
    }
   },
   "outputs": [
    {
     "data": {
      "text/plain": "array([0., 0., 0., 0., 0., 0., 0., 0., 0., 0., 0., 0., 0., 0., 0., 0., 0.,\n       0., 0., 0., 0., 0., 0., 0., 0., 0., 0., 0., 0., 0., 0., 0., 0., 0.,\n       0., 0., 0., 0., 0., 0., 0., 0., 0., 0., 0., 0., 0., 0., 0., 0., 0.,\n       0., 0., 0., 0., 0., 0., 0., 0., 0., 0., 0., 0., 0., 0., 0., 0., 0.,\n       0., 0., 0., 0., 0., 0., 0., 0., 0., 0., 0., 0., 0., 0., 0., 0., 0.,\n       0., 0., 0., 0., 0., 0., 0., 0., 0., 0., 0., 0., 0., 0., 0., 0., 0.,\n       0., 0., 0., 0., 0., 0., 0., 0., 0., 0., 0., 0., 0., 0., 0., 0., 0.,\n       0., 0., 0., 0., 0., 0., 0., 0., 0., 0., 0., 0., 0., 0., 0., 0., 0.,\n       0., 0., 0., 0., 0., 0., 0., 0., 0., 0., 0., 0., 0., 0., 0., 0., 0.,\n       0., 0., 0., 0., 0., 0., 0., 0., 0., 0., 0., 0., 0., 0., 0., 0., 0.,\n       0., 0., 0., 0., 0., 0., 0., 0., 0., 0., 0., 0., 0., 0., 0., 0., 0.,\n       0., 0., 0., 0., 0., 0., 0., 0., 0., 0., 0., 0., 0., 0., 0., 0., 0.,\n       0., 0., 0., 0., 0., 0., 0., 0., 0., 0., 0., 0., 0., 0., 0., 0., 0.,\n       0., 0., 0., 0., 0., 0., 0., 0., 0., 0., 0., 0., 0., 0., 0., 0., 0.,\n       0., 0., 0., 0., 0., 0., 0., 0., 0., 0., 0., 0., 0., 0., 0., 0., 0.,\n       0., 0., 0., 0., 0., 0., 0., 0., 0., 0., 0., 0., 0., 0., 0., 0., 0.,\n       0., 0., 0., 0., 0., 0., 0., 0., 0., 0., 0., 0., 0., 0., 0., 0., 0.,\n       0., 0., 0., 0., 0., 0., 0., 0., 0., 0., 0.], dtype=float32)"
     },
     "execution_count": 58,
     "metadata": {},
     "output_type": "execute_result"
    }
   ],
   "source": [
    "b"
   ]
  },
  {
   "cell_type": "markdown",
   "metadata": {
    "pycharm": {
     "name": "#%% md\n"
    }
   },
   "source": [
    "### 그림으로 생각하기\n",
    "### 행렬 표시!!"
   ]
  },
  {
   "cell_type": "code",
   "execution_count": 59,
   "metadata": {
    "pycharm": {
     "name": "#%%\n"
    }
   },
   "outputs": [
    {
     "data": {
      "text/plain": "          0         1         2         3         4         5         6    \\\n0   -0.028004  0.048558  0.027519 -0.073400  0.042778 -0.016271 -0.030856   \n1    0.016120  0.001448 -0.028207 -0.062652  0.011581 -0.050238  0.019488   \n2   -0.043786  0.006590 -0.058818 -0.009100 -0.045810 -0.013510  0.020117   \n3   -0.027643 -0.051228  0.013913 -0.042873 -0.064237  0.024674 -0.069966   \n4   -0.073693 -0.065014  0.061325 -0.005790 -0.048728  0.059612  0.010436   \n..        ...       ...       ...       ...       ...       ...       ...   \n779 -0.023206  0.072588 -0.035404  0.012925  0.061085 -0.035168  0.060566   \n780  0.073268  0.016798  0.051307  0.035000 -0.032858 -0.005807  0.046485   \n781 -0.003505  0.046258  0.020626  0.018150 -0.028002 -0.034249  0.020216   \n782  0.041672  0.011962  0.006526 -0.039203  0.016128  0.013809 -0.035323   \n783  0.014060 -0.025408 -0.041845  0.019189 -0.026606  0.049386  0.056405   \n\n          7         8         9    ...       290       291       292  \\\n0    0.073233  0.068164  0.008367  ...  0.027143 -0.048359 -0.012451   \n1    0.033551  0.050487  0.059345  ... -0.008846  0.020742  0.034597   \n2    0.067146 -0.001119 -0.060856  ...  0.043722  0.003909  0.047031   \n3   -0.062713 -0.005856  0.050792  ...  0.021213 -0.002593 -0.017597   \n4   -0.032345 -0.057549  0.056532  ... -0.067018  0.035977  0.047357   \n..        ...       ...       ...  ...       ...       ...       ...   \n779  0.074006 -0.061795  0.027771  ... -0.036229  0.039527 -0.031007   \n780 -0.001787  0.070240  0.033471  ... -0.040623 -0.043732 -0.067243   \n781 -0.041250  0.030993 -0.014901  ...  0.021655 -0.074208  0.038364   \n782  0.065457 -0.059667  0.031453  ... -0.018146 -0.008030 -0.017299   \n783  0.020272  0.007135  0.068164  ... -0.044337 -0.006822 -0.057324   \n\n          293       294       295       296       297       298       299  \n0    0.049423 -0.027726 -0.051891 -0.039267  0.009600 -0.007961 -0.013352  \n1    0.024191  0.019993 -0.052255 -0.001345  0.000651  0.016517  0.043799  \n2   -0.044841 -0.056071  0.014329 -0.063471 -0.047397 -0.034339  0.031547  \n3   -0.012705 -0.059090  0.021129  0.006509 -0.042423  0.069615 -0.054923  \n4   -0.038129  0.019648 -0.066204 -0.034942  0.031129  0.064709  0.036470  \n..        ...       ...       ...       ...       ...       ...       ...  \n779  0.012112 -0.047074  0.057042 -0.048302  0.012095  0.066074 -0.001591  \n780 -0.032690 -0.070621  0.046613  0.011304 -0.038359  0.072652  0.003309  \n781 -0.069522 -0.031942 -0.041846  0.065569  0.032523 -0.000287 -0.051730  \n782  0.022744  0.073400  0.027374  0.068358 -0.070237  0.035561  0.026401  \n783 -0.039152  0.024695  0.025911  0.073391 -0.060026 -0.038757 -0.052640  \n\n[784 rows x 300 columns]",
      "text/html": "<div>\n<style scoped>\n    .dataframe tbody tr th:only-of-type {\n        vertical-align: middle;\n    }\n\n    .dataframe tbody tr th {\n        vertical-align: top;\n    }\n\n    .dataframe thead th {\n        text-align: right;\n    }\n</style>\n<table border=\"1\" class=\"dataframe\">\n  <thead>\n    <tr style=\"text-align: right;\">\n      <th></th>\n      <th>0</th>\n      <th>1</th>\n      <th>2</th>\n      <th>3</th>\n      <th>4</th>\n      <th>5</th>\n      <th>6</th>\n      <th>7</th>\n      <th>8</th>\n      <th>9</th>\n      <th>...</th>\n      <th>290</th>\n      <th>291</th>\n      <th>292</th>\n      <th>293</th>\n      <th>294</th>\n      <th>295</th>\n      <th>296</th>\n      <th>297</th>\n      <th>298</th>\n      <th>299</th>\n    </tr>\n  </thead>\n  <tbody>\n    <tr>\n      <th>0</th>\n      <td>-0.028004</td>\n      <td>0.048558</td>\n      <td>0.027519</td>\n      <td>-0.073400</td>\n      <td>0.042778</td>\n      <td>-0.016271</td>\n      <td>-0.030856</td>\n      <td>0.073233</td>\n      <td>0.068164</td>\n      <td>0.008367</td>\n      <td>...</td>\n      <td>0.027143</td>\n      <td>-0.048359</td>\n      <td>-0.012451</td>\n      <td>0.049423</td>\n      <td>-0.027726</td>\n      <td>-0.051891</td>\n      <td>-0.039267</td>\n      <td>0.009600</td>\n      <td>-0.007961</td>\n      <td>-0.013352</td>\n    </tr>\n    <tr>\n      <th>1</th>\n      <td>0.016120</td>\n      <td>0.001448</td>\n      <td>-0.028207</td>\n      <td>-0.062652</td>\n      <td>0.011581</td>\n      <td>-0.050238</td>\n      <td>0.019488</td>\n      <td>0.033551</td>\n      <td>0.050487</td>\n      <td>0.059345</td>\n      <td>...</td>\n      <td>-0.008846</td>\n      <td>0.020742</td>\n      <td>0.034597</td>\n      <td>0.024191</td>\n      <td>0.019993</td>\n      <td>-0.052255</td>\n      <td>-0.001345</td>\n      <td>0.000651</td>\n      <td>0.016517</td>\n      <td>0.043799</td>\n    </tr>\n    <tr>\n      <th>2</th>\n      <td>-0.043786</td>\n      <td>0.006590</td>\n      <td>-0.058818</td>\n      <td>-0.009100</td>\n      <td>-0.045810</td>\n      <td>-0.013510</td>\n      <td>0.020117</td>\n      <td>0.067146</td>\n      <td>-0.001119</td>\n      <td>-0.060856</td>\n      <td>...</td>\n      <td>0.043722</td>\n      <td>0.003909</td>\n      <td>0.047031</td>\n      <td>-0.044841</td>\n      <td>-0.056071</td>\n      <td>0.014329</td>\n      <td>-0.063471</td>\n      <td>-0.047397</td>\n      <td>-0.034339</td>\n      <td>0.031547</td>\n    </tr>\n    <tr>\n      <th>3</th>\n      <td>-0.027643</td>\n      <td>-0.051228</td>\n      <td>0.013913</td>\n      <td>-0.042873</td>\n      <td>-0.064237</td>\n      <td>0.024674</td>\n      <td>-0.069966</td>\n      <td>-0.062713</td>\n      <td>-0.005856</td>\n      <td>0.050792</td>\n      <td>...</td>\n      <td>0.021213</td>\n      <td>-0.002593</td>\n      <td>-0.017597</td>\n      <td>-0.012705</td>\n      <td>-0.059090</td>\n      <td>0.021129</td>\n      <td>0.006509</td>\n      <td>-0.042423</td>\n      <td>0.069615</td>\n      <td>-0.054923</td>\n    </tr>\n    <tr>\n      <th>4</th>\n      <td>-0.073693</td>\n      <td>-0.065014</td>\n      <td>0.061325</td>\n      <td>-0.005790</td>\n      <td>-0.048728</td>\n      <td>0.059612</td>\n      <td>0.010436</td>\n      <td>-0.032345</td>\n      <td>-0.057549</td>\n      <td>0.056532</td>\n      <td>...</td>\n      <td>-0.067018</td>\n      <td>0.035977</td>\n      <td>0.047357</td>\n      <td>-0.038129</td>\n      <td>0.019648</td>\n      <td>-0.066204</td>\n      <td>-0.034942</td>\n      <td>0.031129</td>\n      <td>0.064709</td>\n      <td>0.036470</td>\n    </tr>\n    <tr>\n      <th>...</th>\n      <td>...</td>\n      <td>...</td>\n      <td>...</td>\n      <td>...</td>\n      <td>...</td>\n      <td>...</td>\n      <td>...</td>\n      <td>...</td>\n      <td>...</td>\n      <td>...</td>\n      <td>...</td>\n      <td>...</td>\n      <td>...</td>\n      <td>...</td>\n      <td>...</td>\n      <td>...</td>\n      <td>...</td>\n      <td>...</td>\n      <td>...</td>\n      <td>...</td>\n      <td>...</td>\n    </tr>\n    <tr>\n      <th>779</th>\n      <td>-0.023206</td>\n      <td>0.072588</td>\n      <td>-0.035404</td>\n      <td>0.012925</td>\n      <td>0.061085</td>\n      <td>-0.035168</td>\n      <td>0.060566</td>\n      <td>0.074006</td>\n      <td>-0.061795</td>\n      <td>0.027771</td>\n      <td>...</td>\n      <td>-0.036229</td>\n      <td>0.039527</td>\n      <td>-0.031007</td>\n      <td>0.012112</td>\n      <td>-0.047074</td>\n      <td>0.057042</td>\n      <td>-0.048302</td>\n      <td>0.012095</td>\n      <td>0.066074</td>\n      <td>-0.001591</td>\n    </tr>\n    <tr>\n      <th>780</th>\n      <td>0.073268</td>\n      <td>0.016798</td>\n      <td>0.051307</td>\n      <td>0.035000</td>\n      <td>-0.032858</td>\n      <td>-0.005807</td>\n      <td>0.046485</td>\n      <td>-0.001787</td>\n      <td>0.070240</td>\n      <td>0.033471</td>\n      <td>...</td>\n      <td>-0.040623</td>\n      <td>-0.043732</td>\n      <td>-0.067243</td>\n      <td>-0.032690</td>\n      <td>-0.070621</td>\n      <td>0.046613</td>\n      <td>0.011304</td>\n      <td>-0.038359</td>\n      <td>0.072652</td>\n      <td>0.003309</td>\n    </tr>\n    <tr>\n      <th>781</th>\n      <td>-0.003505</td>\n      <td>0.046258</td>\n      <td>0.020626</td>\n      <td>0.018150</td>\n      <td>-0.028002</td>\n      <td>-0.034249</td>\n      <td>0.020216</td>\n      <td>-0.041250</td>\n      <td>0.030993</td>\n      <td>-0.014901</td>\n      <td>...</td>\n      <td>0.021655</td>\n      <td>-0.074208</td>\n      <td>0.038364</td>\n      <td>-0.069522</td>\n      <td>-0.031942</td>\n      <td>-0.041846</td>\n      <td>0.065569</td>\n      <td>0.032523</td>\n      <td>-0.000287</td>\n      <td>-0.051730</td>\n    </tr>\n    <tr>\n      <th>782</th>\n      <td>0.041672</td>\n      <td>0.011962</td>\n      <td>0.006526</td>\n      <td>-0.039203</td>\n      <td>0.016128</td>\n      <td>0.013809</td>\n      <td>-0.035323</td>\n      <td>0.065457</td>\n      <td>-0.059667</td>\n      <td>0.031453</td>\n      <td>...</td>\n      <td>-0.018146</td>\n      <td>-0.008030</td>\n      <td>-0.017299</td>\n      <td>0.022744</td>\n      <td>0.073400</td>\n      <td>0.027374</td>\n      <td>0.068358</td>\n      <td>-0.070237</td>\n      <td>0.035561</td>\n      <td>0.026401</td>\n    </tr>\n    <tr>\n      <th>783</th>\n      <td>0.014060</td>\n      <td>-0.025408</td>\n      <td>-0.041845</td>\n      <td>0.019189</td>\n      <td>-0.026606</td>\n      <td>0.049386</td>\n      <td>0.056405</td>\n      <td>0.020272</td>\n      <td>0.007135</td>\n      <td>0.068164</td>\n      <td>...</td>\n      <td>-0.044337</td>\n      <td>-0.006822</td>\n      <td>-0.057324</td>\n      <td>-0.039152</td>\n      <td>0.024695</td>\n      <td>0.025911</td>\n      <td>0.073391</td>\n      <td>-0.060026</td>\n      <td>-0.038757</td>\n      <td>-0.052640</td>\n    </tr>\n  </tbody>\n</table>\n<p>784 rows × 300 columns</p>\n</div>"
     },
     "execution_count": 59,
     "metadata": {},
     "output_type": "execute_result"
    }
   ],
   "source": [
    "import pandas as pd\n",
    "\n",
    "w_df = pd.DataFrame(w)\n",
    "w_df"
   ]
  },
  {
   "cell_type": "code",
   "execution_count": 60,
   "metadata": {
    "id": "yS8ljwRlqkMc",
    "pycharm": {
     "name": "#%%\n"
    }
   },
   "outputs": [
    {
     "data": {
      "text/plain": "((784, 300), (300,))"
     },
     "execution_count": 60,
     "metadata": {},
     "output_type": "execute_result"
    }
   ],
   "source": [
    "w.shape, b.shape"
   ]
  },
  {
   "cell_type": "markdown",
   "metadata": {
    "id": "PTFFAcfb2DSF",
    "pycharm": {
     "name": "#%% md\n"
    }
   },
   "source": [
    "## 모델 컴파일(compile)\n",
    "\n",
    "- 모델을 구성한 후, 사용할 손실함수(loss), 옵티마이저(optimizer)를 지정\n"
   ]
  },
  {
   "cell_type": "code",
   "execution_count": 61,
   "metadata": {
    "id": "jp4t9-iF2xpN",
    "pycharm": {
     "name": "#%%\n"
    }
   },
   "outputs": [],
   "source": [
    "model.compile(loss='sparse_categorical_crossentropy'\n",
    "              , optimizer='sgd', metrics=['accuracy']\n",
    "              )\n"
   ]
  },
  {
   "cell_type": "markdown",
   "metadata": {
    "id": "a8Y5B43W3EmY",
    "pycharm": {
     "name": "#%% md\n"
    }
   },
   "source": [
    "### 참고1\n",
    "\n",
    "#### loss\n",
    "- `keras.losses.sparse_categorical_crossentropy` 등과 같이 지정 가능\n",
    "  - `sparse_categorical_crossentropy`  \n",
    "    클래스가 배타적, 즉 MNIST 예제에서 (0, 1, 2, ..., 9)와 같은 방식으로 구분되어 있을 때 사용\n",
    "\n",
    "  - `categorical_cross_entropy`\n",
    "    클래스가 원-핫 인코딩 방식으로 되어 있을 때 사용\n",
    "\n",
    "  - `binary_crossentropy`\n",
    "  이진 분류를 수행할 때 사용\n",
    "\n",
    "\n",
    "#### optimizer\n",
    "- `keras.optimizer.SGD()` 등과 같이 사용 가능\n",
    "  - 보통 옵티마이저의 튜닝을 위해 따로 객체를 생성하여 컴파일    \n",
    "        optimizer = keras.optimizer.SGD(learning_rate=1e-5)  \n",
    "        model.compile(...,\n",
    "                      optimizer=optimzer,\n",
    "                      ...)\n",
    "\n",
    "- `keras.optimizer.Adam()` 도 많이 사용\n",
    "\n",
    "#### metrics\n",
    "- 모니터링할 지표\n",
    "\n",
    "- 주로 'accuracy', 'acc'로도 가능\n"
   ]
  },
  {
   "cell_type": "markdown",
   "metadata": {
    "id": "8k7z79M1Kv-x",
    "pycharm": {
     "name": "#%% md\n"
    }
   },
   "source": [
    "### 참고2 - 컴파일 설정 예시\n",
    "- 평균 제곱 오차 회귀 문제  \n",
    "      model.compile(loss = 'mse',  \n",
    "                    optimizer = RMSprop(),  \n",
    "                    metrics=['mae'])\n",
    "\n",
    "- 이진 분류\n",
    "      model.compile(loss = 'binary_crossentropy',  \n",
    "                    optimizer = RMSprop(),  \n",
    "                    metrics=['accuracy])\n",
    "\n",
    "\n",
    "\n",
    "- 다항 분류\n",
    "      model.compile(loss = 'categorical_crossentropy',  \n",
    "                    optimizer = RMSprop(),  \n",
    "                    metrics=['accuracy])\n",
    " \n"
   ]
  },
  {
   "cell_type": "markdown",
   "metadata": {
    "id": "hKAtKRop3AvE",
    "pycharm": {
     "name": "#%% md\n"
    }
   },
   "source": [
    "## 모델 훈련, 평가 및 예측\n",
    "- `fit()` 함수\n",
    "\n",
    "  - train_data(학습 데이터), train_label(데이터의 정답)\n",
    "  \n",
    "  - epochs\n",
    "  \n",
    "  - batch_size\n",
    "  \n",
    "  - validation_data\n",
    "\n",
    "- `evaluate()` 함수\n",
    "  - 테스트 데이터\n",
    "\n",
    "\n",
    "- `predict()`\n",
    "  임의의 데이터를 인자로 넣어 예측 가능"
   ]
  },
  {
   "cell_type": "markdown",
   "metadata": {
    "id": "WDPKNEsm2qTQ",
    "pycharm": {
     "name": "#%% md\n"
    }
   },
   "source": [
    "## MNIST 예제를 통해 모델 구성하기\n",
    "\n",
    "- keras.datasets 에 포함되어 있는 데이터셋\n",
    "\n",
    "  <img src=\"https://storage.googleapis.com/tfds-data/visualization/fig/mnist-3.0.1.png\" width=\"400\">\n",
    "\n",
    "  <sub>출처: https://www.tensorflow.org/datasets/catalog/mnist</sub>"
   ]
  },
  {
   "cell_type": "markdown",
   "metadata": {
    "id": "Q1CMnkAQGvYE",
    "pycharm": {
     "name": "#%% md\n"
    }
   },
   "source": [
    "### modules import"
   ]
  },
  {
   "cell_type": "code",
   "execution_count": 62,
   "metadata": {
    "id": "1AKwa2VeGxqf",
    "pycharm": {
     "name": "#%%\n"
    }
   },
   "outputs": [],
   "source": [
    "import tensorflow as tf\n",
    "from keras.datasets.mnist import  load_data\n",
    "from keras.models import Sequential\n",
    "from keras import models\n",
    "\n",
    "from keras import layers\n",
    "from keras.utils import plot_model, to_categorical\n",
    "\n",
    "from sklearn.model_selection import train_test_split\n",
    "import numpy as np\n",
    "import matplotlib.pyplot as plt\n",
    "plt.style.use('seaborn-white')"
   ]
  },
  {
   "cell_type": "markdown",
   "metadata": {
    "id": "vEJBVkwzGpsX",
    "pycharm": {
     "name": "#%% md\n"
    }
   },
   "source": [
    "### 데이터셋 로드\n",
    "- MNIST 데이터셋을 로드\n",
    "\n",
    "- Train Data 중, 30%를 검증 데이터(valiation data)로 사용\n"
   ]
  },
  {
   "cell_type": "code",
   "execution_count": 63,
   "metadata": {
    "id": "_OGqRrXg2URI",
    "pycharm": {
     "name": "#%%\n"
    }
   },
   "outputs": [],
   "source": [
    "tf.random.set_seed(111)\n",
    "(x_train_full, y_train_full), (x_test, y_test) = load_data(path='mist.npz')\n",
    "\n",
    "x_train, x_val, y_train, y_val = train_test_split(x_train_full, y_train_full, test_size=0.3, random_state=111)\n",
    "\n"
   ]
  },
  {
   "cell_type": "markdown",
   "metadata": {
    "id": "Vyci_3GlH52j",
    "pycharm": {
     "name": "#%% md\n"
    }
   },
   "source": [
    "### 데이터 확인"
   ]
  },
  {
   "cell_type": "code",
   "execution_count": 64,
   "metadata": {
    "id": "xYDatr9Q2UsB",
    "pycharm": {
     "name": "#%%\n"
    }
   },
   "outputs": [],
   "source": [
    "num_x_train = (x_train.shape[0])\n",
    "num_x_val = x_val.shape[0]\n",
    "num_x_test = x_test.shape[0]"
   ]
  },
  {
   "cell_type": "code",
   "execution_count": 65,
   "metadata": {
    "id": "uqff0qU_2VRV",
    "pycharm": {
     "name": "#%%\n"
    }
   },
   "outputs": [
    {
     "name": "stdout",
     "output_type": "stream",
     "text": [
      "학습 데이터 : (60000, 28, 28) \t 레이블 : (60000,)\n",
      "학습 데이터 : (42000, 28, 28) \t 레이블 : (42000,)\n",
      "검증 데이터 : (18000, 28, 28) \t 레이블 : (18000,)\n",
      "테스트 데이터 : (10000, 28, 28) \t 레이블 : (10000,)\n"
     ]
    }
   ],
   "source": [
    "print(f\"학습 데이터 : {x_train_full.shape} \\t 레이블 : {y_train_full.shape}\")\n",
    "print(f\"학습 데이터 : {x_train.shape} \\t 레이블 : {y_train.shape}\")\n",
    "print(f\"검증 데이터 : {x_val.shape} \\t 레이블 : {y_val.shape}\")\n",
    "print(f\"테스트 데이터 : {x_test.shape} \\t 레이블 : {y_test.shape}\")"
   ]
  },
  {
   "cell_type": "code",
   "execution_count": 66,
   "metadata": {
    "id": "OPlhbVEJ2VNs",
    "pycharm": {
     "name": "#%%\n"
    }
   },
   "outputs": [
    {
     "name": "stdout",
     "output_type": "stream",
     "text": [
      "[59652 27798 20587  5325  8764]\n"
     ]
    },
    {
     "data": {
      "text/plain": "<Figure size 1008x576 with 5 Axes>",
      "image/png": "[encoded data removed]"
     },
     "metadata": {},
     "output_type": "display_data"
    }
   ],
   "source": [
    "num_sample = 5\n",
    "random_idxs = np.random.randint(60000, size=num_sample)\n",
    "print(random_idxs)\n",
    "plt.figure(figsize=(14,8))\n",
    "\n",
    "for i, idx in enumerate(random_idxs):\n",
    "   img = x_train_full[idx, :]\n",
    "   label = y_train_full[idx]\n",
    "\n",
    "   plt.subplot(1, len(random_idxs), i+1)\n",
    "   plt.imshow(img)\n",
    "   plt.title(f\"Index : {idx}, label : {label}\")\n",
    "plt.show()"
   ]
  },
  {
   "cell_type": "code",
   "execution_count": 67,
   "metadata": {
    "id": "I0aqzgMM2VKg",
    "pycharm": {
     "name": "#%%\n"
    }
   },
   "outputs": [
    {
     "data": {
      "text/plain": "8"
     },
     "execution_count": 67,
     "metadata": {},
     "output_type": "execute_result"
    }
   ],
   "source": [
    "y_train[0]"
   ]
  },
  {
   "cell_type": "markdown",
   "metadata": {
    "id": "Du5KAU8COICG",
    "pycharm": {
     "name": "#%% md\n"
    }
   },
   "source": [
    "### 데이터 전처리\n",
    "- Normalization"
   ]
  },
  {
   "cell_type": "code",
   "execution_count": 68,
   "metadata": {
    "id": "CMvKiV6POJaR",
    "pycharm": {
     "name": "#%%\n"
    }
   },
   "outputs": [],
   "source": [
    "x_train = x_train/255.0\n",
    "x_val = x_val /255.0\n",
    "x_test = x_test / 255.0"
   ]
  },
  {
   "cell_type": "code",
   "execution_count": 69,
   "metadata": {
    "id": "bMuBGKWxP7DM",
    "pycharm": {
     "name": "#%%\n"
    }
   },
   "outputs": [],
   "source": [
    "y_train = to_categorical(y_train)"
   ]
  },
  {
   "cell_type": "code",
   "execution_count": 70,
   "metadata": {
    "pycharm": {
     "name": "#%%\n"
    }
   },
   "outputs": [],
   "source": [
    "y_val = to_categorical(y_val)\n",
    "y_test = to_categorical(y_test)"
   ]
  },
  {
   "cell_type": "markdown",
   "metadata": {
    "id": "S9ke94boKfre",
    "pycharm": {
     "name": "#%% md\n"
    }
   },
   "source": [
    "### 모델 구성 (Sequential)"
   ]
  },
  {
   "cell_type": "markdown",
   "metadata": {
    "pycharm": {
     "name": "#%% md\n"
    }
   },
   "source": [
    "### 시퀀셜로 모델 작성"
   ]
  },
  {
   "cell_type": "code",
   "execution_count": 71,
   "metadata": {
    "id": "QYsY9ghjO0RW",
    "pycharm": {
     "name": "#%%\n"
    }
   },
   "outputs": [
    {
     "name": "stdout",
     "output_type": "stream",
     "text": [
      "Model: \"sequential_3\"\n",
      "_________________________________________________________________\n",
      " Layer (type)                Output Shape              Param #   \n",
      "=================================================================\n",
      " flatten (Flatten)           (None, 784)               0         \n",
      "                                                                 \n",
      " dense (Dense)               (None, 100)               78500     \n",
      "                                                                 \n",
      " dense2 (Dense)              (None, 64)                6464      \n",
      "                                                                 \n",
      " dense3 (Dense)              (None, 32)                2080      \n",
      "                                                                 \n",
      " output (Dense)              (None, 10)                330       \n",
      "                                                                 \n",
      "=================================================================\n",
      "Total params: 87,374\n",
      "Trainable params: 87,374\n",
      "Non-trainable params: 0\n",
      "_________________________________________________________________\n"
     ]
    }
   ],
   "source": [
    "model = Sequential([\n",
    "    Flatten(input_shape=(28,28), name='flatten'),\n",
    "    Dense(100 ,activation='relu', name='dense'),\n",
    "    Dense(64, activation='relu', name='dense2'),\n",
    "    Dense(32, activation='relu', name='dense3'),\n",
    "    Dense(10, activation='softmax', name='output')\n",
    "])\n",
    "model.summary()"
   ]
  },
  {
   "cell_type": "code",
   "execution_count": 72,
   "metadata": {
    "pycharm": {
     "name": "#%%\n"
    }
   },
   "outputs": [
    {
     "data": {
      "image/png": "[encoded data removed]",
      "text/plain": "<IPython.core.display.Image object>"
     },
     "execution_count": 72,
     "metadata": {},
     "output_type": "execute_result"
    }
   ],
   "source": [
    "plot_model(model)"
   ]
  },
  {
   "cell_type": "code",
   "execution_count": 73,
   "metadata": {
    "pycharm": {
     "name": "#%%\n"
    }
   },
   "outputs": [
    {
     "data": {
      "text/plain": "<keras.layers.reshaping.flatten.Flatten at 0x2807cf2e0>"
     },
     "execution_count": 73,
     "metadata": {},
     "output_type": "execute_result"
    }
   ],
   "source": [
    "model.layers[0]"
   ]
  },
  {
   "cell_type": "markdown",
   "metadata": {
    "pycharm": {
     "name": "#%% md\n"
    }
   },
   "source": [
    "### 함수로 모델 작성"
   ]
  },
  {
   "cell_type": "code",
   "execution_count": 74,
   "metadata": {
    "id": "zE-EHHkK2UMG",
    "pycharm": {
     "name": "#%%\n"
    }
   },
   "outputs": [
    {
     "name": "stdout",
     "output_type": "stream",
     "text": [
      "Model: \"model_7\"\n",
      "_________________________________________________________________\n",
      " Layer (type)                Output Shape              Param #   \n",
      "=================================================================\n",
      " Inputs (InputLayer)         [(None, 28, 28)]          0         \n",
      "                                                                 \n",
      " Flatten (Flatten)           (None, 784)               0         \n",
      "                                                                 \n",
      " dense (Dense)               (None, 100)               78500     \n",
      "                                                                 \n",
      " dense2 (Dense)              (None, 64)                6464      \n",
      "                                                                 \n",
      " dense3 (Dense)              (None, 32)                2080      \n",
      "                                                                 \n",
      " activation_1 (Activation)   (None, 32)                0         \n",
      "                                                                 \n",
      " output (Dense)              (None, 10)                330       \n",
      "                                                                 \n",
      "=================================================================\n",
      "Total params: 87,374\n",
      "Trainable params: 87,374\n",
      "Non-trainable params: 0\n",
      "_________________________________________________________________\n"
     ]
    }
   ],
   "source": [
    "from keras.activations import relu\n",
    "\n",
    "inputs = Input(shape=(28,28), name='Inputs')\n",
    "Flattens = Flatten(input_shape=(28,28), name='Flatten')(inputs)\n",
    "Dense1 = Dense(100, activation='relu', name='dense')(Flattens)\n",
    "Dense2 = Dense(64,activation='relu', name='dense2')\n",
    "Dense2 = Dense2(Dense1)\n",
    "\n",
    "\n",
    "Dense3 = Dense(32, name='dense3')(Dense2)\n",
    "Dense3 = Activation(relu)(Dense3)\n",
    "\n",
    "output = Dense(10, activation='softmax', name='output')(Dense3)\n",
    "\n",
    "model2 = Model(inputs, output)\n",
    "model2.summary()"
   ]
  },
  {
   "cell_type": "code",
   "execution_count": 75,
   "metadata": {
    "id": "KW7h-7mR26Xf",
    "pycharm": {
     "name": "#%%\n"
    }
   },
   "outputs": [
    {
     "data": {
      "image/png": "[encoded data removed]",
      "text/plain": "<IPython.core.display.Image object>"
     },
     "execution_count": 75,
     "metadata": {},
     "output_type": "execute_result"
    }
   ],
   "source": [
    "plot_model(model2, show_layer_activations=True)"
   ]
  },
  {
   "cell_type": "markdown",
   "metadata": {
    "id": "ttXdLuQsQE_k",
    "pycharm": {
     "name": "#%% md\n"
    }
   },
   "source": [
    "### 모델 컴파일"
   ]
  },
  {
   "cell_type": "code",
   "execution_count": 76,
   "metadata": {
    "pycharm": {
     "name": "#%%\n"
    }
   },
   "outputs": [],
   "source": [
    "model.compile(loss='categorical_crossentropy', metrics=['acc'], optimizer='sgd')"
   ]
  },
  {
   "cell_type": "markdown",
   "metadata": {
    "pycharm": {
     "name": "#%% md\n"
    }
   },
   "source": [
    "### 모델 가중치 확인"
   ]
  },
  {
   "cell_type": "code",
   "execution_count": 77,
   "metadata": {
    "id": "EXld9Ehd2UJW",
    "pycharm": {
     "name": "#%%\n"
    }
   },
   "outputs": [
    {
     "data": {
      "text/plain": "<keras.layers.core.dense.Dense at 0x17e8bb1f0>"
     },
     "execution_count": 77,
     "metadata": {},
     "output_type": "execute_result"
    }
   ],
   "source": [
    "two_df,b = model2.layers[4].get_weights()\n",
    "model2.layers[4]"
   ]
  },
  {
   "cell_type": "code",
   "execution_count": 78,
   "metadata": {
    "pycharm": {
     "name": "#%%\n"
    }
   },
   "outputs": [
    {
     "name": "stdout",
     "output_type": "stream",
     "text": [
      "Model: \"sequential_3\"\n",
      "_________________________________________________________________\n",
      " Layer (type)                Output Shape              Param #   \n",
      "=================================================================\n",
      " flatten (Flatten)           (None, 784)               0         \n",
      "                                                                 \n",
      " dense (Dense)               (None, 100)               78500     \n",
      "                                                                 \n",
      " dense2 (Dense)              (None, 64)                6464      \n",
      "                                                                 \n",
      " dense3 (Dense)              (None, 32)                2080      \n",
      "                                                                 \n",
      " output (Dense)              (None, 10)                330       \n",
      "                                                                 \n",
      "=================================================================\n",
      "Total params: 87,374\n",
      "Trainable params: 87,374\n",
      "Non-trainable params: 0\n",
      "_________________________________________________________________\n"
     ]
    }
   ],
   "source": [
    "model_test2 = Sequential([\n",
    "    Dense(1, input_dim=1,activation='linear', name='output')\n",
    "])\n",
    "model.summary()"
   ]
  },
  {
   "cell_type": "code",
   "execution_count": 79,
   "metadata": {
    "pycharm": {
     "name": "#%%\n"
    }
   },
   "outputs": [
    {
     "data": {
      "image/png": "[encoded data removed]",
      "text/plain": "<IPython.core.display.Image object>"
     },
     "execution_count": 79,
     "metadata": {},
     "output_type": "execute_result"
    }
   ],
   "source": [
    "plot_model(model, show_layer_activations=True)"
   ]
  },
  {
   "cell_type": "code",
   "execution_count": 80,
   "metadata": {
    "pycharm": {
     "name": "#%%\n"
    }
   },
   "outputs": [],
   "source": [
    "w = model.get_weights()"
   ]
  },
  {
   "cell_type": "code",
   "execution_count": 81,
   "metadata": {
    "pycharm": {
     "name": "#%%\n"
    }
   },
   "outputs": [
    {
     "data": {
      "text/plain": "array([-0.0448291 , -0.07045228, -0.03970141, -0.03801474,  0.08172037,\n       -0.04621474, -0.05082167,  0.04305938,  0.06452572, -0.0459083 ,\n       -0.05051406,  0.0325845 ,  0.01277189,  0.02151617,  0.0076413 ,\n        0.04469706,  0.01832774, -0.08143746,  0.01748087, -0.05049402,\n        0.04002975,  0.07911374, -0.06057718,  0.01761838, -0.02452137,\n        0.06224316, -0.06206156, -0.03668119,  0.00287227, -0.07571957,\n        0.07946321,  0.02304797,  0.01772873,  0.00352664,  0.06784143,\n       -0.07201482,  0.01719761, -0.01341492, -0.06126389, -0.0624708 ,\n       -0.03402355, -0.00407051, -0.06300061,  0.07449725,  0.02003877,\n       -0.05347624,  0.00195805,  0.05556992, -0.04853503,  0.0758967 ,\n       -0.00594617, -0.05217084,  0.01286095,  0.07176656,  0.06485729,\n       -0.0590271 ,  0.0037073 ,  0.06514136,  0.00899315,  0.01567891,\n        0.07888015, -0.06713588, -0.00770934, -0.07847421, -0.07836584,\n       -0.04164962, -0.00664043,  0.02034554, -0.00744472, -0.07900468,\n       -0.00737616, -0.02175497,  0.01437569, -0.05410641, -0.07497342,\n       -0.02566266, -0.06085598, -0.00893161,  0.03238286, -0.02161272,\n       -0.00596843, -0.00289685, -0.07398292, -0.05005086, -0.01958065,\n        0.07348269,  0.06064647,  0.03499625,  0.00095604,  0.06118616,\n        0.00239921, -0.00512103,  0.02881768,  0.03692912, -0.07882584,\n        0.00607065, -0.00379165, -0.03914279,  0.03444778,  0.07152651],\n      dtype=float32)"
     },
     "execution_count": 81,
     "metadata": {},
     "output_type": "execute_result"
    }
   ],
   "source": [
    "w[0][0]"
   ]
  },
  {
   "cell_type": "markdown",
   "metadata": {
    "pycharm": {
     "name": "#%% md\n"
    }
   },
   "source": [
    "### 모델 학습\n",
    "- 모델 시각화를 위해 history라는 변수에 학습 과정을 담음"
   ]
  },
  {
   "cell_type": "code",
   "execution_count": 82,
   "metadata": {
    "pycharm": {
     "name": "#%%\n"
    }
   },
   "outputs": [
    {
     "name": "stdout",
     "output_type": "stream",
     "text": [
      "Epoch 1/50\n"
     ]
    },
    {
     "name": "stderr",
     "output_type": "stream",
     "text": [
      "2022-08-11 23:15:36.684935: W tensorflow/core/platform/profile_utils/cpu_utils.cc:128] Failed to get CPU frequency: 0 Hz\n",
      "2022-08-11 23:15:36.813883: I tensorflow/core/grappler/optimizers/custom_graph_optimizer_registry.cc:113] Plugin optimizer for device_type GPU is enabled.\n"
     ]
    },
    {
     "name": "stdout",
     "output_type": "stream",
     "text": [
      "328/329 [============================>.] - ETA: 0s - loss: 1.6825 - acc: 0.5095"
     ]
    },
    {
     "name": "stderr",
     "output_type": "stream",
     "text": [
      "2022-08-11 23:15:39.849777: I tensorflow/core/grappler/optimizers/custom_graph_optimizer_registry.cc:113] Plugin optimizer for device_type GPU is enabled.\n"
     ]
    },
    {
     "name": "stdout",
     "output_type": "stream",
     "text": [
      "329/329 [==============================] - 4s 12ms/step - loss: 1.6822 - acc: 0.5096 - val_loss: 0.9621 - val_acc: 0.7749\n",
      "Epoch 2/50\n",
      "329/329 [==============================] - 4s 13ms/step - loss: 0.6800 - acc: 0.8292 - val_loss: 0.5311 - val_acc: 0.8517\n",
      "Epoch 3/50\n",
      "329/329 [==============================] - 4s 11ms/step - loss: 0.4660 - acc: 0.8714 - val_loss: 0.4191 - val_acc: 0.8793\n",
      "Epoch 4/50\n",
      "329/329 [==============================] - 4s 11ms/step - loss: 0.3920 - acc: 0.8898 - val_loss: 0.3732 - val_acc: 0.8909\n",
      "Epoch 5/50\n",
      "329/329 [==============================] - 3s 10ms/step - loss: 0.3499 - acc: 0.9003 - val_loss: 0.3319 - val_acc: 0.9044\n",
      "Epoch 6/50\n",
      "329/329 [==============================] - 3s 10ms/step - loss: 0.3205 - acc: 0.9089 - val_loss: 0.3188 - val_acc: 0.9062\n",
      "Epoch 7/50\n",
      "329/329 [==============================] - 3s 10ms/step - loss: 0.2977 - acc: 0.9150 - val_loss: 0.3170 - val_acc: 0.9062\n",
      "Epoch 8/50\n",
      "329/329 [==============================] - 3s 10ms/step - loss: 0.2790 - acc: 0.9195 - val_loss: 0.2721 - val_acc: 0.9226\n",
      "Epoch 9/50\n",
      "329/329 [==============================] - 3s 10ms/step - loss: 0.2631 - acc: 0.9249 - val_loss: 0.2678 - val_acc: 0.9223\n",
      "Epoch 10/50\n",
      "329/329 [==============================] - 3s 10ms/step - loss: 0.2495 - acc: 0.9289 - val_loss: 0.2511 - val_acc: 0.9281\n",
      "Epoch 11/50\n",
      "329/329 [==============================] - 3s 10ms/step - loss: 0.2374 - acc: 0.9321 - val_loss: 0.2383 - val_acc: 0.9323\n",
      "Epoch 12/50\n",
      "329/329 [==============================] - 3s 10ms/step - loss: 0.2269 - acc: 0.9354 - val_loss: 0.2499 - val_acc: 0.9257\n",
      "Epoch 13/50\n",
      "329/329 [==============================] - 3s 10ms/step - loss: 0.2171 - acc: 0.9376 - val_loss: 0.2210 - val_acc: 0.9367\n",
      "Epoch 14/50\n",
      "329/329 [==============================] - 3s 10ms/step - loss: 0.2082 - acc: 0.9416 - val_loss: 0.2156 - val_acc: 0.9377\n",
      "Epoch 15/50\n",
      "329/329 [==============================] - 3s 10ms/step - loss: 0.1996 - acc: 0.9429 - val_loss: 0.2146 - val_acc: 0.9371\n",
      "Epoch 16/50\n",
      "329/329 [==============================] - 3s 10ms/step - loss: 0.1921 - acc: 0.9459 - val_loss: 0.2097 - val_acc: 0.9397\n",
      "Epoch 17/50\n",
      "329/329 [==============================] - 3s 10ms/step - loss: 0.1848 - acc: 0.9470 - val_loss: 0.1979 - val_acc: 0.9426\n",
      "Epoch 18/50\n",
      "329/329 [==============================] - 3s 10ms/step - loss: 0.1778 - acc: 0.9494 - val_loss: 0.2051 - val_acc: 0.9397\n",
      "Epoch 19/50\n",
      "329/329 [==============================] - 3s 10ms/step - loss: 0.1721 - acc: 0.9515 - val_loss: 0.1869 - val_acc: 0.9452\n",
      "Epoch 20/50\n",
      "329/329 [==============================] - 3s 10ms/step - loss: 0.1660 - acc: 0.9527 - val_loss: 0.2264 - val_acc: 0.9321\n",
      "Epoch 21/50\n",
      "329/329 [==============================] - 3s 10ms/step - loss: 0.1609 - acc: 0.9551 - val_loss: 0.1756 - val_acc: 0.9479\n",
      "Epoch 22/50\n",
      "329/329 [==============================] - 3s 10ms/step - loss: 0.1553 - acc: 0.9561 - val_loss: 0.1823 - val_acc: 0.9458\n",
      "Epoch 23/50\n",
      "329/329 [==============================] - 3s 10ms/step - loss: 0.1505 - acc: 0.9569 - val_loss: 0.1662 - val_acc: 0.9517\n",
      "Epoch 24/50\n",
      "329/329 [==============================] - 3s 10ms/step - loss: 0.1455 - acc: 0.9585 - val_loss: 0.1682 - val_acc: 0.9496\n",
      "Epoch 25/50\n",
      "329/329 [==============================] - 3s 10ms/step - loss: 0.1414 - acc: 0.9602 - val_loss: 0.1679 - val_acc: 0.9504\n",
      "Epoch 26/50\n",
      "329/329 [==============================] - 3s 10ms/step - loss: 0.1369 - acc: 0.9613 - val_loss: 0.1572 - val_acc: 0.9534\n",
      "Epoch 27/50\n",
      "329/329 [==============================] - 3s 10ms/step - loss: 0.1327 - acc: 0.9626 - val_loss: 0.1524 - val_acc: 0.9556\n",
      "Epoch 28/50\n",
      "329/329 [==============================] - 3s 10ms/step - loss: 0.1292 - acc: 0.9635 - val_loss: 0.1532 - val_acc: 0.9546\n",
      "Epoch 29/50\n",
      "329/329 [==============================] - 3s 10ms/step - loss: 0.1255 - acc: 0.9644 - val_loss: 0.1474 - val_acc: 0.9564\n",
      "Epoch 30/50\n",
      "329/329 [==============================] - 3s 10ms/step - loss: 0.1222 - acc: 0.9656 - val_loss: 0.1455 - val_acc: 0.9567\n",
      "Epoch 31/50\n",
      "329/329 [==============================] - 3s 10ms/step - loss: 0.1187 - acc: 0.9663 - val_loss: 0.1430 - val_acc: 0.9574\n",
      "Epoch 32/50\n",
      "329/329 [==============================] - 3s 10ms/step - loss: 0.1159 - acc: 0.9676 - val_loss: 0.1436 - val_acc: 0.9566\n",
      "Epoch 33/50\n",
      "329/329 [==============================] - 3s 10ms/step - loss: 0.1127 - acc: 0.9682 - val_loss: 0.1403 - val_acc: 0.9582\n",
      "Epoch 34/50\n",
      "329/329 [==============================] - 3s 10ms/step - loss: 0.1095 - acc: 0.9687 - val_loss: 0.1414 - val_acc: 0.9568\n",
      "Epoch 35/50\n",
      "329/329 [==============================] - 3s 10ms/step - loss: 0.1067 - acc: 0.9698 - val_loss: 0.1378 - val_acc: 0.9580\n",
      "Epoch 36/50\n",
      "329/329 [==============================] - 3s 10ms/step - loss: 0.1042 - acc: 0.9703 - val_loss: 0.1363 - val_acc: 0.9581\n",
      "Epoch 37/50\n",
      "329/329 [==============================] - 3s 10ms/step - loss: 0.1015 - acc: 0.9711 - val_loss: 0.1309 - val_acc: 0.9597\n",
      "Epoch 38/50\n",
      "329/329 [==============================] - 3s 10ms/step - loss: 0.0993 - acc: 0.9718 - val_loss: 0.1278 - val_acc: 0.9617\n",
      "Epoch 39/50\n",
      "329/329 [==============================] - 3s 10ms/step - loss: 0.0967 - acc: 0.9723 - val_loss: 0.1314 - val_acc: 0.9600\n",
      "Epoch 40/50\n",
      "329/329 [==============================] - 3s 10ms/step - loss: 0.0947 - acc: 0.9727 - val_loss: 0.1293 - val_acc: 0.9614\n",
      "Epoch 41/50\n",
      "329/329 [==============================] - 3s 10ms/step - loss: 0.0925 - acc: 0.9734 - val_loss: 0.1247 - val_acc: 0.9625\n",
      "Epoch 42/50\n",
      "329/329 [==============================] - 3s 10ms/step - loss: 0.0902 - acc: 0.9742 - val_loss: 0.1433 - val_acc: 0.9559\n",
      "Epoch 43/50\n",
      "329/329 [==============================] - 4s 11ms/step - loss: 0.0879 - acc: 0.9748 - val_loss: 0.1220 - val_acc: 0.9628\n",
      "Epoch 44/50\n",
      "329/329 [==============================] - 3s 10ms/step - loss: 0.0859 - acc: 0.9755 - val_loss: 0.1200 - val_acc: 0.9638\n",
      "Epoch 45/50\n",
      "329/329 [==============================] - 3s 10ms/step - loss: 0.0841 - acc: 0.9759 - val_loss: 0.1180 - val_acc: 0.9638\n",
      "Epoch 46/50\n",
      "329/329 [==============================] - 3s 10ms/step - loss: 0.0818 - acc: 0.9769 - val_loss: 0.1189 - val_acc: 0.9643\n",
      "Epoch 47/50\n",
      "329/329 [==============================] - 3s 10ms/step - loss: 0.0804 - acc: 0.9769 - val_loss: 0.1201 - val_acc: 0.9629\n",
      "Epoch 48/50\n",
      "329/329 [==============================] - 3s 10ms/step - loss: 0.0784 - acc: 0.9770 - val_loss: 0.1171 - val_acc: 0.9639\n",
      "Epoch 49/50\n",
      "329/329 [==============================] - 3s 10ms/step - loss: 0.0767 - acc: 0.9783 - val_loss: 0.1163 - val_acc: 0.9646\n",
      "Epoch 50/50\n",
      "329/329 [==============================] - 3s 10ms/step - loss: 0.0749 - acc: 0.9785 - val_loss: 0.1203 - val_acc: 0.9634\n"
     ]
    }
   ],
   "source": [
    "history = model.fit(x_train, y_train, epochs=50, batch_size=128, validation_data=(x_val, y_val))"
   ]
  },
  {
   "cell_type": "markdown",
   "metadata": {
    "id": "0XaPJX7sRVzi",
    "pycharm": {
     "name": "#%% md\n"
    }
   },
   "source": [
    "### 학습 결과 시각화"
   ]
  },
  {
   "cell_type": "code",
   "execution_count": 83,
   "metadata": {
    "pycharm": {
     "name": "#%%\n"
    }
   },
   "outputs": [
    {
     "data": {
      "text/plain": "array([ 1,  2,  3,  4,  5,  6,  7,  8,  9, 10, 11, 12, 13, 14, 15, 16, 17,\n       18, 19, 20, 21, 22, 23, 24, 25, 26, 27, 28, 29, 30, 31, 32, 33, 34,\n       35, 36, 37, 38, 39, 40, 41, 42, 43, 44, 45, 46, 47, 48, 49, 50])"
     },
     "execution_count": 83,
     "metadata": {},
     "output_type": "execute_result"
    }
   ],
   "source": [
    "epochs = np.arange(1, 51)\n",
    "epochs"
   ]
  },
  {
   "cell_type": "code",
   "execution_count": 84,
   "metadata": {
    "id": "vAnCqu9ARVTw",
    "pycharm": {
     "name": "#%%\n"
    }
   },
   "outputs": [
    {
     "data": {
      "text/plain": "dict_keys(['loss', 'acc', 'val_loss', 'val_acc'])"
     },
     "execution_count": 84,
     "metadata": {},
     "output_type": "execute_result"
    }
   ],
   "source": [
    "history.history.keys()"
   ]
  },
  {
   "cell_type": "code",
   "execution_count": 85,
   "metadata": {
    "id": "MHfJkN2lRVOc",
    "pycharm": {
     "name": "#%%\n"
    }
   },
   "outputs": [
    {
     "data": {
      "text/plain": "<Figure size 864x432 with 2 Axes>",
      "image/png": "[encoded data removed]"
     },
     "metadata": {},
     "output_type": "display_data"
    }
   ],
   "source": [
    "history_dict = history.history\n",
    "\n",
    "loss = history_dict['loss']\n",
    "val_loss =history_dict['val_loss']\n",
    "epochs = np.arange(1, 51)\n",
    "plt.figure(figsize=(12,6))\n",
    "\n",
    "plt.subplot(1,2,1)\n",
    "plt.plot( epochs,loss, color='blue', label='train_loss')\n",
    "plt.plot( epochs,val_loss, color='red', label='val_loss')\n",
    "plt.title('Train and Validation loss')\n",
    "plt.xlabel('Epochs')\n",
    "plt.ylabel('loss')\n",
    "plt.grid()\n",
    "\n",
    "acc = history_dict['acc']\n",
    "val_acc = history_dict['val_acc']\n",
    "\n",
    "plt.subplot(1,2,2)\n",
    "plt.plot(epochs, acc, color='blue', label='acc')\n",
    "plt.plot(epochs, val_acc, color='red', label='val_acc')\n",
    "plt.title('Train and Validation acc')\n",
    "plt.xlabel('Epochs')\n",
    "plt.ylabel('acc')\n",
    "plt.grid()\n",
    "plt.show()"
   ]
  },
  {
   "cell_type": "markdown",
   "metadata": {
    "id": "Gwl7tQLcTZnW",
    "pycharm": {
     "name": "#%% md\n"
    }
   },
   "source": [
    "### 모델 평가 (1)\n",
    "- evaluate"
   ]
  },
  {
   "cell_type": "code",
   "execution_count": 86,
   "metadata": {
    "pycharm": {
     "name": "#%%\n"
    }
   },
   "outputs": [
    {
     "name": "stdout",
     "output_type": "stream",
     "text": [
      "313/313 [==============================] - 2s 7ms/step - loss: 0.1220 - acc: 0.9644\n"
     ]
    },
    {
     "data": {
      "text/plain": "[0.1220058873295784, 0.964400053024292]"
     },
     "execution_count": 86,
     "metadata": {},
     "output_type": "execute_result"
    }
   ],
   "source": [
    "model.evaluate(x_test, y_test)"
   ]
  },
  {
   "cell_type": "markdown",
   "metadata": {
    "id": "ZIV4MhWSTtqH",
    "pycharm": {
     "name": "#%% md\n"
    }
   },
   "source": [
    "### 학습된 모델을 통해 값 예측"
   ]
  },
  {
   "cell_type": "code",
   "execution_count": 87,
   "metadata": {
    "id": "te5Wt3jFTY8g",
    "pycharm": {
     "name": "#%%\n"
    }
   },
   "outputs": [
    {
     "name": "stdout",
     "output_type": "stream",
     "text": [
      " 74/313 [======>.......................] - ETA: 0s"
     ]
    },
    {
     "name": "stderr",
     "output_type": "stream",
     "text": [
      "2022-08-11 23:18:30.247196: I tensorflow/core/grappler/optimizers/custom_graph_optimizer_registry.cc:113] Plugin optimizer for device_type GPU is enabled.\n"
     ]
    },
    {
     "name": "stdout",
     "output_type": "stream",
     "text": [
      "313/313 [==============================] - 1s 2ms/step\n",
      "(10000, 10)\n",
      "[7.3e-08 5.7e-08 1.3e-06 4.0e-05 2.3e-09 3.2e-07 2.5e-11 1.0e+00 9.8e-08\n",
      " 9.6e-07]\n"
     ]
    }
   ],
   "source": [
    "pred_ys = model.predict(x_test)\n",
    "print(pred_ys.shape)\n",
    "\n",
    "np.set_printoptions(precision=1)\n",
    "print(pred_ys[0])"
   ]
  },
  {
   "cell_type": "code",
   "execution_count": 88,
   "metadata": {
    "id": "uJHPRGpMTnnM",
    "pycharm": {
     "name": "#%%\n"
    }
   },
   "outputs": [
    {
     "data": {
      "text/plain": "<Figure size 432x288 with 1 Axes>",
      "image/png": "[encoded data removed]"
     },
     "metadata": {},
     "output_type": "display_data"
    }
   ],
   "source": [
    "arg_pred_y= np.argmax(pred_ys, axis=1)\n",
    "\n",
    "plt.imshow(x_test[0])\n",
    "plt.title(\"label : {}\".format(arg_pred_y[0]))\n",
    "plt.show()"
   ]
  },
  {
   "cell_type": "markdown",
   "metadata": {
    "id": "G6ypcp0iVyjj",
    "pycharm": {
     "name": "#%% md\n"
    }
   },
   "source": [
    "### 모델 평가 (2)\n",
    "- 혼동행렬 (Confusion Maxtrix)"
   ]
  },
  {
   "cell_type": "code",
   "execution_count": 89,
   "metadata": {
    "id": "8fN2G31JTnrY",
    "pycharm": {
     "name": "#%%\n"
    }
   },
   "outputs": [],
   "source": [
    "from sklearn.metrics import classification_report, confusion_matrix\n",
    "\n",
    "import seaborn as sns\n",
    "sns.set(style='white')"
   ]
  },
  {
   "cell_type": "code",
   "execution_count": 90,
   "metadata": {
    "pycharm": {
     "name": "#%%\n"
    }
   },
   "outputs": [
    {
     "data": {
      "text/plain": "array([10, 26])"
     },
     "execution_count": 90,
     "metadata": {},
     "output_type": "execute_result"
    }
   ],
   "source": [
    "np.argmax(y_test, axis=-1)\n",
    "\n",
    "p=np.array([[1,2,3,4],[5,6,7,8]])\n",
    "c=p.reshape(2,-1)\n",
    "c.sum(axis=-1)\n",
    "#p.shape\n",
    "#y_test"
   ]
  },
  {
   "cell_type": "code",
   "execution_count": 91,
   "metadata": {
    "pycharm": {
     "name": "#%%\n"
    }
   },
   "outputs": [
    {
     "data": {
      "text/plain": "array([[1, 2, 3, 4],\n       [5, 6, 7, 8]])"
     },
     "execution_count": 91,
     "metadata": {},
     "output_type": "execute_result"
    }
   ],
   "source": [
    "c"
   ]
  },
  {
   "cell_type": "code",
   "execution_count": 92,
   "metadata": {
    "id": "IPX11GMeTnt-",
    "pycharm": {
     "name": "#%%\n"
    }
   },
   "outputs": [
    {
     "data": {
      "text/plain": "<Figure size 720x720 with 2 Axes>",
      "image/png": "[encoded data removed]"
     },
     "metadata": {},
     "output_type": "display_data"
    }
   ],
   "source": [
    "plt.figure(figsize=(10,10))\n",
    "\n",
    "cm = confusion_matrix(np.argmax(y_test, axis=1), np.argmax(pred_ys, axis=-1))\n",
    "sns.heatmap(cm, annot=True, fmt='d', cmap='Blues')\n",
    "plt.xlabel('Predi ct Label')\n",
    "plt.ylabel('True Label')\n",
    "plt.show()"
   ]
  },
  {
   "cell_type": "markdown",
   "metadata": {
    "id": "BMo2g1TZWctY",
    "pycharm": {
     "name": "#%% md\n"
    }
   },
   "source": [
    "### 모델 평가 (3)\n",
    "- 분류 보고서"
   ]
  },
  {
   "cell_type": "code",
   "execution_count": 93,
   "metadata": {
    "id": "J1n_j_h4TnjP",
    "pycharm": {
     "name": "#%%\n"
    }
   },
   "outputs": [
    {
     "name": "stdout",
     "output_type": "stream",
     "text": [
      "              precision    recall  f1-score   support\n",
      "\n",
      "           0       0.97      0.99      0.98       980\n",
      "           1       0.98      0.99      0.99      1135\n",
      "           2       0.97      0.95      0.96      1032\n",
      "           3       0.93      0.98      0.95      1010\n",
      "           4       0.96      0.97      0.97       982\n",
      "           5       0.99      0.92      0.95       892\n",
      "           6       0.96      0.97      0.97       958\n",
      "           7       0.95      0.98      0.97      1028\n",
      "           8       0.96      0.94      0.95       974\n",
      "           9       0.98      0.94      0.96      1009\n",
      "\n",
      "    accuracy                           0.96     10000\n",
      "   macro avg       0.96      0.96      0.96     10000\n",
      "weighted avg       0.96      0.96      0.96     10000\n",
      "\n"
     ]
    }
   ],
   "source": [
    "print(classification_report(np.argmax(y_test, axis=1), np.argmax(pred_ys, axis=1)))"
   ]
  },
  {
   "cell_type": "markdown",
   "metadata": {
    "id": "6VWo95AB0W2v",
    "pycharm": {
     "name": "#%% md\n"
    }
   },
   "source": [
    "## 모델 저장과 복원\n",
    "- `save()`\n",
    "\n",
    "- `load_model()`\n",
    "\n",
    "- (주의)  \n",
    "  시퀀셜 API, 함수형 API에서는 **모델**의 저장 및 로드기 가능하지만 서브클래싱 방식으로는 할 수 없음  \n",
    "  \n",
    "  서브클래싱 방식\n",
    "      save_weights()\n",
    "      load_weights()  \n",
    "  위 두가지를 통해 **모델의 파라미터**만 저장 및 로드\n",
    "\n",
    "\n",
    "- JSON 형식\n",
    "  - `model.to_json()` (저장)\n",
    "\n",
    "  - `tf.keras.models.model_from_json(file_path)` (복원)\n",
    "\n",
    "- YAML로 직렬화\n",
    "  - `model.to_yaml()` (저장)\n",
    "\n",
    "  - `tf.keras.models.model_from_yaml(file_path)` (복원)\n"
   ]
  },
  {
   "cell_type": "code",
   "execution_count": 94,
   "metadata": {
    "id": "qI-OJUAvtkZs",
    "pycharm": {
     "name": "#%%\n"
    }
   },
   "outputs": [],
   "source": [
    "from keras.models import load_model\n",
    "model.save('mnist_model.h5')"
   ]
  },
  {
   "cell_type": "code",
   "execution_count": 95,
   "metadata": {
    "pycharm": {
     "name": "#%%\n"
    }
   },
   "outputs": [],
   "source": [
    "model_json = model.to_json()\n",
    "with open(\"model.json\", \"w\") as json_file :\n",
    "    json_file.write(model_json)"
   ]
  },
  {
   "cell_type": "code",
   "execution_count": 96,
   "metadata": {
    "id": "CKkUgRlEX9yN",
    "pycharm": {
     "name": "#%%\n"
    }
   },
   "outputs": [
    {
     "name": "stdout",
     "output_type": "stream",
     "text": [
      "Model: \"sequential_3\"\n",
      "_________________________________________________________________\n",
      " Layer (type)                Output Shape              Param #   \n",
      "=================================================================\n",
      " flatten (Flatten)           (None, 784)               0         \n",
      "                                                                 \n",
      " dense (Dense)               (None, 100)               78500     \n",
      "                                                                 \n",
      " dense2 (Dense)              (None, 64)                6464      \n",
      "                                                                 \n",
      " dense3 (Dense)              (None, 32)                2080      \n",
      "                                                                 \n",
      " output (Dense)              (None, 10)                330       \n",
      "                                                                 \n",
      "=================================================================\n",
      "Total params: 87,374\n",
      "Trainable params: 87,374\n",
      "Non-trainable params: 0\n",
      "_________________________________________________________________\n"
     ]
    }
   ],
   "source": [
    "load_model = load_model('mnist_model.h5')\n",
    "load_model.summary()"
   ]
  },
  {
   "cell_type": "code",
   "execution_count": 97,
   "metadata": {
    "id": "xcSNxvvLYMJO",
    "pycharm": {
     "name": "#%%\n"
    }
   },
   "outputs": [
    {
     "name": "stdout",
     "output_type": "stream",
     "text": [
      "313/313 [==============================] - 1s 2ms/step\n",
      "(10000, 10)\n",
      "[7.3e-08 5.7e-08 1.3e-06 4.0e-05 2.3e-09 3.2e-07 2.5e-11 1.0e+00 9.8e-08\n",
      " 9.6e-07]\n"
     ]
    }
   ],
   "source": [
    "pred_ys = model.predict(x_test)\n",
    "print(pred_ys.shape)\n",
    "\n",
    "np.set_printoptions(precision=1)\n",
    "print(pred_ys[0])\n",
    "\n",
    "\n"
   ]
  },
  {
   "cell_type": "code",
   "execution_count": 98,
   "metadata": {
    "id": "qUAZUdOpZOqp",
    "pycharm": {
     "name": "#%%\n"
    }
   },
   "outputs": [
    {
     "data": {
      "text/plain": "<Figure size 432x288 with 1 Axes>",
      "image/png": "[encoded data removed]"
     },
     "metadata": {},
     "output_type": "display_data"
    }
   ],
   "source": [
    "arg_pred_y = np.argmax(pred_ys, axis=1)\n",
    "plt.imshow(x_test[0])\n",
    "plt.title(\"label : {}\".format(arg_pred_y[0]))\n",
    "plt.show()"
   ]
  },
  {
   "cell_type": "markdown",
   "metadata": {
    "id": "vwprko04qWeg",
    "pycharm": {
     "name": "#%% md\n"
    }
   },
   "source": [
    "## 콜백 (Callbacks)\n",
    "\n",
    "- `fit()` 함수의 callbacks 매개변수를 사용하여 케라스가 훈련의 시작이나 끝에 호출할 객체 리스트를 지정할 수 있음\n",
    "\n",
    "- 여러 개 사용 가능\n",
    "\n",
    "- ModelCheckpoint\n",
    "  - `tf.keras.callbacks.ModelCheckpoint`\n",
    "  - 정기적으로 모델의 체크포인트를 저장하고, 문제가 발생할 때 복구하는데 사용\n",
    "\n",
    "- EarlyStopping\n",
    "  - `tf.keras.callbacks.EarlyStopping`\n",
    "  - 검증 성능이 한동안 개선되지 않을 경우 학습을 중단할 때 사용\n",
    "\n",
    "- LearningRateSchduler\n",
    "  - `tf.keras.callbacks.LearningRateSchduler`\n",
    "  - 최적화를 하는 동안 학습률(learning_rate)를 동적으로 변경할 때 사용\n",
    "\n",
    "- TensorBoard\n",
    "  - `tf.keras.callbacks.TensorBoard`\n",
    "  - 모델의 경과를 모니터링할 때 사용\n"
   ]
  },
  {
   "cell_type": "code",
   "execution_count": 99,
   "metadata": {
    "id": "0_oKQ3gw4Gtp",
    "pycharm": {
     "name": "#%%\n"
    }
   },
   "outputs": [],
   "source": [
    "from keras.callbacks import EarlyStopping, ModelCheckpoint, LearningRateScheduler, TensorBoard\n"
   ]
  },
  {
   "cell_type": "code",
   "execution_count": 100,
   "metadata": {
    "id": "ENnkJ6Qq2JQm",
    "pycharm": {
     "name": "#%%\n"
    }
   },
   "outputs": [
    {
     "name": "stdout",
     "output_type": "stream",
     "text": [
      "학습 데이터 : (60000, 28, 28) \t 레이블 : (60000,)\n",
      "학습 데이터 : (42000, 28, 28) \t 레이블 : (42000,)\n",
      "검증 데이터 : (18000, 28, 28) \t 레이블 : (18000,)\n",
      "테스트 데이터 : (10000, 28, 28) \t 레이블 : (10000,)\n",
      "Model: \"model_8\"\n",
      "_________________________________________________________________\n",
      " Layer (type)                Output Shape              Param #   \n",
      "=================================================================\n",
      " input_8 (InputLayer)        [(None, 28, 28, 1)]       0         \n",
      "                                                                 \n",
      " flatten_4 (Flatten)         (None, 784)               0         \n",
      "                                                                 \n",
      " dense_21 (Dense)            (None, 100)               78500     \n",
      "                                                                 \n",
      " dense_22 (Dense)            (None, 64)                6464      \n",
      "                                                                 \n",
      " dense_23 (Dense)            (None, 32)                2080      \n",
      "                                                                 \n",
      " dense_24 (Dense)            (None, 10)                330       \n",
      "                                                                 \n",
      "=================================================================\n",
      "Total params: 87,374\n",
      "Trainable params: 87,374\n",
      "Non-trainable params: 0\n",
      "_________________________________________________________________\n"
     ]
    }
   ],
   "source": [
    "tf.random.set_seed(111)\n",
    "(x_train_full, y_train_full), (x_test, y_test) = load_data(path='mist.npz')\n",
    "\n",
    "x_train, x_val, y_train, y_val = train_test_split(x_train_full, y_train_full, test_size=0.3, random_state=111)\n",
    "\n",
    "### 데이터 확인\n",
    "num_x_train = (x_train.shape[0])\n",
    "num_x_val = x_val.shape[0]\n",
    "num_x_test = x_test.shape[0]\n",
    "print(f\"학습 데이터 : {x_train_full.shape} \\t 레이블 : {y_train_full.shape}\")\n",
    "print(f\"학습 데이터 : {x_train.shape} \\t 레이블 : {y_train.shape}\")\n",
    "print(f\"검증 데이터 : {x_val.shape} \\t 레이블 : {y_val.shape}\")\n",
    "print(f\"테스트 데이터 : {x_test.shape} \\t 레이블 : {y_test.shape}\")\n",
    "\n",
    "x_train = x_train / 255.0\n",
    "x_val = x_val / 255.0\n",
    "x_test = x_test / 255.0\n",
    "y_train = to_categorical(y_train)\n",
    "y_val = to_categorical(y_val)\n",
    "y_test = to_categorical(y_test)\n",
    "\n",
    "def build_mode():\n",
    "    inputs =Input(shape=(28,28,1))\n",
    "    x =Flatten(input_shape=(28,28,1))\n",
    "    x = x(inputs)\n",
    "    x = Dense(100, activation='relu')(x)\n",
    "    x = Dense(64, activation='relu')(x)\n",
    "    x = Dense(32, activation='relu')(x)\n",
    "    x = Dense(10, activation='softmax')(x)\n",
    "    model = Model(inputs, x)\n",
    "\n",
    "    model.compile(loss='categorical_crossentropy',\n",
    "                  optimizer='sgd', metrics=['acc'])\n",
    "    return model\n",
    "\n",
    "model = build_mode()\n",
    "model.summary()\n"
   ]
  },
  {
   "cell_type": "markdown",
   "metadata": {
    "pycharm": {
     "name": "#%% md\n"
    }
   },
   "source": []
  },
  {
   "cell_type": "markdown",
   "metadata": {
    "id": "xNBMnd5IgE8H",
    "pycharm": {
     "name": "#%% md\n"
    }
   },
   "source": [
    "### ModelCheckpoint"
   ]
  },
  {
   "cell_type": "code",
   "execution_count": 101,
   "metadata": {
    "id": "tVOIVgBnqdIg",
    "pycharm": {
     "name": "#%%\n"
    }
   },
   "outputs": [
    {
     "name": "stdout",
     "output_type": "stream",
     "text": [
      "Epoch 1/5\n",
      "  14/1313 [..............................] - ETA: 10s - loss: 2.3206 - acc: 0.1161"
     ]
    },
    {
     "name": "stderr",
     "output_type": "stream",
     "text": [
      "2022-08-11 23:18:32.372549: I tensorflow/core/grappler/optimizers/custom_graph_optimizer_registry.cc:113] Plugin optimizer for device_type GPU is enabled.\n"
     ]
    },
    {
     "name": "stdout",
     "output_type": "stream",
     "text": [
      "1313/1313 [==============================] - 10s 8ms/step - loss: 0.8207 - acc: 0.7716\n",
      "Epoch 2/5\n",
      "1313/1313 [==============================] - 11s 8ms/step - loss: 0.3234 - acc: 0.9076\n",
      "Epoch 3/5\n",
      "1313/1313 [==============================] - 11s 8ms/step - loss: 0.2570 - acc: 0.9257\n",
      "Epoch 4/5\n",
      "1313/1313 [==============================] - 10s 8ms/step - loss: 0.2163 - acc: 0.9372\n",
      "Epoch 5/5\n",
      "1313/1313 [==============================] - 10s 8ms/step - loss: 0.1878 - acc: 0.9463\n"
     ]
    }
   ],
   "source": [
    "check_point_cb = ModelCheckpoint('keras_mnist_model.h5')\n",
    "history = model.fit(x_train, y_train, epochs=5, callbacks=check_point_cb)"
   ]
  },
  {
   "cell_type": "code",
   "execution_count": 102,
   "metadata": {
    "id": "HAHm-GqSqdE7",
    "pycharm": {
     "name": "#%%\n"
    }
   },
   "outputs": [],
   "source": [
    "from keras.models import load_model\n",
    "\n",
    "model =load_model('keras_mnist_model.h5')"
   ]
  },
  {
   "cell_type": "code",
   "execution_count": 103,
   "metadata": {
    "id": "h4Z8KGWSqdBb",
    "pycharm": {
     "name": "#%%\n"
    }
   },
   "outputs": [
    {
     "name": "stdout",
     "output_type": "stream",
     "text": [
      "Model: \"model_8\"\n",
      "_________________________________________________________________\n",
      " Layer (type)                Output Shape              Param #   \n",
      "=================================================================\n",
      " input_8 (InputLayer)        [(None, 28, 28, 1)]       0         \n",
      "                                                                 \n",
      " flatten_4 (Flatten)         (None, 784)               0         \n",
      "                                                                 \n",
      " dense_21 (Dense)            (None, 100)               78500     \n",
      "                                                                 \n",
      " dense_22 (Dense)            (None, 64)                6464      \n",
      "                                                                 \n",
      " dense_23 (Dense)            (None, 32)                2080      \n",
      "                                                                 \n",
      " dense_24 (Dense)            (None, 10)                330       \n",
      "                                                                 \n",
      "=================================================================\n",
      "Total params: 87,374\n",
      "Trainable params: 87,374\n",
      "Non-trainable params: 0\n",
      "_________________________________________________________________\n"
     ]
    }
   ],
   "source": [
    "model.summary()"
   ]
  },
  {
   "cell_type": "markdown",
   "metadata": {
    "id": "dGv8fIyo4_Th",
    "pycharm": {
     "name": "#%% md\n"
    }
   },
   "source": [
    "최상의 모델만을 저장\n",
    "- save_best_only=True"
   ]
  },
  {
   "cell_type": "code",
   "execution_count": 104,
   "metadata": {
    "id": "4W4rJEOsqc98",
    "pycharm": {
     "name": "#%%\n"
    }
   },
   "outputs": [],
   "source": [
    "model = build_mode()\n",
    "\n",
    "cp = ModelCheckpoint('keras_best_model.h5', save_best_only=True, monitor='acc')"
   ]
  },
  {
   "cell_type": "code",
   "execution_count": 105,
   "metadata": {
    "id": "r2QNCtmjqc6f",
    "pycharm": {
     "name": "#%%\n"
    }
   },
   "outputs": [
    {
     "name": "stdout",
     "output_type": "stream",
     "text": [
      "Epoch 1/5\n",
      "  15/1313 [..............................] - ETA: 10s - loss: 2.3078 - acc: 0.1271"
     ]
    },
    {
     "name": "stderr",
     "output_type": "stream",
     "text": [
      "2022-08-11 23:19:24.591492: I tensorflow/core/grappler/optimizers/custom_graph_optimizer_registry.cc:113] Plugin optimizer for device_type GPU is enabled.\n"
     ]
    },
    {
     "name": "stdout",
     "output_type": "stream",
     "text": [
      "1312/1313 [============================>.] - ETA: 0s - loss: 0.8713 - acc: 0.7495"
     ]
    },
    {
     "name": "stderr",
     "output_type": "stream",
     "text": [
      "2022-08-11 23:19:34.456754: I tensorflow/core/grappler/optimizers/custom_graph_optimizer_registry.cc:113] Plugin optimizer for device_type GPU is enabled.\n"
     ]
    },
    {
     "name": "stdout",
     "output_type": "stream",
     "text": [
      "1313/1313 [==============================] - 13s 10ms/step - loss: 0.8711 - acc: 0.7495 - val_loss: 0.3747 - val_acc: 0.8914\n",
      "Epoch 2/5\n",
      "1313/1313 [==============================] - 13s 10ms/step - loss: 0.3283 - acc: 0.9065 - val_loss: 0.2971 - val_acc: 0.9125\n",
      "Epoch 3/5\n",
      "1313/1313 [==============================] - 14s 10ms/step - loss: 0.2598 - acc: 0.9249 - val_loss: 0.2426 - val_acc: 0.9292\n",
      "Epoch 4/5\n",
      "1313/1313 [==============================] - 13s 10ms/step - loss: 0.2188 - acc: 0.9378 - val_loss: 0.2195 - val_acc: 0.9347\n",
      "Epoch 5/5\n",
      "1313/1313 [==============================] - 13s 10ms/step - loss: 0.1895 - acc: 0.9456 - val_loss: 0.1922 - val_acc: 0.9436\n"
     ]
    }
   ],
   "source": [
    "history = model.fit(\n",
    "    x_train, y_train, epochs=5\n",
    "    ,validation_data=(x_val, y_val), callbacks=cp\n",
    ")"
   ]
  },
  {
   "cell_type": "code",
   "execution_count": 106,
   "metadata": {
    "id": "_HlEkRagqc3D",
    "pycharm": {
     "name": "#%%\n"
    }
   },
   "outputs": [
    {
     "name": "stdout",
     "output_type": "stream",
     "text": [
      "Model: \"model_9\"\n",
      "_________________________________________________________________\n",
      " Layer (type)                Output Shape              Param #   \n",
      "=================================================================\n",
      " input_9 (InputLayer)        [(None, 28, 28, 1)]       0         \n",
      "                                                                 \n",
      " flatten_5 (Flatten)         (None, 784)               0         \n",
      "                                                                 \n",
      " dense_25 (Dense)            (None, 100)               78500     \n",
      "                                                                 \n",
      " dense_26 (Dense)            (None, 64)                6464      \n",
      "                                                                 \n",
      " dense_27 (Dense)            (None, 32)                2080      \n",
      "                                                                 \n",
      " dense_28 (Dense)            (None, 10)                330       \n",
      "                                                                 \n",
      "=================================================================\n",
      "Total params: 87,374\n",
      "Trainable params: 87,374\n",
      "Non-trainable params: 0\n",
      "_________________________________________________________________\n",
      "total 4248\r\n",
      "drwxr-xr-x  17 kim-seung-gyeom  staff     544 Aug 11 23:14 \u001B[1m\u001B[36m.\u001B[m\u001B[m\r\n",
      "drwxr-xr-x@ 13 kim-seung-gyeom  staff     416 Aug 10 22:10 \u001B[1m\u001B[36m..\u001B[m\u001B[m\r\n",
      "-rw-r--r--@  1 kim-seung-gyeom  staff    6148 Aug  8 16:25 .DS_Store\r\n",
      "-rw-r--r--@  1 kim-seung-gyeom  staff  503806 Aug 11 23:14 _3_케라스(Keras)_기초부터_모델_생성까지.ipynb\r\n",
      "-rw-r--r--   1 kim-seung-gyeom  staff  374704 Aug 11 23:20 keras_best_model.h5\r\n",
      "-rw-r--r--   1 kim-seung-gyeom  staff  374704 Aug  8 14:58 keras_best_model_stopping.h5\r\n",
      "-rw-r--r--   1 kim-seung-gyeom  staff  374704 Aug 11 23:19 keras_mnist_model.h5\r\n",
      "drwxr-xr-x   4 kim-seung-gyeom  staff     128 Aug  8 15:11 \u001B[1m\u001B[36mlogs\u001B[m\u001B[m\r\n",
      "-rw-r--r--   1 kim-seung-gyeom  staff  373752 Aug 11 23:18 mnist_model.h5\r\n",
      "-rw-r--r--   1 kim-seung-gyeom  staff    2146 Aug 11 23:18 model.json\r\n",
      "-rw-r--r--   1 kim-seung-gyeom  staff   16504 Aug 11 23:15 model.png\r\n",
      "-rw-r--r--   1 kim-seung-gyeom  staff    8122 Aug 11 23:15 model2.png\r\n",
      "-rw-r--r--   1 kim-seung-gyeom  staff   12385 Aug 11 23:15 model3.png\r\n",
      "-rw-r--r--   1 kim-seung-gyeom  staff   15361 Aug 11 23:15 model4.png\r\n",
      "-rw-r--r--   1 kim-seung-gyeom  staff   16004 Aug 11 23:15 model5.png\r\n",
      "-rw-r--r--   1 kim-seung-gyeom  staff   12458 Aug 11 23:15 model6.png\r\n",
      "-rw-r--r--   1 kim-seung-gyeom  staff   18384 Aug 11 23:15 model7.png\r\n"
     ]
    }
   ],
   "source": [
    "model_load = load_model('keras_best_model.h5')\n",
    "model_load.summary()\n",
    "!ls -al"
   ]
  },
  {
   "cell_type": "markdown",
   "metadata": {
    "id": "osAT_QOp7roL",
    "pycharm": {
     "name": "#%% md\n"
    }
   },
   "source": [
    "### EarlyStopping\n",
    "- 일정 에포크(patience) 동안 검증 세트에 대한 점수가 오르지 않으면 학습을 멈춤\n",
    "\n",
    "- 모델이 향상되지 않으면 학습이 자동으로 중지되므로,  \n",
    "  에포크(epochs) 숫자를 크게 해도 무방\n",
    "\n",
    "- 학습이 끝난 후의 최상의 가중치를 복원하기 때문에 모델을 따로 복원할 필요없음"
   ]
  },
  {
   "cell_type": "code",
   "execution_count": 107,
   "metadata": {
    "id": "JT61djueqczo",
    "pycharm": {
     "name": "#%%\n"
    }
   },
   "outputs": [
    {
     "name": "stdout",
     "output_type": "stream",
     "text": [
      "Epoch 1/50\n",
      "  15/1313 [..............................] - ETA: 10s - loss: 2.2956 - acc: 0.1042"
     ]
    },
    {
     "name": "stderr",
     "output_type": "stream",
     "text": [
      "2022-08-11 23:20:31.331564: I tensorflow/core/grappler/optimizers/custom_graph_optimizer_registry.cc:113] Plugin optimizer for device_type GPU is enabled.\n"
     ]
    },
    {
     "name": "stdout",
     "output_type": "stream",
     "text": [
      "1312/1313 [============================>.] - ETA: 0s - loss: 0.9019 - acc: 0.7292"
     ]
    },
    {
     "name": "stderr",
     "output_type": "stream",
     "text": [
      "2022-08-11 23:20:41.711403: I tensorflow/core/grappler/optimizers/custom_graph_optimizer_registry.cc:113] Plugin optimizer for device_type GPU is enabled.\n"
     ]
    },
    {
     "name": "stdout",
     "output_type": "stream",
     "text": [
      "1313/1313 [==============================] - 14s 10ms/step - loss: 0.9016 - acc: 0.7292 - val_loss: 0.3994 - val_acc: 0.8819\n",
      "Epoch 2/50\n",
      "1313/1313 [==============================] - 13s 10ms/step - loss: 0.3454 - acc: 0.9004 - val_loss: 0.3094 - val_acc: 0.9076\n",
      "Epoch 3/50\n",
      "1313/1313 [==============================] - 14s 10ms/step - loss: 0.2714 - acc: 0.9219 - val_loss: 0.2485 - val_acc: 0.9273\n",
      "Epoch 4/50\n",
      "1313/1313 [==============================] - 14s 10ms/step - loss: 0.2264 - acc: 0.9355 - val_loss: 0.2199 - val_acc: 0.9352\n",
      "Epoch 5/50\n",
      "1313/1313 [==============================] - 13s 10ms/step - loss: 0.1950 - acc: 0.9445 - val_loss: 0.2013 - val_acc: 0.9409\n",
      "Epoch 6/50\n",
      "1313/1313 [==============================] - 14s 11ms/step - loss: 0.1718 - acc: 0.9495 - val_loss: 0.1810 - val_acc: 0.9465\n",
      "Epoch 7/50\n",
      "1313/1313 [==============================] - 13s 10ms/step - loss: 0.1538 - acc: 0.9554 - val_loss: 0.1724 - val_acc: 0.9486\n",
      "Epoch 8/50\n",
      "1313/1313 [==============================] - 13s 10ms/step - loss: 0.1392 - acc: 0.9587 - val_loss: 0.1474 - val_acc: 0.9563\n",
      "Epoch 9/50\n",
      "1313/1313 [==============================] - 13s 10ms/step - loss: 0.1264 - acc: 0.9625 - val_loss: 0.1484 - val_acc: 0.9545\n",
      "Epoch 10/50\n",
      "1313/1313 [==============================] - 14s 11ms/step - loss: 0.1163 - acc: 0.9650 - val_loss: 0.1383 - val_acc: 0.9585\n",
      "Epoch 11/50\n",
      "1313/1313 [==============================] - 14s 10ms/step - loss: 0.1067 - acc: 0.9688 - val_loss: 0.1297 - val_acc: 0.9607\n",
      "Epoch 12/50\n",
      "1313/1313 [==============================] - 13s 10ms/step - loss: 0.0990 - acc: 0.9714 - val_loss: 0.1280 - val_acc: 0.9599\n",
      "Epoch 13/50\n",
      "1313/1313 [==============================] - 13s 10ms/step - loss: 0.0916 - acc: 0.9732 - val_loss: 0.1215 - val_acc: 0.9626\n",
      "Epoch 14/50\n",
      "1313/1313 [==============================] - 13s 10ms/step - loss: 0.0856 - acc: 0.9749 - val_loss: 0.1185 - val_acc: 0.9647\n",
      "Epoch 15/50\n",
      "1313/1313 [==============================] - 13s 10ms/step - loss: 0.0795 - acc: 0.9768 - val_loss: 0.1232 - val_acc: 0.9624\n",
      "Epoch 16/50\n",
      "1313/1313 [==============================] - 13s 10ms/step - loss: 0.0740 - acc: 0.9782 - val_loss: 0.1145 - val_acc: 0.9648\n",
      "Epoch 17/50\n",
      "1313/1313 [==============================] - 13s 10ms/step - loss: 0.0691 - acc: 0.9803 - val_loss: 0.1162 - val_acc: 0.9658\n",
      "Epoch 18/50\n",
      "1313/1313 [==============================] - 13s 10ms/step - loss: 0.0639 - acc: 0.9816 - val_loss: 0.1122 - val_acc: 0.9654\n",
      "Epoch 19/50\n",
      "1313/1313 [==============================] - 13s 10ms/step - loss: 0.0602 - acc: 0.9829 - val_loss: 0.1088 - val_acc: 0.9671\n",
      "Epoch 20/50\n",
      "1313/1313 [==============================] - 13s 10ms/step - loss: 0.0564 - acc: 0.9834 - val_loss: 0.1300 - val_acc: 0.9620\n",
      "Epoch 21/50\n",
      "1313/1313 [==============================] - 965s 735ms/step - loss: 0.0527 - acc: 0.9850 - val_loss: 0.1087 - val_acc: 0.9678\n",
      "Epoch 22/50\n",
      "1313/1313 [==============================] - 500s 381ms/step - loss: 0.0484 - acc: 0.9863 - val_loss: 0.1154 - val_acc: 0.9667\n",
      "Epoch 23/50\n",
      "1200/1313 [==========================>...] - ETA: 0s - loss: 0.0467 - acc: 0.9873"
     ]
    },
    {
     "ename": "KeyboardInterrupt",
     "evalue": "",
     "output_type": "error",
     "traceback": [
      "\u001B[0;31m---------------------------------------------------------------------------\u001B[0m",
      "\u001B[0;31mKeyboardInterrupt\u001B[0m                         Traceback (most recent call last)",
      "Input \u001B[0;32mIn [107]\u001B[0m, in \u001B[0;36m<cell line: 5>\u001B[0;34m()\u001B[0m\n\u001B[1;32m      3\u001B[0m cp \u001B[38;5;241m=\u001B[39m ModelCheckpoint(\u001B[38;5;124m'\u001B[39m\u001B[38;5;124mkeras_best_model_stopping.h5\u001B[39m\u001B[38;5;124m'\u001B[39m, save_best_only\u001B[38;5;241m=\u001B[39m\u001B[38;5;28;01mTrue\u001B[39;00m, monitor\u001B[38;5;241m=\u001B[39m\u001B[38;5;124m'\u001B[39m\u001B[38;5;124macc\u001B[39m\u001B[38;5;124m'\u001B[39m)\n\u001B[1;32m      4\u001B[0m stopping_cb \u001B[38;5;241m=\u001B[39m EarlyStopping(patience\u001B[38;5;241m=\u001B[39m\u001B[38;5;241m3\u001B[39m, monitor\u001B[38;5;241m=\u001B[39m\u001B[38;5;124m'\u001B[39m\u001B[38;5;124mval_loss\u001B[39m\u001B[38;5;124m'\u001B[39m, restore_best_weights\u001B[38;5;241m=\u001B[39m\u001B[38;5;28;01mTrue\u001B[39;00m)\n\u001B[0;32m----> 5\u001B[0m history \u001B[38;5;241m=\u001B[39m \u001B[43mmodel\u001B[49m\u001B[38;5;241;43m.\u001B[39;49m\u001B[43mfit\u001B[49m\u001B[43m(\u001B[49m\n\u001B[1;32m      6\u001B[0m \u001B[43m    \u001B[49m\u001B[43mx_train\u001B[49m\u001B[43m,\u001B[49m\u001B[43m \u001B[49m\u001B[43my_train\u001B[49m\u001B[43m,\u001B[49m\u001B[43m \u001B[49m\u001B[43mepochs\u001B[49m\u001B[38;5;241;43m=\u001B[39;49m\u001B[38;5;241;43m50\u001B[39;49m\n\u001B[1;32m      7\u001B[0m \u001B[43m    \u001B[49m\u001B[43m,\u001B[49m\u001B[43m \u001B[49m\u001B[43mvalidation_data\u001B[49m\u001B[38;5;241;43m=\u001B[39;49m\u001B[43m(\u001B[49m\u001B[43mx_val\u001B[49m\u001B[43m,\u001B[49m\u001B[43m \u001B[49m\u001B[43my_val\u001B[49m\u001B[43m)\u001B[49m\u001B[43m,\u001B[49m\u001B[43m \u001B[49m\u001B[43mcallbacks\u001B[49m\u001B[38;5;241;43m=\u001B[39;49m\u001B[43m[\u001B[49m\u001B[43mcp\u001B[49m\u001B[43m,\u001B[49m\u001B[43mstopping_cb\u001B[49m\u001B[43m]\u001B[49m\n\u001B[1;32m      8\u001B[0m \u001B[43m)\u001B[49m\n",
      "File \u001B[0;32m~/opt/anaconda3/envs/ml/lib/python3.9/site-packages/keras/utils/traceback_utils.py:64\u001B[0m, in \u001B[0;36mfilter_traceback.<locals>.error_handler\u001B[0;34m(*args, **kwargs)\u001B[0m\n\u001B[1;32m     62\u001B[0m filtered_tb \u001B[38;5;241m=\u001B[39m \u001B[38;5;28;01mNone\u001B[39;00m\n\u001B[1;32m     63\u001B[0m \u001B[38;5;28;01mtry\u001B[39;00m:\n\u001B[0;32m---> 64\u001B[0m   \u001B[38;5;28;01mreturn\u001B[39;00m \u001B[43mfn\u001B[49m\u001B[43m(\u001B[49m\u001B[38;5;241;43m*\u001B[39;49m\u001B[43margs\u001B[49m\u001B[43m,\u001B[49m\u001B[43m \u001B[49m\u001B[38;5;241;43m*\u001B[39;49m\u001B[38;5;241;43m*\u001B[39;49m\u001B[43mkwargs\u001B[49m\u001B[43m)\u001B[49m\n\u001B[1;32m     65\u001B[0m \u001B[38;5;28;01mexcept\u001B[39;00m \u001B[38;5;167;01mException\u001B[39;00m \u001B[38;5;28;01mas\u001B[39;00m e:  \u001B[38;5;66;03m# pylint: disable=broad-except\u001B[39;00m\n\u001B[1;32m     66\u001B[0m   filtered_tb \u001B[38;5;241m=\u001B[39m _process_traceback_frames(e\u001B[38;5;241m.\u001B[39m__traceback__)\n",
      "File \u001B[0;32m~/opt/anaconda3/envs/ml/lib/python3.9/site-packages/keras/engine/training.py:1409\u001B[0m, in \u001B[0;36mModel.fit\u001B[0;34m(self, x, y, batch_size, epochs, verbose, callbacks, validation_split, validation_data, shuffle, class_weight, sample_weight, initial_epoch, steps_per_epoch, validation_steps, validation_batch_size, validation_freq, max_queue_size, workers, use_multiprocessing)\u001B[0m\n\u001B[1;32m   1402\u001B[0m \u001B[38;5;28;01mwith\u001B[39;00m tf\u001B[38;5;241m.\u001B[39mprofiler\u001B[38;5;241m.\u001B[39mexperimental\u001B[38;5;241m.\u001B[39mTrace(\n\u001B[1;32m   1403\u001B[0m     \u001B[38;5;124m'\u001B[39m\u001B[38;5;124mtrain\u001B[39m\u001B[38;5;124m'\u001B[39m,\n\u001B[1;32m   1404\u001B[0m     epoch_num\u001B[38;5;241m=\u001B[39mepoch,\n\u001B[1;32m   1405\u001B[0m     step_num\u001B[38;5;241m=\u001B[39mstep,\n\u001B[1;32m   1406\u001B[0m     batch_size\u001B[38;5;241m=\u001B[39mbatch_size,\n\u001B[1;32m   1407\u001B[0m     _r\u001B[38;5;241m=\u001B[39m\u001B[38;5;241m1\u001B[39m):\n\u001B[1;32m   1408\u001B[0m   callbacks\u001B[38;5;241m.\u001B[39mon_train_batch_begin(step)\n\u001B[0;32m-> 1409\u001B[0m   tmp_logs \u001B[38;5;241m=\u001B[39m \u001B[38;5;28;43mself\u001B[39;49m\u001B[38;5;241;43m.\u001B[39;49m\u001B[43mtrain_function\u001B[49m\u001B[43m(\u001B[49m\u001B[43miterator\u001B[49m\u001B[43m)\u001B[49m\n\u001B[1;32m   1410\u001B[0m   \u001B[38;5;28;01mif\u001B[39;00m data_handler\u001B[38;5;241m.\u001B[39mshould_sync:\n\u001B[1;32m   1411\u001B[0m     context\u001B[38;5;241m.\u001B[39masync_wait()\n",
      "File \u001B[0;32m~/opt/anaconda3/envs/ml/lib/python3.9/site-packages/tensorflow/python/util/traceback_utils.py:150\u001B[0m, in \u001B[0;36mfilter_traceback.<locals>.error_handler\u001B[0;34m(*args, **kwargs)\u001B[0m\n\u001B[1;32m    148\u001B[0m filtered_tb \u001B[38;5;241m=\u001B[39m \u001B[38;5;28;01mNone\u001B[39;00m\n\u001B[1;32m    149\u001B[0m \u001B[38;5;28;01mtry\u001B[39;00m:\n\u001B[0;32m--> 150\u001B[0m   \u001B[38;5;28;01mreturn\u001B[39;00m \u001B[43mfn\u001B[49m\u001B[43m(\u001B[49m\u001B[38;5;241;43m*\u001B[39;49m\u001B[43margs\u001B[49m\u001B[43m,\u001B[49m\u001B[43m \u001B[49m\u001B[38;5;241;43m*\u001B[39;49m\u001B[38;5;241;43m*\u001B[39;49m\u001B[43mkwargs\u001B[49m\u001B[43m)\u001B[49m\n\u001B[1;32m    151\u001B[0m \u001B[38;5;28;01mexcept\u001B[39;00m \u001B[38;5;167;01mException\u001B[39;00m \u001B[38;5;28;01mas\u001B[39;00m e:\n\u001B[1;32m    152\u001B[0m   filtered_tb \u001B[38;5;241m=\u001B[39m _process_traceback_frames(e\u001B[38;5;241m.\u001B[39m__traceback__)\n",
      "File \u001B[0;32m~/opt/anaconda3/envs/ml/lib/python3.9/site-packages/tensorflow/python/eager/def_function.py:915\u001B[0m, in \u001B[0;36mFunction.__call__\u001B[0;34m(self, *args, **kwds)\u001B[0m\n\u001B[1;32m    912\u001B[0m compiler \u001B[38;5;241m=\u001B[39m \u001B[38;5;124m\"\u001B[39m\u001B[38;5;124mxla\u001B[39m\u001B[38;5;124m\"\u001B[39m \u001B[38;5;28;01mif\u001B[39;00m \u001B[38;5;28mself\u001B[39m\u001B[38;5;241m.\u001B[39m_jit_compile \u001B[38;5;28;01melse\u001B[39;00m \u001B[38;5;124m\"\u001B[39m\u001B[38;5;124mnonXla\u001B[39m\u001B[38;5;124m\"\u001B[39m\n\u001B[1;32m    914\u001B[0m \u001B[38;5;28;01mwith\u001B[39;00m OptionalXlaContext(\u001B[38;5;28mself\u001B[39m\u001B[38;5;241m.\u001B[39m_jit_compile):\n\u001B[0;32m--> 915\u001B[0m   result \u001B[38;5;241m=\u001B[39m \u001B[38;5;28;43mself\u001B[39;49m\u001B[38;5;241;43m.\u001B[39;49m\u001B[43m_call\u001B[49m\u001B[43m(\u001B[49m\u001B[38;5;241;43m*\u001B[39;49m\u001B[43margs\u001B[49m\u001B[43m,\u001B[49m\u001B[43m \u001B[49m\u001B[38;5;241;43m*\u001B[39;49m\u001B[38;5;241;43m*\u001B[39;49m\u001B[43mkwds\u001B[49m\u001B[43m)\u001B[49m\n\u001B[1;32m    917\u001B[0m new_tracing_count \u001B[38;5;241m=\u001B[39m \u001B[38;5;28mself\u001B[39m\u001B[38;5;241m.\u001B[39mexperimental_get_tracing_count()\n\u001B[1;32m    918\u001B[0m without_tracing \u001B[38;5;241m=\u001B[39m (tracing_count \u001B[38;5;241m==\u001B[39m new_tracing_count)\n",
      "File \u001B[0;32m~/opt/anaconda3/envs/ml/lib/python3.9/site-packages/tensorflow/python/eager/def_function.py:947\u001B[0m, in \u001B[0;36mFunction._call\u001B[0;34m(self, *args, **kwds)\u001B[0m\n\u001B[1;32m    944\u001B[0m   \u001B[38;5;28mself\u001B[39m\u001B[38;5;241m.\u001B[39m_lock\u001B[38;5;241m.\u001B[39mrelease()\n\u001B[1;32m    945\u001B[0m   \u001B[38;5;66;03m# In this case we have created variables on the first call, so we run the\u001B[39;00m\n\u001B[1;32m    946\u001B[0m   \u001B[38;5;66;03m# defunned version which is guaranteed to never create variables.\u001B[39;00m\n\u001B[0;32m--> 947\u001B[0m   \u001B[38;5;28;01mreturn\u001B[39;00m \u001B[38;5;28;43mself\u001B[39;49m\u001B[38;5;241;43m.\u001B[39;49m\u001B[43m_stateless_fn\u001B[49m\u001B[43m(\u001B[49m\u001B[38;5;241;43m*\u001B[39;49m\u001B[43margs\u001B[49m\u001B[43m,\u001B[49m\u001B[43m \u001B[49m\u001B[38;5;241;43m*\u001B[39;49m\u001B[38;5;241;43m*\u001B[39;49m\u001B[43mkwds\u001B[49m\u001B[43m)\u001B[49m  \u001B[38;5;66;03m# pylint: disable=not-callable\u001B[39;00m\n\u001B[1;32m    948\u001B[0m \u001B[38;5;28;01melif\u001B[39;00m \u001B[38;5;28mself\u001B[39m\u001B[38;5;241m.\u001B[39m_stateful_fn \u001B[38;5;129;01mis\u001B[39;00m \u001B[38;5;129;01mnot\u001B[39;00m \u001B[38;5;28;01mNone\u001B[39;00m:\n\u001B[1;32m    949\u001B[0m   \u001B[38;5;66;03m# Release the lock early so that multiple threads can perform the call\u001B[39;00m\n\u001B[1;32m    950\u001B[0m   \u001B[38;5;66;03m# in parallel.\u001B[39;00m\n\u001B[1;32m    951\u001B[0m   \u001B[38;5;28mself\u001B[39m\u001B[38;5;241m.\u001B[39m_lock\u001B[38;5;241m.\u001B[39mrelease()\n",
      "File \u001B[0;32m~/opt/anaconda3/envs/ml/lib/python3.9/site-packages/tensorflow/python/eager/function.py:2453\u001B[0m, in \u001B[0;36mFunction.__call__\u001B[0;34m(self, *args, **kwargs)\u001B[0m\n\u001B[1;32m   2450\u001B[0m \u001B[38;5;28;01mwith\u001B[39;00m \u001B[38;5;28mself\u001B[39m\u001B[38;5;241m.\u001B[39m_lock:\n\u001B[1;32m   2451\u001B[0m   (graph_function,\n\u001B[1;32m   2452\u001B[0m    filtered_flat_args) \u001B[38;5;241m=\u001B[39m \u001B[38;5;28mself\u001B[39m\u001B[38;5;241m.\u001B[39m_maybe_define_function(args, kwargs)\n\u001B[0;32m-> 2453\u001B[0m \u001B[38;5;28;01mreturn\u001B[39;00m \u001B[43mgraph_function\u001B[49m\u001B[38;5;241;43m.\u001B[39;49m\u001B[43m_call_flat\u001B[49m\u001B[43m(\u001B[49m\n\u001B[1;32m   2454\u001B[0m \u001B[43m    \u001B[49m\u001B[43mfiltered_flat_args\u001B[49m\u001B[43m,\u001B[49m\u001B[43m \u001B[49m\u001B[43mcaptured_inputs\u001B[49m\u001B[38;5;241;43m=\u001B[39;49m\u001B[43mgraph_function\u001B[49m\u001B[38;5;241;43m.\u001B[39;49m\u001B[43mcaptured_inputs\u001B[49m\u001B[43m)\u001B[49m\n",
      "File \u001B[0;32m~/opt/anaconda3/envs/ml/lib/python3.9/site-packages/tensorflow/python/eager/function.py:1860\u001B[0m, in \u001B[0;36mConcreteFunction._call_flat\u001B[0;34m(self, args, captured_inputs, cancellation_manager)\u001B[0m\n\u001B[1;32m   1856\u001B[0m possible_gradient_type \u001B[38;5;241m=\u001B[39m gradients_util\u001B[38;5;241m.\u001B[39mPossibleTapeGradientTypes(args)\n\u001B[1;32m   1857\u001B[0m \u001B[38;5;28;01mif\u001B[39;00m (possible_gradient_type \u001B[38;5;241m==\u001B[39m gradients_util\u001B[38;5;241m.\u001B[39mPOSSIBLE_GRADIENT_TYPES_NONE\n\u001B[1;32m   1858\u001B[0m     \u001B[38;5;129;01mand\u001B[39;00m executing_eagerly):\n\u001B[1;32m   1859\u001B[0m   \u001B[38;5;66;03m# No tape is watching; skip to running the function.\u001B[39;00m\n\u001B[0;32m-> 1860\u001B[0m   \u001B[38;5;28;01mreturn\u001B[39;00m \u001B[38;5;28mself\u001B[39m\u001B[38;5;241m.\u001B[39m_build_call_outputs(\u001B[38;5;28;43mself\u001B[39;49m\u001B[38;5;241;43m.\u001B[39;49m\u001B[43m_inference_function\u001B[49m\u001B[38;5;241;43m.\u001B[39;49m\u001B[43mcall\u001B[49m\u001B[43m(\u001B[49m\n\u001B[1;32m   1861\u001B[0m \u001B[43m      \u001B[49m\u001B[43mctx\u001B[49m\u001B[43m,\u001B[49m\u001B[43m \u001B[49m\u001B[43margs\u001B[49m\u001B[43m,\u001B[49m\u001B[43m \u001B[49m\u001B[43mcancellation_manager\u001B[49m\u001B[38;5;241;43m=\u001B[39;49m\u001B[43mcancellation_manager\u001B[49m\u001B[43m)\u001B[49m)\n\u001B[1;32m   1862\u001B[0m forward_backward \u001B[38;5;241m=\u001B[39m \u001B[38;5;28mself\u001B[39m\u001B[38;5;241m.\u001B[39m_select_forward_and_backward_functions(\n\u001B[1;32m   1863\u001B[0m     args,\n\u001B[1;32m   1864\u001B[0m     possible_gradient_type,\n\u001B[1;32m   1865\u001B[0m     executing_eagerly)\n\u001B[1;32m   1866\u001B[0m forward_function, args_with_tangents \u001B[38;5;241m=\u001B[39m forward_backward\u001B[38;5;241m.\u001B[39mforward()\n",
      "File \u001B[0;32m~/opt/anaconda3/envs/ml/lib/python3.9/site-packages/tensorflow/python/eager/function.py:497\u001B[0m, in \u001B[0;36m_EagerDefinedFunction.call\u001B[0;34m(self, ctx, args, cancellation_manager)\u001B[0m\n\u001B[1;32m    495\u001B[0m \u001B[38;5;28;01mwith\u001B[39;00m _InterpolateFunctionError(\u001B[38;5;28mself\u001B[39m):\n\u001B[1;32m    496\u001B[0m   \u001B[38;5;28;01mif\u001B[39;00m cancellation_manager \u001B[38;5;129;01mis\u001B[39;00m \u001B[38;5;28;01mNone\u001B[39;00m:\n\u001B[0;32m--> 497\u001B[0m     outputs \u001B[38;5;241m=\u001B[39m \u001B[43mexecute\u001B[49m\u001B[38;5;241;43m.\u001B[39;49m\u001B[43mexecute\u001B[49m\u001B[43m(\u001B[49m\n\u001B[1;32m    498\u001B[0m \u001B[43m        \u001B[49m\u001B[38;5;28;43mstr\u001B[39;49m\u001B[43m(\u001B[49m\u001B[38;5;28;43mself\u001B[39;49m\u001B[38;5;241;43m.\u001B[39;49m\u001B[43msignature\u001B[49m\u001B[38;5;241;43m.\u001B[39;49m\u001B[43mname\u001B[49m\u001B[43m)\u001B[49m\u001B[43m,\u001B[49m\n\u001B[1;32m    499\u001B[0m \u001B[43m        \u001B[49m\u001B[43mnum_outputs\u001B[49m\u001B[38;5;241;43m=\u001B[39;49m\u001B[38;5;28;43mself\u001B[39;49m\u001B[38;5;241;43m.\u001B[39;49m\u001B[43m_num_outputs\u001B[49m\u001B[43m,\u001B[49m\n\u001B[1;32m    500\u001B[0m \u001B[43m        \u001B[49m\u001B[43minputs\u001B[49m\u001B[38;5;241;43m=\u001B[39;49m\u001B[43margs\u001B[49m\u001B[43m,\u001B[49m\n\u001B[1;32m    501\u001B[0m \u001B[43m        \u001B[49m\u001B[43mattrs\u001B[49m\u001B[38;5;241;43m=\u001B[39;49m\u001B[43mattrs\u001B[49m\u001B[43m,\u001B[49m\n\u001B[1;32m    502\u001B[0m \u001B[43m        \u001B[49m\u001B[43mctx\u001B[49m\u001B[38;5;241;43m=\u001B[39;49m\u001B[43mctx\u001B[49m\u001B[43m)\u001B[49m\n\u001B[1;32m    503\u001B[0m   \u001B[38;5;28;01melse\u001B[39;00m:\n\u001B[1;32m    504\u001B[0m     outputs \u001B[38;5;241m=\u001B[39m execute\u001B[38;5;241m.\u001B[39mexecute_with_cancellation(\n\u001B[1;32m    505\u001B[0m         \u001B[38;5;28mstr\u001B[39m(\u001B[38;5;28mself\u001B[39m\u001B[38;5;241m.\u001B[39msignature\u001B[38;5;241m.\u001B[39mname),\n\u001B[1;32m    506\u001B[0m         num_outputs\u001B[38;5;241m=\u001B[39m\u001B[38;5;28mself\u001B[39m\u001B[38;5;241m.\u001B[39m_num_outputs,\n\u001B[0;32m   (...)\u001B[0m\n\u001B[1;32m    509\u001B[0m         ctx\u001B[38;5;241m=\u001B[39mctx,\n\u001B[1;32m    510\u001B[0m         cancellation_manager\u001B[38;5;241m=\u001B[39mcancellation_manager)\n",
      "File \u001B[0;32m~/opt/anaconda3/envs/ml/lib/python3.9/site-packages/tensorflow/python/eager/execute.py:54\u001B[0m, in \u001B[0;36mquick_execute\u001B[0;34m(op_name, num_outputs, inputs, attrs, ctx, name)\u001B[0m\n\u001B[1;32m     52\u001B[0m \u001B[38;5;28;01mtry\u001B[39;00m:\n\u001B[1;32m     53\u001B[0m   ctx\u001B[38;5;241m.\u001B[39mensure_initialized()\n\u001B[0;32m---> 54\u001B[0m   tensors \u001B[38;5;241m=\u001B[39m \u001B[43mpywrap_tfe\u001B[49m\u001B[38;5;241;43m.\u001B[39;49m\u001B[43mTFE_Py_Execute\u001B[49m\u001B[43m(\u001B[49m\u001B[43mctx\u001B[49m\u001B[38;5;241;43m.\u001B[39;49m\u001B[43m_handle\u001B[49m\u001B[43m,\u001B[49m\u001B[43m \u001B[49m\u001B[43mdevice_name\u001B[49m\u001B[43m,\u001B[49m\u001B[43m \u001B[49m\u001B[43mop_name\u001B[49m\u001B[43m,\u001B[49m\n\u001B[1;32m     55\u001B[0m \u001B[43m                                      \u001B[49m\u001B[43minputs\u001B[49m\u001B[43m,\u001B[49m\u001B[43m \u001B[49m\u001B[43mattrs\u001B[49m\u001B[43m,\u001B[49m\u001B[43m \u001B[49m\u001B[43mnum_outputs\u001B[49m\u001B[43m)\u001B[49m\n\u001B[1;32m     56\u001B[0m \u001B[38;5;28;01mexcept\u001B[39;00m core\u001B[38;5;241m.\u001B[39m_NotOkStatusException \u001B[38;5;28;01mas\u001B[39;00m e:\n\u001B[1;32m     57\u001B[0m   \u001B[38;5;28;01mif\u001B[39;00m name \u001B[38;5;129;01mis\u001B[39;00m \u001B[38;5;129;01mnot\u001B[39;00m \u001B[38;5;28;01mNone\u001B[39;00m:\n",
      "\u001B[0;31mKeyboardInterrupt\u001B[0m: "
     ]
    }
   ],
   "source": [
    "model = build_mode()\n",
    "\n",
    "cp = ModelCheckpoint('keras_best_model_stopping.h5', save_best_only=True, monitor='acc')\n",
    "stopping_cb = EarlyStopping(patience=3, monitor='val_loss', restore_best_weights=True)\n",
    "history = model.fit(\n",
    "    x_train, y_train, epochs=50\n",
    "    , validation_data=(x_val, y_val), callbacks=[cp,stopping_cb]\n",
    ")"
   ]
  },
  {
   "cell_type": "markdown",
   "metadata": {
    "id": "sPadOgZM9bM-",
    "pycharm": {
     "name": "#%% md\n"
    }
   },
   "source": [
    "### LearningRateScheduler"
   ]
  },
  {
   "cell_type": "code",
   "execution_count": 108,
   "metadata": {
    "id": "njq81hTgqcwG",
    "pycharm": {
     "name": "#%%\n"
    }
   },
   "outputs": [],
   "source": [
    "def schedule(epoch, lr):\n",
    "    if epoch < 10:\n",
    "        return lr\n",
    "    else:\n",
    "        return lr * tf.math.exp(-0.1)\n"
   ]
  },
  {
   "cell_type": "code",
   "execution_count": 109,
   "metadata": {
    "id": "5AUc7PaMqcsd",
    "pycharm": {
     "name": "#%%\n"
    }
   },
   "outputs": [
    {
     "data": {
      "text/plain": "0.01"
     },
     "execution_count": 109,
     "metadata": {},
     "output_type": "execute_result"
    }
   ],
   "source": [
    "model = build_mode()\n",
    "\n",
    "round(model.optimizer.lr.numpy(), 5)"
   ]
  },
  {
   "cell_type": "code",
   "execution_count": 112,
   "metadata": {
    "id": "ZEH3d9__qco9",
    "pycharm": {
     "name": "#%%\n"
    }
   },
   "outputs": [
    {
     "ename": "KeyboardInterrupt",
     "evalue": "",
     "output_type": "error",
     "traceback": [
      "\u001B[0;31m---------------------------------------------------------------------------\u001B[0m",
      "\u001B[0;31mKeyboardInterrupt\u001B[0m                         Traceback (most recent call last)",
      "Input \u001B[0;32mIn [112]\u001B[0m, in \u001B[0;36m<cell line: 3>\u001B[0;34m()\u001B[0m\n\u001B[1;32m      1\u001B[0m lr_s_cb \u001B[38;5;241m=\u001B[39m LearningRateScheduler(schedule)\n\u001B[0;32m----> 3\u001B[0m history \u001B[38;5;241m=\u001B[39m \u001B[43mmodel\u001B[49m\u001B[38;5;241;43m.\u001B[39;49m\u001B[43mfit\u001B[49m\u001B[43m(\u001B[49m\u001B[43mx_train\u001B[49m\u001B[43m,\u001B[49m\u001B[43m \u001B[49m\u001B[43my_train\u001B[49m\u001B[43m,\u001B[49m\u001B[43m \u001B[49m\u001B[43mepochs\u001B[49m\u001B[38;5;241;43m=\u001B[39;49m\u001B[38;5;241;43m15\u001B[39;49m\u001B[43m,\u001B[49m\n\u001B[1;32m      4\u001B[0m \u001B[43m                    \u001B[49m\u001B[43mcallbacks\u001B[49m\u001B[38;5;241;43m=\u001B[39;49m\u001B[43m[\u001B[49m\u001B[43mlr_s_cb\u001B[49m\u001B[43m]\u001B[49m\u001B[43m,\u001B[49m\u001B[43mverbose\u001B[49m\u001B[38;5;241;43m=\u001B[39;49m\u001B[38;5;241;43m0\u001B[39;49m\u001B[43m)\u001B[49m\n\u001B[1;32m      5\u001B[0m \u001B[38;5;28mround\u001B[39m(model\u001B[38;5;241m.\u001B[39moptimizer\u001B[38;5;241m.\u001B[39mlr\u001B[38;5;241m.\u001B[39mnumpy(), \u001B[38;5;241m5\u001B[39m)\n",
      "File \u001B[0;32m~/opt/anaconda3/envs/ml/lib/python3.9/site-packages/keras/utils/traceback_utils.py:64\u001B[0m, in \u001B[0;36mfilter_traceback.<locals>.error_handler\u001B[0;34m(*args, **kwargs)\u001B[0m\n\u001B[1;32m     62\u001B[0m filtered_tb \u001B[38;5;241m=\u001B[39m \u001B[38;5;28;01mNone\u001B[39;00m\n\u001B[1;32m     63\u001B[0m \u001B[38;5;28;01mtry\u001B[39;00m:\n\u001B[0;32m---> 64\u001B[0m   \u001B[38;5;28;01mreturn\u001B[39;00m \u001B[43mfn\u001B[49m\u001B[43m(\u001B[49m\u001B[38;5;241;43m*\u001B[39;49m\u001B[43margs\u001B[49m\u001B[43m,\u001B[49m\u001B[43m \u001B[49m\u001B[38;5;241;43m*\u001B[39;49m\u001B[38;5;241;43m*\u001B[39;49m\u001B[43mkwargs\u001B[49m\u001B[43m)\u001B[49m\n\u001B[1;32m     65\u001B[0m \u001B[38;5;28;01mexcept\u001B[39;00m \u001B[38;5;167;01mException\u001B[39;00m \u001B[38;5;28;01mas\u001B[39;00m e:  \u001B[38;5;66;03m# pylint: disable=broad-except\u001B[39;00m\n\u001B[1;32m     66\u001B[0m   filtered_tb \u001B[38;5;241m=\u001B[39m _process_traceback_frames(e\u001B[38;5;241m.\u001B[39m__traceback__)\n",
      "File \u001B[0;32m~/opt/anaconda3/envs/ml/lib/python3.9/site-packages/keras/engine/training.py:1409\u001B[0m, in \u001B[0;36mModel.fit\u001B[0;34m(self, x, y, batch_size, epochs, verbose, callbacks, validation_split, validation_data, shuffle, class_weight, sample_weight, initial_epoch, steps_per_epoch, validation_steps, validation_batch_size, validation_freq, max_queue_size, workers, use_multiprocessing)\u001B[0m\n\u001B[1;32m   1402\u001B[0m \u001B[38;5;28;01mwith\u001B[39;00m tf\u001B[38;5;241m.\u001B[39mprofiler\u001B[38;5;241m.\u001B[39mexperimental\u001B[38;5;241m.\u001B[39mTrace(\n\u001B[1;32m   1403\u001B[0m     \u001B[38;5;124m'\u001B[39m\u001B[38;5;124mtrain\u001B[39m\u001B[38;5;124m'\u001B[39m,\n\u001B[1;32m   1404\u001B[0m     epoch_num\u001B[38;5;241m=\u001B[39mepoch,\n\u001B[1;32m   1405\u001B[0m     step_num\u001B[38;5;241m=\u001B[39mstep,\n\u001B[1;32m   1406\u001B[0m     batch_size\u001B[38;5;241m=\u001B[39mbatch_size,\n\u001B[1;32m   1407\u001B[0m     _r\u001B[38;5;241m=\u001B[39m\u001B[38;5;241m1\u001B[39m):\n\u001B[1;32m   1408\u001B[0m   callbacks\u001B[38;5;241m.\u001B[39mon_train_batch_begin(step)\n\u001B[0;32m-> 1409\u001B[0m   tmp_logs \u001B[38;5;241m=\u001B[39m \u001B[38;5;28;43mself\u001B[39;49m\u001B[38;5;241;43m.\u001B[39;49m\u001B[43mtrain_function\u001B[49m\u001B[43m(\u001B[49m\u001B[43miterator\u001B[49m\u001B[43m)\u001B[49m\n\u001B[1;32m   1410\u001B[0m   \u001B[38;5;28;01mif\u001B[39;00m data_handler\u001B[38;5;241m.\u001B[39mshould_sync:\n\u001B[1;32m   1411\u001B[0m     context\u001B[38;5;241m.\u001B[39masync_wait()\n",
      "File \u001B[0;32m~/opt/anaconda3/envs/ml/lib/python3.9/site-packages/tensorflow/python/util/traceback_utils.py:150\u001B[0m, in \u001B[0;36mfilter_traceback.<locals>.error_handler\u001B[0;34m(*args, **kwargs)\u001B[0m\n\u001B[1;32m    148\u001B[0m filtered_tb \u001B[38;5;241m=\u001B[39m \u001B[38;5;28;01mNone\u001B[39;00m\n\u001B[1;32m    149\u001B[0m \u001B[38;5;28;01mtry\u001B[39;00m:\n\u001B[0;32m--> 150\u001B[0m   \u001B[38;5;28;01mreturn\u001B[39;00m \u001B[43mfn\u001B[49m\u001B[43m(\u001B[49m\u001B[38;5;241;43m*\u001B[39;49m\u001B[43margs\u001B[49m\u001B[43m,\u001B[49m\u001B[43m \u001B[49m\u001B[38;5;241;43m*\u001B[39;49m\u001B[38;5;241;43m*\u001B[39;49m\u001B[43mkwargs\u001B[49m\u001B[43m)\u001B[49m\n\u001B[1;32m    151\u001B[0m \u001B[38;5;28;01mexcept\u001B[39;00m \u001B[38;5;167;01mException\u001B[39;00m \u001B[38;5;28;01mas\u001B[39;00m e:\n\u001B[1;32m    152\u001B[0m   filtered_tb \u001B[38;5;241m=\u001B[39m _process_traceback_frames(e\u001B[38;5;241m.\u001B[39m__traceback__)\n",
      "File \u001B[0;32m~/opt/anaconda3/envs/ml/lib/python3.9/site-packages/tensorflow/python/eager/def_function.py:915\u001B[0m, in \u001B[0;36mFunction.__call__\u001B[0;34m(self, *args, **kwds)\u001B[0m\n\u001B[1;32m    912\u001B[0m compiler \u001B[38;5;241m=\u001B[39m \u001B[38;5;124m\"\u001B[39m\u001B[38;5;124mxla\u001B[39m\u001B[38;5;124m\"\u001B[39m \u001B[38;5;28;01mif\u001B[39;00m \u001B[38;5;28mself\u001B[39m\u001B[38;5;241m.\u001B[39m_jit_compile \u001B[38;5;28;01melse\u001B[39;00m \u001B[38;5;124m\"\u001B[39m\u001B[38;5;124mnonXla\u001B[39m\u001B[38;5;124m\"\u001B[39m\n\u001B[1;32m    914\u001B[0m \u001B[38;5;28;01mwith\u001B[39;00m OptionalXlaContext(\u001B[38;5;28mself\u001B[39m\u001B[38;5;241m.\u001B[39m_jit_compile):\n\u001B[0;32m--> 915\u001B[0m   result \u001B[38;5;241m=\u001B[39m \u001B[38;5;28;43mself\u001B[39;49m\u001B[38;5;241;43m.\u001B[39;49m\u001B[43m_call\u001B[49m\u001B[43m(\u001B[49m\u001B[38;5;241;43m*\u001B[39;49m\u001B[43margs\u001B[49m\u001B[43m,\u001B[49m\u001B[43m \u001B[49m\u001B[38;5;241;43m*\u001B[39;49m\u001B[38;5;241;43m*\u001B[39;49m\u001B[43mkwds\u001B[49m\u001B[43m)\u001B[49m\n\u001B[1;32m    917\u001B[0m new_tracing_count \u001B[38;5;241m=\u001B[39m \u001B[38;5;28mself\u001B[39m\u001B[38;5;241m.\u001B[39mexperimental_get_tracing_count()\n\u001B[1;32m    918\u001B[0m without_tracing \u001B[38;5;241m=\u001B[39m (tracing_count \u001B[38;5;241m==\u001B[39m new_tracing_count)\n",
      "File \u001B[0;32m~/opt/anaconda3/envs/ml/lib/python3.9/site-packages/tensorflow/python/eager/def_function.py:947\u001B[0m, in \u001B[0;36mFunction._call\u001B[0;34m(self, *args, **kwds)\u001B[0m\n\u001B[1;32m    944\u001B[0m   \u001B[38;5;28mself\u001B[39m\u001B[38;5;241m.\u001B[39m_lock\u001B[38;5;241m.\u001B[39mrelease()\n\u001B[1;32m    945\u001B[0m   \u001B[38;5;66;03m# In this case we have created variables on the first call, so we run the\u001B[39;00m\n\u001B[1;32m    946\u001B[0m   \u001B[38;5;66;03m# defunned version which is guaranteed to never create variables.\u001B[39;00m\n\u001B[0;32m--> 947\u001B[0m   \u001B[38;5;28;01mreturn\u001B[39;00m \u001B[38;5;28;43mself\u001B[39;49m\u001B[38;5;241;43m.\u001B[39;49m\u001B[43m_stateless_fn\u001B[49m\u001B[43m(\u001B[49m\u001B[38;5;241;43m*\u001B[39;49m\u001B[43margs\u001B[49m\u001B[43m,\u001B[49m\u001B[43m \u001B[49m\u001B[38;5;241;43m*\u001B[39;49m\u001B[38;5;241;43m*\u001B[39;49m\u001B[43mkwds\u001B[49m\u001B[43m)\u001B[49m  \u001B[38;5;66;03m# pylint: disable=not-callable\u001B[39;00m\n\u001B[1;32m    948\u001B[0m \u001B[38;5;28;01melif\u001B[39;00m \u001B[38;5;28mself\u001B[39m\u001B[38;5;241m.\u001B[39m_stateful_fn \u001B[38;5;129;01mis\u001B[39;00m \u001B[38;5;129;01mnot\u001B[39;00m \u001B[38;5;28;01mNone\u001B[39;00m:\n\u001B[1;32m    949\u001B[0m   \u001B[38;5;66;03m# Release the lock early so that multiple threads can perform the call\u001B[39;00m\n\u001B[1;32m    950\u001B[0m   \u001B[38;5;66;03m# in parallel.\u001B[39;00m\n\u001B[1;32m    951\u001B[0m   \u001B[38;5;28mself\u001B[39m\u001B[38;5;241m.\u001B[39m_lock\u001B[38;5;241m.\u001B[39mrelease()\n",
      "File \u001B[0;32m~/opt/anaconda3/envs/ml/lib/python3.9/site-packages/tensorflow/python/eager/function.py:2453\u001B[0m, in \u001B[0;36mFunction.__call__\u001B[0;34m(self, *args, **kwargs)\u001B[0m\n\u001B[1;32m   2450\u001B[0m \u001B[38;5;28;01mwith\u001B[39;00m \u001B[38;5;28mself\u001B[39m\u001B[38;5;241m.\u001B[39m_lock:\n\u001B[1;32m   2451\u001B[0m   (graph_function,\n\u001B[1;32m   2452\u001B[0m    filtered_flat_args) \u001B[38;5;241m=\u001B[39m \u001B[38;5;28mself\u001B[39m\u001B[38;5;241m.\u001B[39m_maybe_define_function(args, kwargs)\n\u001B[0;32m-> 2453\u001B[0m \u001B[38;5;28;01mreturn\u001B[39;00m \u001B[43mgraph_function\u001B[49m\u001B[38;5;241;43m.\u001B[39;49m\u001B[43m_call_flat\u001B[49m\u001B[43m(\u001B[49m\n\u001B[1;32m   2454\u001B[0m \u001B[43m    \u001B[49m\u001B[43mfiltered_flat_args\u001B[49m\u001B[43m,\u001B[49m\u001B[43m \u001B[49m\u001B[43mcaptured_inputs\u001B[49m\u001B[38;5;241;43m=\u001B[39;49m\u001B[43mgraph_function\u001B[49m\u001B[38;5;241;43m.\u001B[39;49m\u001B[43mcaptured_inputs\u001B[49m\u001B[43m)\u001B[49m\n",
      "File \u001B[0;32m~/opt/anaconda3/envs/ml/lib/python3.9/site-packages/tensorflow/python/eager/function.py:1860\u001B[0m, in \u001B[0;36mConcreteFunction._call_flat\u001B[0;34m(self, args, captured_inputs, cancellation_manager)\u001B[0m\n\u001B[1;32m   1856\u001B[0m possible_gradient_type \u001B[38;5;241m=\u001B[39m gradients_util\u001B[38;5;241m.\u001B[39mPossibleTapeGradientTypes(args)\n\u001B[1;32m   1857\u001B[0m \u001B[38;5;28;01mif\u001B[39;00m (possible_gradient_type \u001B[38;5;241m==\u001B[39m gradients_util\u001B[38;5;241m.\u001B[39mPOSSIBLE_GRADIENT_TYPES_NONE\n\u001B[1;32m   1858\u001B[0m     \u001B[38;5;129;01mand\u001B[39;00m executing_eagerly):\n\u001B[1;32m   1859\u001B[0m   \u001B[38;5;66;03m# No tape is watching; skip to running the function.\u001B[39;00m\n\u001B[0;32m-> 1860\u001B[0m   \u001B[38;5;28;01mreturn\u001B[39;00m \u001B[38;5;28mself\u001B[39m\u001B[38;5;241m.\u001B[39m_build_call_outputs(\u001B[38;5;28;43mself\u001B[39;49m\u001B[38;5;241;43m.\u001B[39;49m\u001B[43m_inference_function\u001B[49m\u001B[38;5;241;43m.\u001B[39;49m\u001B[43mcall\u001B[49m\u001B[43m(\u001B[49m\n\u001B[1;32m   1861\u001B[0m \u001B[43m      \u001B[49m\u001B[43mctx\u001B[49m\u001B[43m,\u001B[49m\u001B[43m \u001B[49m\u001B[43margs\u001B[49m\u001B[43m,\u001B[49m\u001B[43m \u001B[49m\u001B[43mcancellation_manager\u001B[49m\u001B[38;5;241;43m=\u001B[39;49m\u001B[43mcancellation_manager\u001B[49m\u001B[43m)\u001B[49m)\n\u001B[1;32m   1862\u001B[0m forward_backward \u001B[38;5;241m=\u001B[39m \u001B[38;5;28mself\u001B[39m\u001B[38;5;241m.\u001B[39m_select_forward_and_backward_functions(\n\u001B[1;32m   1863\u001B[0m     args,\n\u001B[1;32m   1864\u001B[0m     possible_gradient_type,\n\u001B[1;32m   1865\u001B[0m     executing_eagerly)\n\u001B[1;32m   1866\u001B[0m forward_function, args_with_tangents \u001B[38;5;241m=\u001B[39m forward_backward\u001B[38;5;241m.\u001B[39mforward()\n",
      "File \u001B[0;32m~/opt/anaconda3/envs/ml/lib/python3.9/site-packages/tensorflow/python/eager/function.py:497\u001B[0m, in \u001B[0;36m_EagerDefinedFunction.call\u001B[0;34m(self, ctx, args, cancellation_manager)\u001B[0m\n\u001B[1;32m    495\u001B[0m \u001B[38;5;28;01mwith\u001B[39;00m _InterpolateFunctionError(\u001B[38;5;28mself\u001B[39m):\n\u001B[1;32m    496\u001B[0m   \u001B[38;5;28;01mif\u001B[39;00m cancellation_manager \u001B[38;5;129;01mis\u001B[39;00m \u001B[38;5;28;01mNone\u001B[39;00m:\n\u001B[0;32m--> 497\u001B[0m     outputs \u001B[38;5;241m=\u001B[39m \u001B[43mexecute\u001B[49m\u001B[38;5;241;43m.\u001B[39;49m\u001B[43mexecute\u001B[49m\u001B[43m(\u001B[49m\n\u001B[1;32m    498\u001B[0m \u001B[43m        \u001B[49m\u001B[38;5;28;43mstr\u001B[39;49m\u001B[43m(\u001B[49m\u001B[38;5;28;43mself\u001B[39;49m\u001B[38;5;241;43m.\u001B[39;49m\u001B[43msignature\u001B[49m\u001B[38;5;241;43m.\u001B[39;49m\u001B[43mname\u001B[49m\u001B[43m)\u001B[49m\u001B[43m,\u001B[49m\n\u001B[1;32m    499\u001B[0m \u001B[43m        \u001B[49m\u001B[43mnum_outputs\u001B[49m\u001B[38;5;241;43m=\u001B[39;49m\u001B[38;5;28;43mself\u001B[39;49m\u001B[38;5;241;43m.\u001B[39;49m\u001B[43m_num_outputs\u001B[49m\u001B[43m,\u001B[49m\n\u001B[1;32m    500\u001B[0m \u001B[43m        \u001B[49m\u001B[43minputs\u001B[49m\u001B[38;5;241;43m=\u001B[39;49m\u001B[43margs\u001B[49m\u001B[43m,\u001B[49m\n\u001B[1;32m    501\u001B[0m \u001B[43m        \u001B[49m\u001B[43mattrs\u001B[49m\u001B[38;5;241;43m=\u001B[39;49m\u001B[43mattrs\u001B[49m\u001B[43m,\u001B[49m\n\u001B[1;32m    502\u001B[0m \u001B[43m        \u001B[49m\u001B[43mctx\u001B[49m\u001B[38;5;241;43m=\u001B[39;49m\u001B[43mctx\u001B[49m\u001B[43m)\u001B[49m\n\u001B[1;32m    503\u001B[0m   \u001B[38;5;28;01melse\u001B[39;00m:\n\u001B[1;32m    504\u001B[0m     outputs \u001B[38;5;241m=\u001B[39m execute\u001B[38;5;241m.\u001B[39mexecute_with_cancellation(\n\u001B[1;32m    505\u001B[0m         \u001B[38;5;28mstr\u001B[39m(\u001B[38;5;28mself\u001B[39m\u001B[38;5;241m.\u001B[39msignature\u001B[38;5;241m.\u001B[39mname),\n\u001B[1;32m    506\u001B[0m         num_outputs\u001B[38;5;241m=\u001B[39m\u001B[38;5;28mself\u001B[39m\u001B[38;5;241m.\u001B[39m_num_outputs,\n\u001B[0;32m   (...)\u001B[0m\n\u001B[1;32m    509\u001B[0m         ctx\u001B[38;5;241m=\u001B[39mctx,\n\u001B[1;32m    510\u001B[0m         cancellation_manager\u001B[38;5;241m=\u001B[39mcancellation_manager)\n",
      "File \u001B[0;32m~/opt/anaconda3/envs/ml/lib/python3.9/site-packages/tensorflow/python/eager/execute.py:54\u001B[0m, in \u001B[0;36mquick_execute\u001B[0;34m(op_name, num_outputs, inputs, attrs, ctx, name)\u001B[0m\n\u001B[1;32m     52\u001B[0m \u001B[38;5;28;01mtry\u001B[39;00m:\n\u001B[1;32m     53\u001B[0m   ctx\u001B[38;5;241m.\u001B[39mensure_initialized()\n\u001B[0;32m---> 54\u001B[0m   tensors \u001B[38;5;241m=\u001B[39m \u001B[43mpywrap_tfe\u001B[49m\u001B[38;5;241;43m.\u001B[39;49m\u001B[43mTFE_Py_Execute\u001B[49m\u001B[43m(\u001B[49m\u001B[43mctx\u001B[49m\u001B[38;5;241;43m.\u001B[39;49m\u001B[43m_handle\u001B[49m\u001B[43m,\u001B[49m\u001B[43m \u001B[49m\u001B[43mdevice_name\u001B[49m\u001B[43m,\u001B[49m\u001B[43m \u001B[49m\u001B[43mop_name\u001B[49m\u001B[43m,\u001B[49m\n\u001B[1;32m     55\u001B[0m \u001B[43m                                      \u001B[49m\u001B[43minputs\u001B[49m\u001B[43m,\u001B[49m\u001B[43m \u001B[49m\u001B[43mattrs\u001B[49m\u001B[43m,\u001B[49m\u001B[43m \u001B[49m\u001B[43mnum_outputs\u001B[49m\u001B[43m)\u001B[49m\n\u001B[1;32m     56\u001B[0m \u001B[38;5;28;01mexcept\u001B[39;00m core\u001B[38;5;241m.\u001B[39m_NotOkStatusException \u001B[38;5;28;01mas\u001B[39;00m e:\n\u001B[1;32m     57\u001B[0m   \u001B[38;5;28;01mif\u001B[39;00m name \u001B[38;5;129;01mis\u001B[39;00m \u001B[38;5;129;01mnot\u001B[39;00m \u001B[38;5;28;01mNone\u001B[39;00m:\n",
      "\u001B[0;31mKeyboardInterrupt\u001B[0m: "
     ]
    }
   ],
   "source": [
    "lr_s_cb = LearningRateScheduler(schedule)\n",
    "\n",
    "history = model.fit(x_train, y_train, epochs=15,\n",
    "                    callbacks=[lr_s_cb],verbose=0)\n",
    "round(model.optimizer.lr.numpy(), 5)"
   ]
  },
  {
   "cell_type": "markdown",
   "metadata": {
    "id": "A31OUv_C-QHX",
    "pycharm": {
     "name": "#%% md\n"
    }
   },
   "source": [
    "### Tensorboard\n",
    "- 텐서보드를 이용하여 학습과정 모니터링"
   ]
  },
  {
   "cell_type": "markdown",
   "metadata": {
    "id": "CcDhXXgn_W2F",
    "pycharm": {
     "name": "#%% md\n"
    }
   },
   "source": [
    "텐서보드를 사용하기 위해 logs폴더를 만들고, 학습이 진행되는 동안 로그 파일을 생성"
   ]
  },
  {
   "cell_type": "code",
   "execution_count": 113,
   "metadata": {
    "id": "zc38Lumyqclb",
    "pycharm": {
     "name": "#%%\n"
    }
   },
   "outputs": [
    {
     "data": {
      "text/plain": "<keras.callbacks.TensorBoard at 0x308cceee0>"
     },
     "execution_count": 113,
     "metadata": {},
     "output_type": "execute_result"
    }
   ],
   "source": [
    "TensorBoard(log_dir='.loss', histogram_freq=0,  write_graph=True, write_images=True)"
   ]
  },
  {
   "cell_type": "code",
   "execution_count": 115,
   "metadata": {
    "id": "XS1P1aDdqcgb",
    "pycharm": {
     "name": "#%%\n"
    }
   },
   "outputs": [
    {
     "name": "stdout",
     "output_type": "stream",
     "text": [
      "Epoch 1/5\n",
      "  12/1313 [..............................] - ETA: 12s - loss: 2.3026 - acc: 0.1094"
     ]
    },
    {
     "name": "stderr",
     "output_type": "stream",
     "text": [
      "2022-08-11 23:52:32.617951: I tensorflow/core/grappler/optimizers/custom_graph_optimizer_registry.cc:113] Plugin optimizer for device_type GPU is enabled.\n"
     ]
    },
    {
     "name": "stdout",
     "output_type": "stream",
     "text": [
      "1312/1313 [============================>.] - ETA: 0s - loss: 0.8460 - acc: 0.7566"
     ]
    },
    {
     "name": "stderr",
     "output_type": "stream",
     "text": [
      "2022-08-11 23:52:43.760590: I tensorflow/core/grappler/optimizers/custom_graph_optimizer_registry.cc:113] Plugin optimizer for device_type GPU is enabled.\n"
     ]
    },
    {
     "name": "stdout",
     "output_type": "stream",
     "text": [
      "1313/1313 [==============================] - 15s 12ms/step - loss: 0.8458 - acc: 0.7566 - val_loss: 0.3900 - val_acc: 0.8843\n",
      "Epoch 2/5\n",
      "1313/1313 [==============================] - 15s 11ms/step - loss: 0.3370 - acc: 0.9024 - val_loss: 0.3033 - val_acc: 0.9117\n",
      "Epoch 3/5\n",
      "1313/1313 [==============================] - 14s 11ms/step - loss: 0.2688 - acc: 0.9225 - val_loss: 0.2481 - val_acc: 0.9297\n",
      "Epoch 4/5\n",
      "1313/1313 [==============================] - 14s 11ms/step - loss: 0.2272 - acc: 0.9347 - val_loss: 0.2280 - val_acc: 0.9334\n",
      "Epoch 5/5\n",
      "1313/1313 [==============================] - 14s 10ms/step - loss: 0.1984 - acc: 0.9429 - val_loss: 0.2003 - val_acc: 0.9413\n"
     ]
    }
   ],
   "source": [
    "log_dir = './logs'\n",
    "\n",
    "tensor_board_cb = [TensorBoard(log_dir=log_dir, histogram_freq=1,  write_graph=True, write_images=True)]\n",
    "\n",
    "\n",
    "model = build_mode()\n",
    "\n",
    "history = model.fit(\n",
    "    x_train, y_train, epochs=5\n",
    "    , validation_data=(x_val, y_val), batch_size=32, callbacks=tensor_board_cb\n",
    ")"
   ]
  },
  {
   "cell_type": "code",
   "execution_count": 116,
   "metadata": {
    "id": "veufv36_BiZM",
    "pycharm": {
     "name": "#%%\n"
    }
   },
   "outputs": [],
   "source": [
    "log_dir = './logs'\n",
    "%load_ext tensorboard"
   ]
  },
  {
   "cell_type": "markdown",
   "metadata": {
    "id": "nkmm5b03CBQb",
    "pycharm": {
     "name": "#%% md\n"
    }
   },
   "source": [
    "load하는데 시간 소요\n",
    "\n",
    "- load가 안된다면 port번호를 바꿔서 실행!  \n",
    "  ex) %tensorboard --logdir {log_dir} port 8000"
   ]
  },
  {
   "cell_type": "code",
   "execution_count": 120,
   "metadata": {
    "pycharm": {
     "name": "#%%\n"
    }
   },
   "outputs": [
    {
     "data": {
      "text/plain": "Launching TensorBoard..."
     },
     "metadata": {},
     "output_type": "display_data"
    },
    {
     "data": {
      "text/plain": "<IPython.core.display.HTML object>",
      "text/html": "\n      <iframe id=\"tensorboard-frame-6ac493e62f46c187\" width=\"100%\" height=\"800\" frameborder=\"0\">\n      </iframe>\n      <script>\n        (function() {\n          const frame = document.getElementById(\"tensorboard-frame-6ac493e62f46c187\");\n          const url = new URL(\"/\", window.location);\n          const port = 6006;\n          if (port) {\n            url.port = port;\n          }\n          frame.src = url;\n        })();\n      </script>\n    "
     },
     "metadata": {},
     "output_type": "display_data"
    }
   ],
   "source": [
    "%tensorboard --logdir {log_dir}"
   ]
  },
  {
   "cell_type": "code",
   "execution_count": null,
   "metadata": {
    "pycharm": {
     "name": "#%%\n"
    }
   },
   "outputs": [],
   "source": []
  }
 ],
 "metadata": {
  "colab": {
   "collapsed_sections": [],
   "name": "_3 케라스(Keras) 기초부터 모델 생성까지.ipynb",
   "provenance": []
  },
  "kernelspec": {
   "display_name": "Python 3 (ipykernel)",
   "language": "python",
   "name": "python3"
  },
  "language_info": {
   "codemirror_mode": {
    "name": "ipython",
    "version": 3
   },
   "file_extension": ".py",
   "mimetype": "text/x-python",
   "name": "python",
   "nbconvert_exporter": "python",
   "pygments_lexer": "ipython3",
   "version": "3.9.12"
  }
 },
 "nbformat": 4,
 "nbformat_minor": 1
}